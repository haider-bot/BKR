{
 "cells": [
  {
   "cell_type": "code",
   "execution_count": null,
   "id": "c34bdbab",
   "metadata": {},
   "outputs": [],
   "source": [
    "import time\n",
    "import numpy as np\n",
    "import heapq\n",
    "from ipywidgets import interact, FloatSlider, VBox, HTML\n",
    "from grid.robot.aerial.airgen_drone import AirGenDrone\n",
    "import tensorflow as tf\n",
    "from tensorflow.keras.models import Sequential\n",
    "from tensorflow.keras.layers import Dense"
   ]
  },
  {
   "cell_type": "code",
   "execution_count": null,
   "id": "03c457bb",
   "metadata": {},
   "outputs": [],
   "source": [
    "# =============================== Lidar и Скорость дрона ===============================\r\n",
    "\r\n",
    "# Класс для управления скоростью дрона\r\n",
    "class Velocity:\r\n",
    "    def __init__(self, x_vel=0.0, y_vel=0.0, z_vel=0.0):\r\n",
    "        self.x_vel = x_vel\r\n",
    "        self.y_vel = y_vel\r\n",
    "        self.z_vel = z_vel\r\n",
    "\r\n",
    "# Симуляция LiDAR для обнаружения препятствий\r\n",
    "def simulated_lidar_scan(position, radius=5.0):\r\n",
    "    obstacles = [\r\n",
    "        (2, 2, 1),\r\n",
    "        (4, 4, 1)\r\n",
    "    ]\r\n",
    "    return [obs for obs in obstacles if np.linalg.norm(np.subtract(obs, position)) <= radius]"
   ]
  },
  {
   "cell_type": "code",
   "execution_count": null,
   "id": "6ac752b4",
   "metadata": {},
   "outputs": [],
   "source": [
    "# =============================== Алгоритм поиска пути A* ===============================\r\n",
    "\r\n",
    "# Алгоритм A* для поиска пути на 2D-сетке\r\n",
    "def astar(start, goal, obstacles, bounds=(-10, 10)):\r\n",
    "    def neighbors(node):\r\n",
    "        x, y = node\r\n",
    "        for dx, dy in [(-1,0),(1,0),(0,-1),(0,1)]:\r\n",
    "            nx, ny = x + dx, y + dy\r\n",
    "            if bounds[0] <= nx <= bounds[1] and bounds[0] <= ny <= bounds[1]:\r\n",
    "                yield (nx, ny)\r\n",
    "\r\n",
    "    def heuristic(a, b):\r\n",
    "        return np.linalg.norm(np.subtract(a, b))\r\n",
    "\r\n",
    "    start = tuple(map(int, start[:2]))\r\n",
    "    goal = tuple(map(int, goal[:2]))\r\n",
    "    obs_set = {tuple(map(int, o[:2])) for o in obstacles}\r\n",
    "\r\n",
    "    frontier = [(0, start)]\r\n",
    "    came_from = {start: None}\r\n",
    "    cost_so_far = {start: 0}\r\n",
    "\r\n",
    "    while frontier:\r\n",
    "        _, current = heapq.heappop(frontier)\r\n",
    "        if current == goal:\r\n",
    "            break\r\n",
    "        for next_node in neighbors(current):\r\n",
    "            if next_node in obs_set:\r\n",
    "                continue\r\n",
    "            new_cost = cost_so_far[current] + 1\r\n",
    "            if next_node not in cost_so_far or new_cost < cost_so_far[next_node]:\r\n",
    "                cost_so_far[next_node] = new_cost\r\n",
    "                priority = new_cost + heuristic(goal, next_node)\r\n",
    "                heapq.heappush(frontier, (priority, next_node))\r\n",
    "                came_from[next_node] = current\r\n",
    "\r\n",
    "    node = goal\r\n",
    "    path = []\r\n",
    "    while node:\r\n",
    "        path.append((node[0], node[1], start_pos[2]))  # фиксируем высоту\r\n",
    "        node = came_from.get(node)\r\n",
    "    return path[::-1] if path else []\r\n"
   ]
  },
  {
   "cell_type": "code",
   "execution_count": null,
   "id": "e7a16a4d",
   "metadata": {},
   "outputs": [
    {
     "name": "stdout",
     "output_type": "stream",
     "text": [
      "Epoch 1/10\n"
     ]
    },
    {
     "name": "stdout",
     "output_type": "stream",
     "text": [
      "\r",
      "\u001b[1m1/4\u001b[0m \u001b[32m━━━━━\u001b[0m\u001b[37m━━━━━━━━━━━━━━━\u001b[0m \u001b[1m3s\u001b[0m 1s/step - accuracy: 0.5000 - loss: 0.7089"
     ]
    },
    {
     "name": "stdout",
     "output_type": "stream",
     "text": [
      "\b\b\b\b\b\b\b\b\b\b\b\b\b\b\b\b\b\b\b\b\b\b\b\b\b\b\b\b\b\b\b\b\b\b\b\b\b\b\b\b\b\b\b\b\b\b\b\b\b\b\b\b\b\b\b\b\b\b\b\b\b\b\b\b\b\b\b\b\b\r",
      "\u001b[1m4/4\u001b[0m \u001b[32m━━━━━━━━━━━━━━━━━━━━\u001b[0m\u001b[37m\u001b[0m \u001b[1m1s\u001b[0m 8ms/step - accuracy: 0.4788 - loss: 0.7038\n"
     ]
    },
    {
     "name": "stdout",
     "output_type": "stream",
     "text": [
      "Epoch 2/10\n"
     ]
    },
    {
     "name": "stdout",
     "output_type": "stream",
     "text": [
      "\r",
      "\u001b[1m1/4\u001b[0m \u001b[32m━━━━━\u001b[0m\u001b[37m━━━━━━━━━━━━━━━\u001b[0m \u001b[1m0s\u001b[0m 35ms/step - accuracy: 0.5312 - loss: 0.6944"
     ]
    },
    {
     "name": "stdout",
     "output_type": "stream",
     "text": [
      "\b\b\b\b\b\b\b\b\b\b\b\b\b\b\b\b\b\b\b\b\b\b\b\b\b\b\b\b\b\b\b\b\b\b\b\b\b\b\b\b\b\b\b\b\b\b\b\b\b\b\b\b\b\b\b\b\b\b\b\b\b\b\b\b\b\b\b\b\b\b\b\r",
      "\u001b[1m4/4\u001b[0m \u001b[32m━━━━━━━━━━━━━━━━━━━━\u001b[0m\u001b[37m\u001b[0m \u001b[1m0s\u001b[0m 8ms/step - accuracy: 0.5269 - loss: 0.6938 \n"
     ]
    },
    {
     "name": "stdout",
     "output_type": "stream",
     "text": [
      "Epoch 3/10\n"
     ]
    },
    {
     "name": "stdout",
     "output_type": "stream",
     "text": [
      "\r",
      "\u001b[1m1/4\u001b[0m \u001b[32m━━━━━\u001b[0m\u001b[37m━━━━━━━━━━━━━━━\u001b[0m \u001b[1m0s\u001b[0m 30ms/step - accuracy: 0.3438 - loss: 0.6916"
     ]
    },
    {
     "name": "stdout",
     "output_type": "stream",
     "text": [
      "\b\b\b\b\b\b\b\b\b\b\b\b\b\b\b\b\b\b\b\b\b\b\b\b\b\b\b\b\b\b\b\b\b\b\b\b\b\b\b\b\b\b\b\b\b\b\b\b\b\b\b\b\b\b\b\b\b\b\b\b\b\b\b\b\b\b\b\b\b\b\b\r",
      "\u001b[1m4/4\u001b[0m \u001b[32m━━━━━━━━━━━━━━━━━━━━\u001b[0m\u001b[37m\u001b[0m \u001b[1m0s\u001b[0m 9ms/step - accuracy: 0.4766 - loss: 0.6900 \n"
     ]
    },
    {
     "name": "stdout",
     "output_type": "stream",
     "text": [
      "Epoch 4/10\n"
     ]
    },
    {
     "name": "stdout",
     "output_type": "stream",
     "text": [
      "\r",
      "\u001b[1m1/4\u001b[0m \u001b[32m━━━━━\u001b[0m\u001b[37m━━━━━━━━━━━━━━━\u001b[0m \u001b[1m0s\u001b[0m 27ms/step - accuracy: 0.6875 - loss: 0.6776"
     ]
    },
    {
     "name": "stdout",
     "output_type": "stream",
     "text": [
      "\b\b\b\b\b\b\b\b\b\b\b\b\b\b\b\b\b\b\b\b\b\b\b\b\b\b\b\b\b\b\b\b\b\b\b\b\b\b\b\b\b\b\b\b\b\b\b\b\b\b\b\b\b\b\b\b\b\b\b\b\b\b\b\b\b\b\b\b\b\b\b\r",
      "\u001b[1m4/4\u001b[0m \u001b[32m━━━━━━━━━━━━━━━━━━━━\u001b[0m\u001b[37m\u001b[0m \u001b[1m0s\u001b[0m 8ms/step - accuracy: 0.5834 - loss: 0.6860 \n"
     ]
    },
    {
     "name": "stdout",
     "output_type": "stream",
     "text": [
      "Epoch 5/10\n"
     ]
    },
    {
     "name": "stdout",
     "output_type": "stream",
     "text": [
      "\r",
      "\u001b[1m1/4\u001b[0m \u001b[32m━━━━━\u001b[0m\u001b[37m━━━━━━━━━━━━━━━\u001b[0m \u001b[1m0s\u001b[0m 41ms/step - accuracy: 0.5312 - loss: 0.6943"
     ]
    },
    {
     "name": "stdout",
     "output_type": "stream",
     "text": [
      "\b\b\b\b\b\b\b\b\b\b\b\b\b\b\b\b\b\b\b\b\b\b\b\b\b\b\b\b\b\b\b\b\b\b\b\b\b\b\b\b\b\b\b\b\b\b\b\b\b\b\b\b\b\b\b\b\b\b\b\b\b\b\b\b\b\b\b\b\b\b\b\r",
      "\u001b[1m4/4\u001b[0m \u001b[32m━━━━━━━━━━━━━━━━━━━━\u001b[0m\u001b[37m\u001b[0m \u001b[1m0s\u001b[0m 7ms/step - accuracy: 0.5584 - loss: 0.6854 \n"
     ]
    },
    {
     "name": "stdout",
     "output_type": "stream",
     "text": [
      "Epoch 6/10\n"
     ]
    },
    {
     "name": "stdout",
     "output_type": "stream",
     "text": [
      "\r",
      "\u001b[1m1/4\u001b[0m \u001b[32m━━━━━\u001b[0m\u001b[37m━━━━━━━━━━━━━━━\u001b[0m \u001b[1m0s\u001b[0m 21ms/step - accuracy: 0.5312 - loss: 0.6945"
     ]
    },
    {
     "name": "stdout",
     "output_type": "stream",
     "text": [
      "\b\b\b\b\b\b\b\b\b\b\b\b\b\b\b\b\b\b\b\b\b\b\b\b\b\b\b\b\b\b\b\b\b\b\b\b\b\b\b\b\b\b\b\b\b\b\b\b\b\b\b\b\b\b\b\b\b\b\b\b\b\b\b\b\b\b\b\b\b\b\b\r",
      "\u001b[1m4/4\u001b[0m \u001b[32m━━━━━━━━━━━━━━━━━━━━\u001b[0m\u001b[37m\u001b[0m \u001b[1m0s\u001b[0m 9ms/step - accuracy: 0.5511 - loss: 0.6860 \n"
     ]
    },
    {
     "name": "stdout",
     "output_type": "stream",
     "text": [
      "Epoch 7/10\n"
     ]
    },
    {
     "name": "stdout",
     "output_type": "stream",
     "text": [
      "\r",
      "\u001b[1m1/4\u001b[0m \u001b[32m━━━━━\u001b[0m\u001b[37m━━━━━━━━━━━━━━━\u001b[0m \u001b[1m0s\u001b[0m 26ms/step - accuracy: 0.5312 - loss: 0.6896"
     ]
    },
    {
     "name": "stdout",
     "output_type": "stream",
     "text": [
      "\b\b\b\b\b\b\b\b\b\b\b\b\b\b\b\b\b\b\b\b\b\b\b\b\b\b\b\b\b\b\b\b\b\b\b\b\b\b\b\b\b\b\b\b\b\b\b\b\b\b\b\b\b\b\b\b\b\b\b\b\b\b\b\b\b\b\b\b\b\b\b\r",
      "\u001b[1m4/4\u001b[0m \u001b[32m━━━━━━━━━━━━━━━━━━━━\u001b[0m\u001b[37m\u001b[0m \u001b[1m0s\u001b[0m 7ms/step - accuracy: 0.5563 - loss: 0.6830 \n"
     ]
    },
    {
     "name": "stdout",
     "output_type": "stream",
     "text": [
      "Epoch 8/10\n"
     ]
    },
    {
     "name": "stdout",
     "output_type": "stream",
     "text": [
      "\r",
      "\u001b[1m1/4\u001b[0m \u001b[32m━━━━━\u001b[0m\u001b[37m━━━━━━━━━━━━━━━\u001b[0m \u001b[1m0s\u001b[0m 20ms/step - accuracy: 0.6562 - loss: 0.6629"
     ]
    },
    {
     "name": "stdout",
     "output_type": "stream",
     "text": [
      "\b\b\b\b\b\b\b\b\b\b\b\b\b\b\b\b\b\b\b\b\b\b\b\b\b\b\b\b\b\b\b\b\b\b\b\b\b\b\b\b\b\b\b\b\b\b\b\b\b\b\b\b\b\b\b\b\b\b\b\b\b\b\b\b\b\b\b\b\b\b\b\r",
      "\u001b[1m4/4\u001b[0m \u001b[32m━━━━━━━━━━━━━━━━━━━━\u001b[0m\u001b[37m\u001b[0m \u001b[1m0s\u001b[0m 8ms/step - accuracy: 0.5844 - loss: 0.6763 \n"
     ]
    },
    {
     "name": "stdout",
     "output_type": "stream",
     "text": [
      "Epoch 9/10\n"
     ]
    },
    {
     "name": "stdout",
     "output_type": "stream",
     "text": [
      "\r",
      "\u001b[1m1/4\u001b[0m \u001b[32m━━━━━\u001b[0m\u001b[37m━━━━━━━━━━━━━━━\u001b[0m \u001b[1m0s\u001b[0m 22ms/step - accuracy: 0.5625 - loss: 0.6733"
     ]
    },
    {
     "name": "stdout",
     "output_type": "stream",
     "text": [
      "\b\b\b\b\b\b\b\b\b\b\b\b\b\b\b\b\b\b\b\b\b\b\b\b\b\b\b\b\b\b\b\b\b\b\b\b\b\b\b\b\b\b\b\b\b\b\b\b\b\b\b\b\b\b\b\b\b\b\b\b\b\b\b\b\b\b\b\b\b\b\b\r",
      "\u001b[1m4/4\u001b[0m \u001b[32m━━━━━━━━━━━━━━━━━━━━\u001b[0m\u001b[37m\u001b[0m \u001b[1m0s\u001b[0m 7ms/step - accuracy: 0.5677 - loss: 0.6763 \n"
     ]
    },
    {
     "name": "stdout",
     "output_type": "stream",
     "text": [
      "Epoch 10/10\n"
     ]
    },
    {
     "name": "stdout",
     "output_type": "stream",
     "text": [
      "\r",
      "\u001b[1m1/4\u001b[0m \u001b[32m━━━━━\u001b[0m\u001b[37m━━━━━━━━━━━━━━━\u001b[0m \u001b[1m0s\u001b[0m 25ms/step - accuracy: 0.5625 - loss: 0.6789"
     ]
    },
    {
     "name": "stdout",
     "output_type": "stream",
     "text": [
      "\b\b\b\b\b\b\b\b\b\b\b\b\b\b\b\b\b\b\b\b\b\b\b\b\b\b\b\b\b\b\b\b\b\b\b\b\b\b\b\b\b\b\b\b\b\b\b\b\b\b\b\b\b\b\b\b\b\b\b\b\b\b\b\b\b\b\b\b\b\b\b\r",
      "\u001b[1m4/4\u001b[0m \u001b[32m━━━━━━━━━━━━━━━━━━━━\u001b[0m\u001b[37m\u001b[0m \u001b[1m0s\u001b[0m 10ms/step - accuracy: 0.5594 - loss: 0.6796\n"
     ]
    },
    {
     "data": {
      "text/plain": [
       "<keras.src.callbacks.history.History at 0x7f497df0e9d0>"
      ]
     },
     "execution_count": 1,
     "metadata": {},
     "output_type": "execute_result"
    }
   ],
   "source": [
    "# =============================== Обучение модели ML (пример) ===============================\r\n",
    "\r\n",
    "# Пример данных для обучения (замените на свои данные)\r\n",
    "data = np.random.rand(100, 3)  # Пример входных данных (координаты)\r\n",
    "labels = np.random.randint(0, 2, size=100)  # Пример меток (безопасный маршрут или нет)\r\n",
    "\r\n",
    "# Создание модели\r\n",
    "model = Sequential([\r\n",
    "    Dense(64, activation='relu', input_shape=(3,)),\r\n",
    "    Dense(64, activation='relu'),\r\n",
    "    Dense(1, activation='sigmoid')\r\n",
    "])\r\n",
    "\r\n",
    "# Компиляция модели\r\n",
    "model.compile(optimizer='adam', loss='binary_crossentropy', metrics=['accuracy'])\r\n",
    "\r\n",
    "# Обучение модели\r\n",
    "model.fit(data, labels, epochs=10, batch_size=32)\r\n"
   ]
  },
  {
   "cell_type": "code",
   "execution_count": null,
   "id": "bdccd07b",
   "metadata": {},
   "outputs": [
    {
     "name": "stdout",
     "output_type": "stream",
     "text": [
      "Целевая точка установлена: [5.0, 5.0, 3.0]\n"
     ]
    },
    {
     "data": {
      "application/vnd.jupyter.widget-view+json": {
       "model_id": "132ad0367bdf4993be2d1185729b06e8",
       "version_major": 2,
       "version_minor": 0
      },
      "text/plain": [
       "interactive(children=(FloatSlider(value=5.0, description='X:', max=10.0, min=-10.0, step=1.0), FloatSlider(val…"
      ]
     },
     "metadata": {},
     "output_type": "display_data"
    }
   ],
   "source": [
    "# =============================== Интерфейс пользователя ===============================\r\n",
    "\r\n",
    "# Глобальные переменные для стартовой и целевой позиции\r\n",
    "start_pos = [0.0, 0.0, 1.0]\r\n",
    "target_pos = [5.0, 5.0, 3.0]\r\n",
    "\r\n",
    "# Интерфейс для ввода целевой точки\r\n",
    "@interact(\r\n",
    "    x=FloatSlider(min=-10, max=10, step=1, value=5, description='X:'),\r\n",
    "    y=FloatSlider(min=-10, max=10, step=1, value=5, description='Y:'),\r\n",
    "    z=FloatSlider(min=0, max=10, step=1, value=3, description='Z:')\r\n",
    ")\r\n",
    "def set_target(x, y, z):\r\n",
    "    global target_pos\r\n",
    "    target_pos = [x, y, z]\r\n",
    "    print(f\"Целевая точка установлена: {target_pos}\")\r\n"
   ]
  },
  {
   "cell_type": "code",
   "execution_count": null,
   "id": "58cd9421",
   "metadata": {},
   "outputs": [
    {
     "name": "stdout",
     "output_type": "stream",
     "text": [
      "Connected!\n",
      "Client Ver:1 (Min Req: 1), Server Ver:1 (Min Req: 1)\n",
      "\n"
     ]
    }
   ],
   "source": [
    "# =============================== Управление дроном и командами ===============================\r\n",
    "\r\n",
    "# Инициализация дрона\r\n",
    "drone = AirGenDrone()\r\n",
    "\r\n",
    "# Взлет дрона\r\n",
    "def takeoff():\r\n",
    "    print(\"Взлёт...\")\r\n",
    "    drone.takeoff()\r\n",
    "    time.sleep(1)\r\n",
    "\r\n",
    "# Посадка дрона\r\n",
    "def land():\r\n",
    "    print(\"Посадка...\")\r\n",
    "    drone.land()\r\n",
    "    time.sleep(1)\r\n",
    "\r\n",
    "# Перемещение по маршруту\r\n",
    "def fly_to_point(path, speed=1.0):\r\n",
    "    print(\"Начинаем движение по маршруту...\")\r\n",
    "    prev = path[0]\r\n",
    "    for point in path[1:]:\r\n",
    "        dx = point[0] - prev[0]\r\n",
    "        dy = point[1] - prev[1]\r\n",
    "        dz = point[2] - prev[2]\r\n",
    "\r\n",
    "        norm = np.linalg.norm([dx, dy, dz])\r\n",
    "        if norm == 0:\r\n",
    "            continue\r\n",
    "\r\n",
    "        vx = speed * dx / norm\r\n",
    "        vy = speed * dy / norm\r\n",
    "        vz = speed * dz / norm\r\n",
    "\r\n",
    "        vel = Velocity(x_vel=vx, y_vel=vy, z_vel=vz)\r\n",
    "        drone.moveByVelocity(vel, duration=1, frame='ned', blocking=True)\r\n",
    "        print(f\"➡ Движение к точке: {point}\")\r\n",
    "        prev = point\r\n",
    "        time.sleep(0.5)\r\n",
    "\r\n",
    "# Основная функция для выполнения миссии\r\n",
    "def fly_mission():\r\n",
    "    takeoff()\r\n",
    "    print(\"🔍 Сканирование окружения...\")\r\n",
    "    obstacles = simulated_lidar_scan(start_pos)\r\n",
    "    print(f\"🧱 Обнаружены препятствия: {obstacles}\")\r\n",
    "\r\n",
    "    print(\"📡 Построение безопасного маршрута...\")\r\n",
    "    path = astar(start_pos, target_pos, obstacles)\r\n",
    "    if not path:\r\n",
    "        print(\"❌ Не удалось построить маршрут. Попробуй другую цель.\")\r\n",
    "        land()\r\n",
    "        return\r\n",
    "\r\n",
    "    fly_to_point(path)\r\n",
    "    land()\r\n"
   ]
  },
  {
   "cell_type": "code",
   "execution_count": null,
   "id": "28c5eb50",
   "metadata": {},
   "outputs": [],
   "source": [
    "# =============================== Состояние БПЛА ===============================\r\n",
    "\r\n",
    "# Функция для отображения состояния БПЛА\r\n",
    "def display_drone_status(drone):\r\n",
    "    status = drone.get_status()  # Предполагается, что метод get_status() возвращает текущее состояние дрона\r\n",
    "    print(f\"Состояние БПЛА:\")\r\n",
    "    print(f\"GPS: {status['gps']}\")\r\n",
    "    print(f\"Скорость: {status['velocity']}\")\r\n",
    "    print(f\"Высота: {status['altitude']}\")\r\n",
    "    print(f\"Батарея: {status['battery']}%\")\r\n"
   ]
  },
  {
   "cell_type": "code",
   "execution_count": null,
   "id": "d0b3e144",
   "metadata": {},
   "outputs": [
    {
     "name": "stdout",
     "output_type": "stream",
     "text": [
      "Взлёт...\n"
     ]
    },
    {
     "name": "stdout",
     "output_type": "stream",
     "text": [
      "🔍 Сканирование окружения...\n",
      "🧱 Обнаружены препятствия: [(2, 2, 1)]\n",
      "📡 Построение безопасного маршрута...\n",
      "Начинаем движение по маршруту...\n"
     ]
    },
    {
     "name": "stdout",
     "output_type": "stream",
     "text": [
      "➡ Движение к точке: (0, 1, 1.0)\n"
     ]
    },
    {
     "name": "stdout",
     "output_type": "stream",
     "text": [
      "➡ Движение к точке: (1, 1, 1.0)\n"
     ]
    },
    {
     "name": "stdout",
     "output_type": "stream",
     "text": [
      "➡ Движение к точке: (1, 2, 1.0)\n"
     ]
    },
    {
     "name": "stdout",
     "output_type": "stream",
     "text": [
      "➡ Движение к точке: (1, 3, 1.0)\n"
     ]
    },
    {
     "name": "stdout",
     "output_type": "stream",
     "text": [
      "➡ Движение к точке: (2, 3, 1.0)\n"
     ]
    },
    {
     "name": "stdout",
     "output_type": "stream",
     "text": [
      "➡ Движение к точке: (3, 3, 1.0)\n"
     ]
    },
    {
     "name": "stdout",
     "output_type": "stream",
     "text": [
      "➡ Движение к точке: (3, 4, 1.0)\n"
     ]
    },
    {
     "name": "stdout",
     "output_type": "stream",
     "text": [
      "➡ Движение к точке: (4, 4, 1.0)\n"
     ]
    },
    {
     "name": "stdout",
     "output_type": "stream",
     "text": [
      "➡ Движение к точке: (4, 5, 1.0)\n"
     ]
    },
    {
     "name": "stdout",
     "output_type": "stream",
     "text": [
      "➡ Движение к точке: (5, 5, 1.0)\n"
     ]
    },
    {
     "name": "stdout",
     "output_type": "stream",
     "text": [
      "Посадка...\n"
     ]
    },
    {
     "ename": "AttributeError",
     "evalue": "'AirGenDrone' object has no attribute 'get_status'",
     "output_type": "error",
     "traceback": [
      "\u001b[0;31m---------------------------------------------------------------------------\u001b[0m",
      "\u001b[0;31mAttributeError\u001b[0m                            Traceback (most recent call last)",
      "Cell \u001b[0;32mIn[1], line 7\u001b[0m\n\u001b[1;32m      4\u001b[0m fly_mission()\n\u001b[1;32m      6\u001b[0m \u001b[38;5;66;03m# Отображение состояния БПЛА после завершения миссии\u001b[39;00m\n\u001b[0;32m----> 7\u001b[0m \u001b[43mdisplay_drone_status\u001b[49m\u001b[43m(\u001b[49m\u001b[43mdrone\u001b[49m\u001b[43m)\u001b[49m\n",
      "Cell \u001b[0;32mIn[1], line 5\u001b[0m, in \u001b[0;36mdisplay_drone_status\u001b[0;34m(drone)\u001b[0m\n\u001b[1;32m      4\u001b[0m \u001b[38;5;28;01mdef\u001b[39;00m\u001b[38;5;250m \u001b[39m\u001b[38;5;21mdisplay_drone_status\u001b[39m(drone):\n\u001b[0;32m----> 5\u001b[0m     status \u001b[38;5;241m=\u001b[39m \u001b[43mdrone\u001b[49m\u001b[38;5;241;43m.\u001b[39;49m\u001b[43mget_status\u001b[49m()  \u001b[38;5;66;03m# Предполагается, что метод get_status() возвращает текущее состояние дрона\u001b[39;00m\n\u001b[1;32m      6\u001b[0m     \u001b[38;5;28mprint\u001b[39m(\u001b[38;5;124mf\u001b[39m\u001b[38;5;124m\"\u001b[39m\u001b[38;5;124mСостояние БПЛА:\u001b[39m\u001b[38;5;124m\"\u001b[39m)\n\u001b[1;32m      7\u001b[0m     \u001b[38;5;28mprint\u001b[39m(\u001b[38;5;124mf\u001b[39m\u001b[38;5;124m\"\u001b[39m\u001b[38;5;124mGPS: \u001b[39m\u001b[38;5;132;01m{\u001b[39;00mstatus[\u001b[38;5;124m'\u001b[39m\u001b[38;5;124mgps\u001b[39m\u001b[38;5;124m'\u001b[39m]\u001b[38;5;132;01m}\u001b[39;00m\u001b[38;5;124m\"\u001b[39m)\n",
      "\u001b[0;31mAttributeError\u001b[0m: 'AirGenDrone' object has no attribute 'get_status'"
     ]
    }
   ],
   "source": [
    "# =============================== СТАРТУЕМ ===============================\r\n",
    "\r\n",
    "# Запуск миссии\r\n",
    "fly_mission()\r\n",
    "\r\n",
    "# Отображение состояния БПЛА после завершения миссии\r\n",
    "display_drone_status(drone)\r\n"
   ]
  }
 ],
 "metadata": {},
 "nbformat": 4,
 "nbformat_minor": 5
}
