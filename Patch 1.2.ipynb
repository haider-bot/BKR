{
 "cells": [
  {
   "cell_type": "code",
   "execution_count": null,
   "id": "887df235",
   "metadata": {},
   "outputs": [
    {
     "data": {
      "application/vnd.jupyter.widget-view+json": {
       "model_id": "20a46adb27764650861cf2ae6168c12e",
       "version_major": 2,
       "version_minor": 0
      },
      "text/plain": [
       "preprocessor_config.json:   0%|          | 0.00/841 [00:00<?, ?B/s]"
      ]
     },
     "metadata": {},
     "output_type": "display_data"
    },
    {
     "data": {
      "application/vnd.jupyter.widget-view+json": {
       "model_id": "556bd517857f49749a28cab80e35f812",
       "version_major": 2,
       "version_minor": 0
      },
      "text/plain": [
       "config.json:   0%|          | 0.00/5.11k [00:00<?, ?B/s]"
      ]
     },
     "metadata": {},
     "output_type": "display_data"
    },
    {
     "data": {
      "application/vnd.jupyter.widget-view+json": {
       "model_id": "8d43458964984835851f19ae39068bd8",
       "version_major": 2,
       "version_minor": 0
      },
      "text/plain": [
       "model.safetensors:   0%|          | 0.00/172M [00:00<?, ?B/s]"
      ]
     },
     "metadata": {},
     "output_type": "display_data"
    },
    {
     "name": "stdout",
     "output_type": "stream",
     "text": [
      "final text_encoder_type: bert-base-uncased\n"
     ]
    },
    {
     "data": {
      "application/vnd.jupyter.widget-view+json": {
       "model_id": "16f9dd2afdf8474a8013762e63fde200",
       "version_major": 2,
       "version_minor": 0
      },
      "text/plain": [
       "tokenizer_config.json:   0%|          | 0.00/48.0 [00:00<?, ?B/s]"
      ]
     },
     "metadata": {},
     "output_type": "display_data"
    },
    {
     "data": {
      "application/vnd.jupyter.widget-view+json": {
       "model_id": "72803b4f2ad9439f84aed22ddd629a39",
       "version_major": 2,
       "version_minor": 0
      },
      "text/plain": [
       "config.json:   0%|          | 0.00/570 [00:00<?, ?B/s]"
      ]
     },
     "metadata": {},
     "output_type": "display_data"
    },
    {
     "data": {
      "application/vnd.jupyter.widget-view+json": {
       "model_id": "043de76ba2a844afabf0fd735e82dcc9",
       "version_major": 2,
       "version_minor": 0
      },
      "text/plain": [
       "vocab.txt:   0%|          | 0.00/232k [00:00<?, ?B/s]"
      ]
     },
     "metadata": {},
     "output_type": "display_data"
    },
    {
     "data": {
      "application/vnd.jupyter.widget-view+json": {
       "model_id": "6a70560e98564118a81671ecf7884314",
       "version_major": 2,
       "version_minor": 0
      },
      "text/plain": [
       "tokenizer.json:   0%|          | 0.00/466k [00:00<?, ?B/s]"
      ]
     },
     "metadata": {},
     "output_type": "display_data"
    },
    {
     "data": {
      "application/vnd.jupyter.widget-view+json": {
       "model_id": "5586be950b2d4991974bececdc0b7add",
       "version_major": 2,
       "version_minor": 0
      },
      "text/plain": [
       "model.safetensors:   0%|          | 0.00/440M [00:00<?, ?B/s]"
      ]
     },
     "metadata": {},
     "output_type": "display_data"
    }
   ],
   "source": [
    "from grid.model.navigation.objectinspection import ObjectInspect\n",
    "from grid.model.navigation.visualservoing import VisualServoing\n",
    "from grid.model.perception.detection.gdino import GroundingDINO\n",
    "from grid.model.perception.detection.rt_detr import RT_DETR\n",
    "from grid.model.perception.segmentation.sam2 import SAM2\n",
    "from grid.model.perception.segmentation.gsam import GroundedSAM\n",
    "from grid.model.perception.depth.midas import MIDAS\n",
    "from grid.model.perception.depth.zoedepth import ZoeDepth\n",
    "nav_inspect_0 = ObjectInspect()\n",
    "nav_visualservoing_0 = VisualServoing()\n",
    "detection_gdino_0 = GroundingDINO()\n",
    "detection_rt_detr_0 = RT_DETR()\n",
    "seg_sam2_0 = SAM2()\n",
    "seg_gsam_0 = GroundedSAM()\n",
    "depth_midas_0 = MIDAS()\n",
    "depth_zoedepth_0 = ZoeDepth()"
   ]
  },
  {
   "cell_type": "code",
   "execution_count": null,
   "id": "d267a946",
   "metadata": {},
   "outputs": [],
   "source": [
    "# ===== Импорты для текущей работы =====\r\n",
    "\r\n",
    "import airgen\r\n",
    "import numpy as np\r\n",
    "import rerun as rr\r\n",
    "import time\r\n",
    "from grid.model.navigation.visualservoing import VisualServoing"
   ]
  },
  {
   "cell_type": "code",
   "execution_count": null,
   "id": "2d91f386",
   "metadata": {},
   "outputs": [
    {
     "name": "stdout",
     "output_type": "stream",
     "text": [
      "Connected!\n",
      "Client Ver:1 (Min Req: 1), Server Ver:1 (Min Req: 1)\n",
      "\n"
     ]
    }
   ],
   "source": [
    "# ===== Подключени к дрону взлет вертикальный =====\r\n",
    "\r\n",
    "client = airgen.MultirotorClient()\r\n",
    "client.confirmConnection()\r\n",
    "client.enableApiControl(True)\r\n",
    "client.armDisarm(True)\r\n",
    "\r\n",
    "# Взлёт\r\n",
    "client.takeoffAsync().join()"
   ]
  },
  {
   "cell_type": "code",
   "execution_count": null,
   "id": "c6377e85",
   "metadata": {},
   "outputs": [
    {
     "name": "stdout",
     "output_type": "stream",
     "text": [
      "Старт: <Vector3r> {   'x_val': -7.126046057237545e-06,\n",
      "    'y_val': -1.2493521808210062e-06,\n",
      "    'z_val': -2.645627021789551}\n",
      "Цель: <Vector3r> {   'x_val': 10,\n",
      "    'y_val': 10,\n",
      "    'z_val': -5}\n"
     ]
    }
   ],
   "source": [
    "# ===== Маршрутизатор (ладно, таргетлок :З ) =====\r\n",
    "\r\n",
    "# Установим точку назначения\r\n",
    "start = client.getMultirotorState().kinematics_estimated.position\r\n",
    "goal = airgen.Vector3r(10, 10, -5)  # пример точки B\r\n",
    "\r\n",
    "print(\"Старт:\", start)\r\n",
    "print(\"Цель:\", goal)\r\n"
   ]
  },
  {
   "cell_type": "code",
   "execution_count": null,
   "id": "2fb5f32c",
   "metadata": {},
   "outputs": [
    {
     "data": {
      "text/plain": [
       "' Для аборигенов, в состоянии бпла, та залупа справа, отображается область действия лидара бпла, КАРОЧЕ ОБЛАКА ТОЧЕК ОКРУЖАЮЩИЕ БПЛА'"
      ]
     },
     "execution_count": 1,
     "metadata": {},
     "output_type": "execute_result"
    }
   ],
   "source": [
    "# ===== Получени данных Lidar + визуализация =====\r\n",
    "\r\n",
    "lidar_data = client.getLidarData()\r\n",
    "points = np.array(lidar_data.point_cloud, dtype=np.float32).reshape(-1, 3)\r\n",
    "\r\n",
    "# Визуализация\r\n",
    "rr.log('lidar/points', rr.Points3D(points))\r\n",
    "\r\n",
    "\"\"\" Для аборигенов, в состоянии бпла, та залупа справа, отображается область действия лидара бпла, КАРОЧЕ ОБЛАКА ТОЧЕК ОКРУЖАЮЩИЕ БПЛА\"\"\"\r\n"
   ]
  },
  {
   "cell_type": "code",
   "execution_count": null,
   "id": "092b0e09",
   "metadata": {},
   "outputs": [],
   "source": [
    "# ===== планировОЧКА маршрута и обход препятсвий =====\r\n",
    "\r\n",
    "# ⛔ Заменяем airgen.simPlanPath заглушкой — вручную задаем точки маршрута\r\n",
    "trajectory = [\r\n",
    "    {\"x_val\": start.x_val, \"y_val\": start.y_val, \"z_val\": start.z_val},\r\n",
    "    {\"x_val\": start.x_val + 5, \"y_val\": start.y_val, \"z_val\": start.z_val},\r\n",
    "    {\"x_val\": goal.x_val, \"y_val\": goal.y_val, \"z_val\": goal.z_val}\r\n",
    "]\r\n",
    "\r\n",
    "# Преобразуем в список векторов\r\n",
    "points = [airgen.Vector3r(p[\"x_val\"], p[\"y_val\"], p[\"z_val\"]) for p in trajectory]\r\n",
    "\r\n",
    "# Выполняем перемещение\r\n",
    "velocity = 5.0\r\n",
    "client.moveOnPathAsync(points, velocity, 120,\r\n",
    "                       airgen.DrivetrainType.ForwardOnly,\r\n",
    "                       airgen.YawMode(False, 0), -1, 0).join()\r\n"
   ]
  }
 ],
 "metadata": {},
 "nbformat": 4,
 "nbformat_minor": 5
}
