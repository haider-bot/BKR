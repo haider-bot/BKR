{
 "cells": [
  {
   "cell_type": "code",
   "execution_count": null,
   "id": "c34bdbab",
   "metadata": {},
   "outputs": [
    {
     "name": "stdout",
     "output_type": "stream",
     "text": [
      "Connected!\n",
      "Client Ver:1 (Min Req: 1), Server Ver:1 (Min Req: 1)\n",
      "\n",
      "Взлет!\n"
     ]
    },
    {
     "name": "stdout",
     "output_type": "stream",
     "text": [
      "Дрон летит вперед!\n"
     ]
    },
    {
     "name": "stdout",
     "output_type": "stream",
     "text": [
      "Посадка!\n"
     ]
    }
   ],
   "source": [
    "import time\n",
    "from grid.robot.aerial.airgen_drone import AirGenDrone\n",
    "\n",
    "# Создаем класс Velocity самостоятельно\n",
    "class Velocity:\n",
    "    def __init__(self, x_vel, y_vel, z_vel):\n",
    "        self.x_vel = x_vel\n",
    "        self.y_vel = y_vel\n",
    "        self.z_vel = z_vel\n",
    "\n",
    "# Инициализация дрона\n",
    "airgen_drone_0 = AirGenDrone()\n",
    "\n",
    "# Взлет дрона\n",
    "def takeoff():\n",
    "    print(\"Взлет!\")\n",
    "    airgen_drone_0.takeoff()  # Команда на взлет\n",
    "    time.sleep(1)  # Даем дрону время на взлет\n",
    "\n",
    "# Перемещение вперед\n",
    "def move_forward():\n",
    "    print(\"Дрон летит вперед!\")\n",
    "    # Создаем объект Velocity\n",
    "    velocity = Velocity(x_vel=2.0, y_vel=0.0, z_vel=0.0)  # Скорость 2 м/с по оси X\n",
    "    airgen_drone_0.moveByVelocity(velocity, duration=10, frame='ned', blocking=True)  # Движение вперед\n",
    "    time.sleep(1)  # Даем дрону время на полет вперед\n",
    "\n",
    "# Посадка дрона\n",
    "def land():\n",
    "    print(\"Посадка!\")\n",
    "    airgen_drone_0.land()  # Команда на посадку\n",
    "    time.sleep(1)  # Даем дрону время на посадку\n",
    "\n",
    "# Основной процесс: взлет, полет вперед и посадка\n",
    "def fly_and_land():\n",
    "    takeoff()        # Взлет\n",
    "    move_forward()   # Полет вперед\n",
    "    land()           # Посадка\n",
    "\n",
    "# Запускаем процесс\n",
    "fly_and_land()\n"
   ]
  },
  {
   "cell_type": "code",
   "execution_count": null,
   "id": "03c457bb",
   "metadata": {},
   "outputs": [],
   "source": []
  },
  {
   "cell_type": "code",
   "execution_count": null,
   "id": "6ac752b4",
   "metadata": {},
   "outputs": [],
   "source": []
  }
 ],
 "metadata": {},
 "nbformat": 4,
 "nbformat_minor": 5
}
