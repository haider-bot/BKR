{
 "cells": [
  {
   "cell_type": "code",
   "execution_count": null,
   "id": "ca07473d",
   "metadata": {},
   "outputs": [
    {
     "name": "stdout",
     "output_type": "stream",
     "text": [
      "\u001b[33mDEPRECATION: Loading egg at /opt/conda/lib/python3.11/site-packages/MultiScaleDeformableAttention-1.0-py3.11-linux-x86_64.egg is deprecated. pip 23.3 will enforce this behaviour change. A possible replacement is to use pip for package installation..\u001b[0m\u001b[33m\r\n",
      "\u001b[0m\u001b[33mDEPRECATION: Loading egg at /opt/conda/lib/python3.11/site-packages/openseed-0.1-py3.11.egg is deprecated. pip 23.3 will enforce this behaviour change. A possible replacement is to use pip for package installation..\u001b[0m\u001b[33m\r\n",
      "\u001b[0mRequirement already satisfied: scikit-learn in /opt/conda/lib/python3.11/site-packages (1.6.1)\r\n"
     ]
    },
    {
     "name": "stdout",
     "output_type": "stream",
     "text": [
      "Requirement already satisfied: numpy>=1.19.5 in /opt/conda/lib/python3.11/site-packages (from scikit-learn) (1.26.4)\r\n",
      "Requirement already satisfied: scipy>=1.6.0 in /opt/conda/lib/python3.11/site-packages (from scikit-learn) (1.13.1)\r\n",
      "Requirement already satisfied: joblib>=1.2.0 in /opt/conda/lib/python3.11/site-packages (from scikit-learn) (1.5.0)\r\n",
      "Requirement already satisfied: threadpoolctl>=3.1.0 in /opt/conda/lib/python3.11/site-packages (from scikit-learn) (3.6.0)\r\n"
     ]
    },
    {
     "name": "stdout",
     "output_type": "stream",
     "text": [
      "\u001b[33mWARNING: Running pip as the 'root' user can result in broken permissions and conflicting behaviour with the system package manager. It is recommended to use a virtual environment instead: https://pip.pypa.io/warnings/venv\u001b[0m\u001b[33m\r\n",
      "\u001b[0m"
     ]
    }
   ],
   "source": [
    "# ===== Импорты и инициализация =====\n",
    "\n",
    "!pip install scikit-learn\n",
    "\n",
    "from grid.model.navigation.objectinspection import ObjectInspect\n",
    "from grid.model.navigation.visualservoing import VisualServoing\n",
    "from grid.model.perception.detection.rt_detr import RT_DETR\n",
    "from grid.model.perception.depth.metric3d import Metric3D\n",
    "\n",
    "import airgen\n",
    "import numpy as np\n",
    "import rerun as rr\n",
    "import cv2\n",
    "import time\n",
    "from math import cos, sin, pi\n",
    "from sklearn.cluster import DBSCAN\n",
    "\n",
    "# Инициализация моделей\n",
    "nav_inspect = ObjectInspect()\n",
    "nav_visualservoing = VisualServoing()\n",
    "detection_rt_detr = RT_DETR(use_local=True)  # Инициализация модели детекции"
   ]
  },
  {
   "cell_type": "code",
   "execution_count": null,
   "id": "1915fb5a",
   "metadata": {},
   "outputs": [
    {
     "name": "stdout",
     "output_type": "stream",
     "text": [
      "Connected!\n",
      "Client Ver:1 (Min Req: 1), Server Ver:1 (Min Req: 1)\n",
      "\n"
     ]
    },
    {
     "data": {
      "text/plain": [
       "True"
      ]
     },
     "execution_count": 1,
     "metadata": {},
     "output_type": "execute_result"
    }
   ],
   "source": [
    "# ===== Подключение к дрону =====\n",
    "\n",
    "client = airgen.MultirotorClient()\n",
    "client.confirmConnection()\n",
    "client.enableApiControl(True)\n",
    "client.armDisarm(True)\n",
    "# ===== Взлет дрона =====\n",
    "\n",
    "#client.takeoffAsync().join()\n",
    "\n",
    "# ===== Посадка дрона =====\n",
    "\n",
    "#client.landAsync().join()"
   ]
  },
  {
   "cell_type": "code",
   "execution_count": null,
   "id": "ade8eccb",
   "metadata": {},
   "outputs": [
    {
     "name": "stdout",
     "output_type": "stream",
     "text": [
      "Available cameras:\n",
      "PlayerCameraManager_2147482445\n",
      "CameraManagerActor\n",
      "ExternalCamera\n",
      "BP_PIPCamera_C_2147482405\n",
      "BP_PIPCamera_C_2147482393\n",
      "BP_PIPCamera_C_2147482381\n",
      "BP_PIPCamera_C_2147482369\n",
      "BP_PIPCamera_C_2147482357\n"
     ]
    }
   ],
   "source": [
    "# ===== Просмотр камер привязаных к Alta X =====\n",
    "\n",
    "scene_client = airgen.VehicleClient()\n",
    "scene_objects = scene_client.simListSceneObjects()\n",
    "cameras = [obj for obj in scene_objects if 'camera' in obj.lower()]\n",
    "\n",
    "print(\"Available cameras:\")\n",
    "for camera in cameras:\n",
    "    print(camera)"
   ]
  },
  {
   "cell_type": "code",
   "execution_count": null,
   "id": "986a7d50",
   "metadata": {},
   "outputs": [],
   "source": [
    "# ===== Получение и логирование GPS =====\n",
    "\n",
    "gps_data = client.getGpsData()\n",
    "geo = gps_data.gnss.geo_point\n",
    "gps_position = np.array([[geo.latitude, geo.longitude, geo.altitude]], dtype=np.float32)\n",
    "rr.log(\"drone/gps\", rr.Points3D(gps_position))"
   ]
  },
  {
   "cell_type": "code",
   "execution_count": null,
   "id": "eebdc640",
   "metadata": {},
   "outputs": [],
   "source": [
    "# ===== Получение и логирование изображения с камеры =====\n",
    "\n",
    "image_data = client.getImages(\"front_center\", [airgen.ImageType.Scene])[0]\n",
    "rgb_image, _ = image_data  # Получаем изображение и позу\n",
    "rr.log(\"drone/camera\", rr.Image(rgb_image))"
   ]
  },
  {
   "cell_type": "code",
   "execution_count": null,
   "id": "e85e470a",
   "metadata": {},
   "outputs": [
    {
     "name": "stdout",
     "output_type": "stream",
     "text": [
      "❗ Объекты не обнаружены.\n"
     ]
    }
   ],
   "source": [
    "# ===== Работа ИИ камеры на дроне =====\n",
    "\n",
    "# ===== Инициализация =====\n",
    "depth_model = Metric3D()\n",
    "depth_map = depth_model.run(rgb_image)\n",
    "\n",
    "result = detection_rt_detr.run(input=rgb_image.copy(), confidence_threshold=0.3)\n",
    "\n",
    "if isinstance(result, dict) and 'boxes' in result:\n",
    "    filtered_boxes = []\n",
    "    filtered_labels = []\n",
    "    filtered_distances = []\n",
    "\n",
    "    ignore_labels = [\"grass\", \"floor\", \"ground\", \"road\", \"terrain\"]\n",
    "    min_distance = 2\n",
    "    max_distance = 20\n",
    "\n",
    "    # Центр изображения — точка откуда \"исходит БПЛА\"\n",
    "    img_center = (rgb_image.shape[1] // 2, rgb_image.shape[0] // 2)\n",
    "\n",
    "    image_with_lines = rgb_image.copy()\n",
    "\n",
    "    for box, label in zip(result[\"boxes\"], result[\"labels\"]):\n",
    "        x, y, w, h = map(int, box)\n",
    "        cx = x + w // 2\n",
    "        cy = y + h // 2\n",
    "\n",
    "        if 0 <= cy < depth_map.shape[0] and 0 <= cx < depth_map.shape[1]:\n",
    "            distance = depth_map[cy, cx]\n",
    "\n",
    "            if (min_distance <= distance <= max_distance) and (label.lower() not in ignore_labels):\n",
    "                filtered_boxes.append([x, y, w, h])\n",
    "                filtered_labels.append(label)\n",
    "                filtered_distances.append(distance)\n",
    "\n",
    "                # ===== Отрисовка линии до объекта =====\n",
    "                line_color = (0, 255, 0) if distance > 10 else (0, 255, 255) if distance > 5 else (0, 0, 255)\n",
    "                cv2.line(image_with_lines, img_center, (cx, cy), line_color, 2)\n",
    "\n",
    "                # Подпись расстояния у центра объекта\n",
    "                cv2.putText(image_with_lines, f\"{distance:.1f}m\", (cx + 5, cy),\n",
    "                            cv2.FONT_HERSHEY_SIMPLEX, 0.5, line_color, 2)\n",
    "\n",
    "    # ===== Отрисовка боксов =====\n",
    "    for i, box in enumerate(filtered_boxes):\n",
    "        x, y, w, h = box\n",
    "        cv2.rectangle(image_with_lines, (x, y), (x + w, y + h), (255, 0, 0), 2)\n",
    "        cv2.putText(image_with_lines, filtered_labels[i], (x, y - 10),\n",
    "                    cv2.FONT_HERSHEY_SIMPLEX, 0.5, (255, 0, 0), 2)\n",
    "\n",
    "        rr.log(\n",
    "            f\"drone/object_{i}\",\n",
    "            rr.Boxes2D(np.array([[x, y, w, h]]), labels=[f\"{filtered_labels[i]} - {filtered_distances[i]:.1f}m\"])\n",
    "        )\n",
    "\n",
    "    # ===== Лог финального изображения =====\n",
    "    rr.log(\"drone/camera\", rr.Image(image_with_lines))\n",
    "\n",
    "else:\n",
    "    print(\"❗ Объекты не обнаружены.\")"
   ]
  },
  {
   "cell_type": "code",
   "execution_count": null,
   "id": "7c848192",
   "metadata": {},
   "outputs": [
    {
     "name": "stdout",
     "output_type": "stream",
     "text": [
      "⚠️ Attention! Дрон на земле или Lidar не нашел вокруг себя объекты\n"
     ]
    }
   ],
   "source": [
    "# ===== Получение и подготовка данных LiDAR + Построение маршрута =====\n",
    "\n",
    "lidar_data = client.getLidarData()\n",
    "points = np.array(lidar_data.point_cloud, dtype=np.float32).reshape(-1, 3)\n",
    "rr.log('lidar/points', rr.Points3D(points))\n",
    "\n",
    "# ===== Фильтрация: исключаем \"землю\" (высота < 0.2 м) =====\n",
    "above_ground = points[points[:, 2] > 0.2]\n",
    "\n",
    "object_centers = []\n",
    "object_distances = []\n",
    "\n",
    "if above_ground.shape[0] > 0:\n",
    "    # ===== Кластеризация (DBSCAN) =====\n",
    "    clustering = DBSCAN(eps=1.0, min_samples=10).fit(above_ground[:, :2])\n",
    "    labels = clustering.labels_\n",
    "\n",
    "    # ===== Обработка кластеров =====\n",
    "    unique_labels = set(labels)\n",
    "    for label in unique_labels:\n",
    "        if label == -1:\n",
    "            continue  # -1 означает шум\n",
    "\n",
    "        cluster_points = above_ground[labels == label]\n",
    "        center = cluster_points.mean(axis=0)\n",
    "        distance = np.linalg.norm(center[:2])\n",
    "        object_centers.append(center)\n",
    "        object_distances.append(distance)\n",
    "\n",
    "    rr.log(\"lidar/objects\", rr.Points3D(np.array(object_centers)))\n",
    "    print(f\"🔎 Обнаружено объектов по LiDAR: {len(object_centers)}\")\n",
    "    for i, dist in enumerate(object_distances):\n",
    "        print(f\" - Объект {i+1}: ~{dist:.1f} м\")\n",
    "else:\n",
    "    print(\"⚠️ Attention! Дрон на земле или Lidar не нашел вокруг себя объекты\")\n",
    "\n",
    "# ===== Построение кругового маршрута =====\n",
    "start = client.getMultirotorState().kinematics_estimated.position\n",
    "takeoff_alt = -15  # вверх в NED\n",
    "center = start\n",
    "radius = 10\n",
    "steps = 12\n",
    "\n",
    "trajectory = []\n",
    "for i in range(steps):\n",
    "    angle = 2 * pi * (i / steps)\n",
    "    x = center.x_val + radius * cos(angle)\n",
    "    y = center.y_val + radius * sin(angle)\n",
    "    z = takeoff_alt\n",
    "    trajectory.append(airgen.Vector3r(x, y, z))\n",
    "\n",
    "trajectory.append(airgen.Vector3r(center.x_val, center.y_val, takeoff_alt))  # возврат\n",
    "\n",
    "rr.log(\"telemetry/path\", rr.LineStrips3D([[(p.x_val, p.y_val, p.z_val) for p in trajectory]]))"
   ]
  },
  {
   "cell_type": "code",
   "execution_count": null,
   "id": "d3e1df01",
   "metadata": {},
   "outputs": [
    {
     "name": "stdout",
     "output_type": "stream",
     "text": [
      "🟢 Запуск тестового полета Alta X\n",
      "⚠️ Attention! Дрон на земле или Lidar не нашел вокруг себя объекты\n"
     ]
    },
    {
     "name": "stdout",
     "output_type": "stream",
     "text": [
      "🔶 Alta X находится над назначеной точкой, посадка...\n"
     ]
    },
    {
     "name": "stdout",
     "output_type": "stream",
     "text": [
      "🟢 Дрон осуществил посадку, тестовый полет окнчен.\n"
     ]
    }
   ],
   "source": [
    "print(\"🟢 Запуск тестового полета Alta X\")\n",
    "\n",
    "# Функция для определения наличия препятствий рядом с дроном\n",
    "def is_obstacle_near(current_pos, obstacles, threshold=2.0):\n",
    "    for obstacle in obstacles:\n",
    "        dist = np.linalg.norm(np.array([current_pos.x_val, current_pos.y_val]) - obstacle[:2])\n",
    "        if dist < threshold:\n",
    "            return True, dist\n",
    "    return False, None\n",
    "\n",
    "# Функция для поиска безопасного направления\n",
    "def find_safe_direction(current_pos, obstacles, radius=5.0, angle_step=15):\n",
    "    best_point = None\n",
    "    min_density = float('inf')\n",
    "\n",
    "    for angle in range(0, 360, angle_step):\n",
    "        rad = np.deg2rad(angle)\n",
    "        test_x = current_pos.x_val + radius * cos(rad)\n",
    "        test_y = current_pos.y_val + radius * sin(rad)\n",
    "\n",
    "        density = 0\n",
    "        for obs in obstacles:\n",
    "            dist = np.linalg.norm(np.array([test_x, test_y]) - obs[:2])\n",
    "            if dist < 2.0:\n",
    "                density += 1\n",
    "\n",
    "        if density < min_density:\n",
    "            min_density = density\n",
    "            best_point = airgen.Vector3r(test_x, test_y, current_pos.z_val)\n",
    "\n",
    "    return best_point\n",
    "\n",
    "# Функция для расчёта угла поворота между точками\n",
    "def calculate_heading(p1, p2):\n",
    "    dx = p2.x_val - p1.x_val\n",
    "    dy = p2.y_val - p1.y_val\n",
    "    return np.degrees(np.arctan2(dy, dx))\n",
    "\n",
    "# ===== Основной маршрут =====\n",
    "\n",
    "# Сохраняем начальное положение и ориентацию\n",
    "initial_pos = client.getMultirotorState().kinematics_estimated.position\n",
    "initial_heading = client.getMultirotorState().kinematics_estimated.orientation\n",
    "\n",
    "for i, target_point in enumerate(trajectory):\n",
    "    while True:\n",
    "        current_pos = client.getMultirotorState().kinematics_estimated.position\n",
    "        lidar_data = client.getLidarData()\n",
    "        points = np.array(lidar_data.point_cloud, dtype=np.float32).reshape(-1, 3)\n",
    "        rr.log('lidar/points', rr.Points3D(points))\n",
    "\n",
    "        above_ground = points[points[:, 2] > 0.2]\n",
    "\n",
    "        if above_ground.shape[0] == 0:\n",
    "            print(\"⚠️ Attention! Дрон на земле или Lidar не нашел вокруг себя объекты\")\n",
    "            obstacle_centers = np.empty((0, 3))\n",
    "        else:\n",
    "            clustering = DBSCAN(eps=1.0, min_samples=10).fit(above_ground[:, :2])\n",
    "            labels = clustering.labels_\n",
    "\n",
    "            obstacle_centers = []\n",
    "            for label in set(labels):\n",
    "                if label == -1:\n",
    "                    continue\n",
    "                cluster_points = above_ground[labels == label]\n",
    "                center = cluster_points.mean(axis=0)\n",
    "                obstacle_centers.append(center)\n",
    "\n",
    "            obstacle_centers = np.array(obstacle_centers)\n",
    "\n",
    "        rr.log(\"lidar/obstacles\", rr.Points3D(obstacle_centers))\n",
    "\n",
    "        danger, dist = is_obstacle_near(current_pos, obstacle_centers)\n",
    "        if danger:\n",
    "            print(f\"⚠️ Attention! Угроза на расстоянии {dist:.1f} м. Поиск безопасного пространства...\")\n",
    "            safe_point = find_safe_direction(current_pos, obstacle_centers)\n",
    "            if safe_point:\n",
    "                heading = calculate_heading(current_pos, safe_point)\n",
    "                print(\"🔵 Безопасное пространство найдено, маршрут перестроен... \")\n",
    "                client.rotateToYawAsync(heading, 2).join()  # Уменьшена скорость поворота в 2 раза\n",
    "                client.moveToPositionAsync(safe_point.x_val, safe_point.y_val, safe_point.z_val, 2.0).join()  # Увеличена скорость движения\n",
    "                print(\"🟣 Достигнуто безопасное место, движение по изначальной траектории...\")\n",
    "                continue\n",
    "        break\n",
    "\n",
    "    heading = calculate_heading(current_pos, target_point)\n",
    "    client.rotateToYawAsync(heading, 2).join()  # Уменьшена скорость поворота в 2 раза\n",
    "    client.moveToPositionAsync(target_point.x_val, target_point.y_val, target_point.z_val, 2.0).join()  # Увеличена скорость движения\n",
    "\n",
    "# ======= Завершающая посадка =======\n",
    "\n",
    "print(\"🔶 Alta X находится над назначеной точкой, посадка...\")\n",
    "\n",
    "final_pos = client.getMultirotorState().kinematics_estimated.position\n",
    "points_raw = client.getLidarData().point_cloud\n",
    "\n",
    "if len(points_raw) > 0:\n",
    "    points = np.array(points_raw, dtype=np.float32).reshape(-1, 3)\n",
    "    ground_points = points[points[:, 2] < 0.5]\n",
    "    if len(ground_points) > 0:\n",
    "        min_z = float(np.min(ground_points[:, 2]) - 0.1)\n",
    "    else:\n",
    "        min_z = -3.0\n",
    "else:\n",
    "    min_z = -3.0\n",
    "\n",
    "# Плавное снижение к земле\n",
    "client.moveToPositionAsync(final_pos.x_val, final_pos.y_val, min_z, 0.8).join()\n",
    "\n",
    "client.landAsync().join()\n",
    "print(\"🟢 Дрон осуществил посадку, тестовый полет окнчен.\")"
   ]
  },
  {
   "cell_type": "code",
   "execution_count": null,
   "id": "58e3a841",
   "metadata": {},
   "outputs": [],
   "source": [
    "# ==== Движение БПЛА: шаблон для тестов алгоритмов ====\n",
    "\n",
    "# Повернуть на определённый угол (по оси Yaw, в градусах)\n",
    "# Положительное значение — поворот по часовой, отрицательное — против часовой\n",
    "\n",
    "# ==== Угл поворота ==== \n",
    "\n",
    "#yaw_angle = 45  # <- угл\n",
    "#client.rotateByYawRateAsync(yaw_rate=yaw_angle, duration=2).join() # <- инициализация\n",
    "\n",
    "# ==== Движение вперед ==== \n",
    "\n",
    "#forward_distance = 3  # <- дальность в метрах\n",
    "#client.moveByVelocityAsync(vx=1.0, vy=0.0, vz=0.0, duration=forward_distance).join() # <- инициализация\n",
    "\n",
    "# ==== Лево - право ==== \n",
    "\n",
    "# Движение влево (vy > 0) или вправо (vy < 0)\n",
    "#side_distance = 3  # <- дальность в метрах \n",
    "#client.moveByVelocityAsync(vx=0.0, vy=1.0, vz=0.0, duration=side_distance).join()  # <- инициализация\n",
    "\n",
    "# Примечание:\n",
    "# - vx — движение вперёд/назад (м/с), vy — влево/вправо, vz — вверх/вниз\n",
    "# - duration — время движения в секундах"
   ]
  }
 ],
 "metadata": {
  "language_info": {
   "name": "python"
  }
 },
 "nbformat": 4,
 "nbformat_minor": 5
}
