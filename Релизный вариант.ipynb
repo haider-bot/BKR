{
 "cells": [
  {
   "cell_type": "code",
   "execution_count": null,
   "id": "ca07473d",
   "metadata": {},
   "outputs": [],
   "source": [
    "# ===== Импорты и инициализация =====\r\n",
    "\r\n",
    "#!pip install scikit-learn\r\n",
    "\r\n",
    "from grid.model.navigation.objectinspection import ObjectInspect\r\n",
    "from grid.model.navigation.visualservoing import VisualServoing\r\n",
    "from grid.model.perception.detection.rt_detr import RT_DETR\r\n",
    "from grid.model.perception.depth.metric3d import Metric3D\r\n",
    "\r\n",
    "import airgen\r\n",
    "import numpy as np\r\n",
    "import rerun as rr\r\n",
    "import cv2\r\n",
    "import time\r\n",
    "from math import cos, sin, pi\r\n",
    "from sklearn.cluster import DBSCAN\r\n",
    "\r\n",
    "# Инициализация моделей\r\n",
    "nav_inspect = ObjectInspect()\r\n",
    "nav_visualservoing = VisualServoing()\r\n",
    "detection_rt_detr = RT_DETR(use_local=True)  # Инициализация модели детекции"
   ]
  },
  {
   "cell_type": "code",
   "execution_count": null,
   "id": "1915fb5a",
   "metadata": {},
   "outputs": [
    {
     "name": "stdout",
     "output_type": "stream",
     "text": [
      "Connected!\n",
      "Client Ver:1 (Min Req: 1), Server Ver:1 (Min Req: 1)\n",
      "\n"
     ]
    },
    {
     "data": {
      "text/plain": [
       "True"
      ]
     },
     "execution_count": 1,
     "metadata": {},
     "output_type": "execute_result"
    }
   ],
   "source": [
    "# ===== Подключение к дрону =====\r\n",
    "\r\n",
    "client = airgen.MultirotorClient()\r\n",
    "client.confirmConnection()\r\n",
    "client.enableApiControl(True)\r\n",
    "client.armDisarm(True)\r\n",
    "\r\n",
    "# ===== Взлет дрона =====\r\n",
    "\r\n",
    "#client.takeoffAsync().join()\r\n",
    "\r\n",
    "# ===== Посадка дрона =====\r\n",
    "\r\n",
    "#client.landAsync().join()"
   ]
  },
  {
   "cell_type": "code",
   "execution_count": null,
   "id": "ade8eccb",
   "metadata": {},
   "outputs": [
    {
     "name": "stdout",
     "output_type": "stream",
     "text": [
      "Available cameras:\n",
      "PlayerCameraManager_2147482445\n",
      "CameraManagerActor\n",
      "ExternalCamera\n",
      "BP_PIPCamera_C_2147482405\n",
      "BP_PIPCamera_C_2147482393\n",
      "BP_PIPCamera_C_2147482381\n",
      "BP_PIPCamera_C_2147482369\n",
      "BP_PIPCamera_C_2147482357\n"
     ]
    }
   ],
   "source": [
    "# ===== Просмотр камер привязаных к Alta X =====\r\n",
    "\r\n",
    "scene_client = airgen.VehicleClient()\r\n",
    "scene_objects = scene_client.simListSceneObjects()\r\n",
    "cameras = [obj for obj in scene_objects if 'camera' in obj.lower()]\r\n",
    "\r\n",
    "print(\"Available cameras:\")\r\n",
    "for camera in cameras:\r\n",
    "    print(camera)"
   ]
  },
  {
   "cell_type": "code",
   "execution_count": null,
   "id": "986a7d50",
   "metadata": {},
   "outputs": [],
   "source": [
    "# ===== Получение и логирование GPS =====\r\n",
    "\r\n",
    "gps_data = client.getGpsData()\r\n",
    "geo = gps_data.gnss.geo_point\r\n",
    "gps_position = np.array([[geo.latitude, geo.longitude, geo.altitude]], dtype=np.float32)\r\n",
    "rr.log(\"drone/gps\", rr.Points3D(gps_position))"
   ]
  },
  {
   "cell_type": "code",
   "execution_count": null,
   "id": "eebdc640",
   "metadata": {},
   "outputs": [],
   "source": [
    "# ===== Получение и логирование изображения с камеры =====\r\n",
    "\r\n",
    "image_data = client.getImages(\"front_center\", [airgen.ImageType.Scene])[0]\r\n",
    "rgb_image, _ = image_data  # Получаем изображение и позу\r\n",
    "rr.log(\"drone/camera\", rr.Image(rgb_image))"
   ]
  },
  {
   "cell_type": "code",
   "execution_count": null,
   "id": "e85e470a",
   "metadata": {},
   "outputs": [
    {
     "name": "stdout",
     "output_type": "stream",
     "text": [
      "❗ Объекты не обнаружены.\n"
     ]
    }
   ],
   "source": [
    "# ===== Работа ИИ камеры на дроне =====\r\n",
    "\r\n",
    "# ===== Инициализация =====\r\n",
    "depth_model = Metric3D()\r\n",
    "depth_map = depth_model.run(rgb_image)\r\n",
    "\r\n",
    "result = detection_rt_detr.run(input=rgb_image.copy(), confidence_threshold=0.3)\r\n",
    "\r\n",
    "if isinstance(result, dict) and 'boxes' in result:\r\n",
    "    filtered_boxes = []\r\n",
    "    filtered_labels = []\r\n",
    "    filtered_distances = []\r\n",
    "\r\n",
    "    ignore_labels = [\"grass\", \"floor\", \"ground\", \"road\", \"terrain\"]\r\n",
    "    min_distance = 2\r\n",
    "    max_distance = 20\r\n",
    "\r\n",
    "    # Центр изображения — точка откуда \"исходит БПЛА\"\r\n",
    "    img_center = (rgb_image.shape[1] // 2, rgb_image.shape[0] // 2)\r\n",
    "\r\n",
    "    image_with_lines = rgb_image.copy()\r\n",
    "\r\n",
    "    for box, label in zip(result[\"boxes\"], result[\"labels\"]):\r\n",
    "        x, y, w, h = map(int, box)\r\n",
    "        cx = x + w // 2\r\n",
    "        cy = y + h // 2\r\n",
    "\r\n",
    "        if 0 <= cy < depth_map.shape[0] and 0 <= cx < depth_map.shape[1]:\r\n",
    "            distance = depth_map[cy, cx]\r\n",
    "\r\n",
    "            if (min_distance <= distance <= max_distance) and (label.lower() not in ignore_labels):\r\n",
    "                filtered_boxes.append([x, y, w, h])\r\n",
    "                filtered_labels.append(label)\r\n",
    "                filtered_distances.append(distance)\r\n",
    "\r\n",
    "                # ===== Отрисовка линии до объекта =====\r\n",
    "                line_color = (0, 255, 0) if distance > 10 else (0, 255, 255) if distance > 5 else (0, 0, 255)\r\n",
    "                cv2.line(image_with_lines, img_center, (cx, cy), line_color, 2)\r\n",
    "\r\n",
    "                # Подпись расстояния у центра объекта\r\n",
    "                cv2.putText(image_with_lines, f\"{distance:.1f}m\", (cx + 5, cy),\r\n",
    "                            cv2.FONT_HERSHEY_SIMPLEX, 0.5, line_color, 2)\r\n",
    "\r\n",
    "    # ===== Отрисовка боксов =====\r\n",
    "    for i, box in enumerate(filtered_boxes):\r\n",
    "        x, y, w, h = box\r\n",
    "        cv2.rectangle(image_with_lines, (x, y), (x + w, y + h), (255, 0, 0), 2)\r\n",
    "        cv2.putText(image_with_lines, filtered_labels[i], (x, y - 10),\r\n",
    "                    cv2.FONT_HERSHEY_SIMPLEX, 0.5, (255, 0, 0), 2)\r\n",
    "\r\n",
    "        rr.log(\r\n",
    "            f\"drone/object_{i}\",\r\n",
    "            rr.Boxes2D(np.array([[x, y, w, h]]), labels=[f\"{filtered_labels[i]} - {filtered_distances[i]:.1f}m\"])\r\n",
    "        )\r\n",
    "\r\n",
    "    # ===== Лог финального изображения =====\r\n",
    "    rr.log(\"drone/camera\", rr.Image(image_with_lines))\r\n",
    "\r\n",
    "else:\r\n",
    "    print(\"❗ Объекты не обнаружены.\")"
   ]
  },
  {
   "cell_type": "code",
   "execution_count": null,
   "id": "7c848192",
   "metadata": {},
   "outputs": [
    {
     "name": "stdout",
     "output_type": "stream",
     "text": [
      "⚠️ Attention! Дрон на земле или Lidar не нашел вокруг себя объекты\n"
     ]
    }
   ],
   "source": [
    "# ===== Получение и подготовка данных LiDAR + Построение маршрута =====\r\n",
    "\r\n",
    "lidar_data = client.getLidarData()\r\n",
    "points = np.array(lidar_data.point_cloud, dtype=np.float32).reshape(-1, 3)\r\n",
    "rr.log('lidar/points', rr.Points3D(points))\r\n",
    "\r\n",
    "# ===== Фильтрация: исключаем \"землю\" (высота < 0.2 м) =====\r\n",
    "above_ground = points[points[:, 2] > 0.2]\r\n",
    "\r\n",
    "object_centers = []\r\n",
    "object_distances = []\r\n",
    "\r\n",
    "if above_ground.shape[0] > 0:\r\n",
    "    # ===== Кластеризация (DBSCAN) =====\r\n",
    "    clustering = DBSCAN(eps=1.0, min_samples=10).fit(above_ground[:, :2])\r\n",
    "    labels = clustering.labels_\r\n",
    "\r\n",
    "    # ===== Обработка кластеров =====\r\n",
    "    unique_labels = set(labels)\r\n",
    "    for label in unique_labels:\r\n",
    "        if label == -1:\r\n",
    "            continue  # -1 означает шум\r\n",
    "\r\n",
    "        cluster_points = above_ground[labels == label]\r\n",
    "        center = cluster_points.mean(axis=0)\r\n",
    "        distance = np.linalg.norm(center[:2])\r\n",
    "        object_centers.append(center)\r\n",
    "        object_distances.append(distance)\r\n",
    "\r\n",
    "    rr.log(\"lidar/objects\", rr.Points3D(np.array(object_centers)))\r\n",
    "    print(f\"Обнаружено объектов по LiDAR: {len(object_centers)}\")\r\n",
    "    for i, dist in enumerate(object_distances):\r\n",
    "        print(f\" - Объект {i+1}: ~{dist:.1f} м\")\r\n",
    "else:\r\n",
    "    print(\"⚠️ Attention! Дрон на земле или Lidar не нашел вокруг себя объекты\")\r\n",
    "\r\n",
    "# ===== Построение кругового маршрута =====\r\n",
    "start = client.getMultirotorState().kinematics_estimated.position\r\n",
    "takeoff_alt = -15  # вверх в NED\r\n",
    "center = start\r\n",
    "radius = 10\r\n",
    "steps = 12\r\n",
    "\r\n",
    "trajectory = []\r\n",
    "for i in range(steps):\r\n",
    "    angle = 2 * pi * (i / steps)\r\n",
    "    x = center.x_val + radius * cos(angle)\r\n",
    "    y = center.y_val + radius * sin(angle)\r\n",
    "    z = takeoff_alt\r\n",
    "    trajectory.append(airgen.Vector3r(x, y, z))\r\n",
    "\r\n",
    "trajectory.append(airgen.Vector3r(center.x_val, center.y_val, takeoff_alt))  # возврат\r\n",
    "\r\n",
    "rr.log(\"telemetry/path\", rr.LineStrips3D([[(p.x_val, p.y_val, p.z_val) for p in trajectory]]))"
   ]
  },
  {
   "cell_type": "code",
   "execution_count": null,
   "id": "58e3a841",
   "metadata": {},
   "outputs": [
    {
     "name": "stdout",
     "output_type": "stream",
     "text": [
      "🟢 Запуск тестового полета Alta X\n",
      "⚠️ Attention! Дрон на земле или Lidar не нашел вокруг себя объекты\n"
     ]
    },
    {
     "name": "stdout",
     "output_type": "stream",
     "text": [
      "⚠️ Угроза на расстоянии 2.3 м. Перестроение маршрута...\n",
      "🔵 Уход в безопасную зону\n"
     ]
    },
    {
     "name": "stdout",
     "output_type": "stream",
     "text": [
      "🔵 Возвращаемся на основной маршрут\n"
     ]
    },
    {
     "name": "stdout",
     "output_type": "stream",
     "text": [
      "⚠️ Угроза на расстоянии 4.8 м. Перестроение маршрута...\n",
      "🔵 Уход в безопасную зону\n"
     ]
    },
    {
     "name": "stdout",
     "output_type": "stream",
     "text": [
      "🔵 Возвращаемся на основной маршрут\n"
     ]
    },
    {
     "name": "stdout",
     "output_type": "stream",
     "text": [
      "⚠️ Угроза на расстоянии 3.6 м. Перестроение маршрута...\n",
      "🔵 Уход в безопасную зону\n"
     ]
    },
    {
     "name": "stdout",
     "output_type": "stream",
     "text": [
      "🔵 Возвращаемся на основной маршрут\n"
     ]
    },
    {
     "name": "stdout",
     "output_type": "stream",
     "text": [
      "🔶 Alta X завершает полет, посадка...\n"
     ]
    },
    {
     "name": "stdout",
     "output_type": "stream",
     "text": [
      "🟢 Посадка завершена. Начинаем обучение модели...\n",
      "✅ Модель обучена на полетных данных.\n"
     ]
    }
   ],
   "source": [
    "from sklearn.ensemble import RandomForestClassifier #Модели ML\r\n",
    "from sklearn.preprocessing import StandardScaler\r\n",
    "import numpy as np\r\n",
    "from math import cos, sin, pi\r\n",
    "from sklearn.cluster import DBSCAN\r\n",
    "\r\n",
    "# Инициализация данных обучения\r\n",
    "X_train, y_train = [], []\r\n",
    "\r\n",
    "print(\"🟢 Запуск тестового полета Alta X\")\r\n",
    "\r\n",
    "# Функция для проверки, есть ли препятствие в радиусе 5 метров\r\n",
    "def is_obstacle_near(current_pos, obstacles, threshold=5.0):\r\n",
    "    for obstacle in obstacles:\r\n",
    "        dist = np.linalg.norm(np.array([current_pos.x_val, current_pos.y_val]) - obstacle[:2])\r\n",
    "        if dist < threshold:\r\n",
    "            return True, dist\r\n",
    "    return False, None\r\n",
    "\r\n",
    "# Функция для нахождения безопасного направления\r\n",
    "def find_safe_direction(current_pos, obstacles, radius=5.0, angle_step=15):\r\n",
    "    best_point = None\r\n",
    "    min_density = float('inf')\r\n",
    "    for angle in range(0, 360, angle_step):\r\n",
    "        rad = np.deg2rad(angle)\r\n",
    "        test_x = current_pos.x_val + radius * cos(rad)\r\n",
    "        test_y = current_pos.y_val + radius * sin(rad)\r\n",
    "\r\n",
    "        density = 0\r\n",
    "        for obs in obstacles:\r\n",
    "            dist = np.linalg.norm(np.array([test_x, test_y]) - obs[:2])\r\n",
    "            if dist < 2.0:  # Можно настроить минимальную дистанцию для безопасных зон\r\n",
    "                density += 1\r\n",
    "\r\n",
    "        if density < min_density:\r\n",
    "            min_density = density\r\n",
    "            best_point = airgen.Vector3r(test_x, test_y, current_pos.z_val)\r\n",
    "\r\n",
    "    return best_point\r\n",
    "\r\n",
    "# Функция для вычисления угла поворота в сторону цели\r\n",
    "def calculate_heading(p1, p2):\r\n",
    "    dx = p2.x_val - p1.x_val\r\n",
    "    dy = p2.y_val - p1.y_val\r\n",
    "    return np.degrees(np.arctan2(dy, dx))\r\n",
    "\r\n",
    "# ===== Начальный маршрут =====\r\n",
    "initial_pos = client.getMultirotorState().kinematics_estimated.position\r\n",
    "\r\n",
    "for i, target_point in enumerate(trajectory):\r\n",
    "    while True:\r\n",
    "        current_pos = client.getMultirotorState().kinematics_estimated.position\r\n",
    "        lidar_data = client.getLidarData()\r\n",
    "        points = np.array(lidar_data.point_cloud, dtype=np.float32).reshape(-1, 3)\r\n",
    "        rr.log('lidar/points', rr.Points3D(points))\r\n",
    "\r\n",
    "        # Фильтрация точек LiDAR, исключаем землю и очень близкие точки (сам дрон)\r\n",
    "        above_ground = points[(points[:, 2] > 0.2) & (np.linalg.norm(points[:, :2], axis=1) > 1.0)]\r\n",
    "\r\n",
    "        if above_ground.shape[0] == 0:\r\n",
    "            print(\"⚠️ Attention! Дрон на земле или Lidar не нашел вокруг себя объекты\")\r\n",
    "            obstacle_centers = np.empty((0, 3))\r\n",
    "        else:\r\n",
    "            # Кластеризация с использованием DBSCAN\r\n",
    "            clustering = DBSCAN(eps=1.0, min_samples=10).fit(above_ground[:, :2])\r\n",
    "            labels = clustering.labels_\r\n",
    "\r\n",
    "            obstacle_centers = []\r\n",
    "            for label in set(labels):\r\n",
    "                if label == -1:\r\n",
    "                    continue\r\n",
    "                cluster_points = above_ground[labels == label]\r\n",
    "                center = cluster_points.mean(axis=0)\r\n",
    "                obstacle_centers.append(center)\r\n",
    "\r\n",
    "            obstacle_centers = np.array(obstacle_centers)\r\n",
    "\r\n",
    "        rr.log(\"lidar/obstacles\", rr.Points3D(obstacle_centers))\r\n",
    "\r\n",
    "        # ==== Добавляем фичи в обучение ==== \r\n",
    "        feature = np.array([len(obstacle_centers), \r\n",
    "                            np.min([np.linalg.norm(np.array([current_pos.x_val, current_pos.y_val]) - oc[:2]) for oc in obstacle_centers]) if len(obstacle_centers) > 0 else 999])\r\n",
    "        \r\n",
    "        # Проверяем, есть ли опасность на пути\r\n",
    "        danger, dist = is_obstacle_near(current_pos, obstacle_centers)\r\n",
    "        label = int(danger)  # 1 — опасность, 0 — нет\r\n",
    "        X_train.append(feature)\r\n",
    "        y_train.append(label)\r\n",
    "\r\n",
    "        if danger:\r\n",
    "            print(f\"⚠️ Угроза на расстоянии {dist:.1f} м. Перестроение маршрута...\")\r\n",
    "\r\n",
    "            # Находим безопасное направление\r\n",
    "            safe_point = find_safe_direction(current_pos, obstacle_centers)\r\n",
    "            if safe_point:\r\n",
    "                heading = calculate_heading(current_pos, safe_point)\r\n",
    "                print(\"🔵 Уход в безопасную зону\")\r\n",
    "                client.rotateToYawAsync(heading, 2).join()\r\n",
    "                client.moveToPositionAsync(safe_point.x_val, safe_point.y_val, safe_point.z_val, 2.0).join()\r\n",
    "\r\n",
    "                # После безопасного обхода, возвращаемся на маршрут\r\n",
    "                heading_back = calculate_heading(safe_point, target_point)\r\n",
    "                print(\"🔵 Возвращаемся на основной маршрут\")\r\n",
    "                client.rotateToYawAsync(heading_back, 2).join()\r\n",
    "                client.moveToPositionAsync(target_point.x_val, target_point.y_val, target_point.z_val, 2.0).join()\r\n",
    "\r\n",
    "                continue  # Возвращаемся к проверке очередной цели\r\n",
    "        break  # Если нет опасности, продолжаем движение по маршруту\r\n",
    "\r\n",
    "    heading = calculate_heading(current_pos, target_point)\r\n",
    "    client.rotateToYawAsync(heading, 2).join()\r\n",
    "    client.moveToPositionAsync(target_point.x_val, target_point.y_val, target_point.z_val, 2.0).join()\r\n",
    "\r\n",
    "# ======= Завершение полёта =======\r\n",
    "print(\"🔶 Alta X завершает полет, посадка...\")\r\n",
    "\r\n",
    "final_pos = client.getMultirotorState().kinematics_estimated.position\r\n",
    "points_raw = client.getLidarData().point_cloud\r\n",
    "if len(points_raw) > 0:\r\n",
    "    points = np.array(points_raw, dtype=np.float32).reshape(-1, 3)\r\n",
    "    ground_points = points[points[:, 2] < 0.5]\r\n",
    "    min_z = float(np.min(ground_points[:, 2]) - 0.1) if len(ground_points) > 0 else -3.0\r\n",
    "else:\r\n",
    "    min_z = -3.0\r\n",
    "\r\n",
    "client.moveToPositionAsync(final_pos.x_val, final_pos.y_val, min_z, 0.8).join()\r\n",
    "client.landAsync().join()\r\n",
    "\r\n",
    "print(\"🟢 Посадка завершена. Начинаем обучение модели...\")\r\n",
    "\r\n",
    "# ===== Обучение модели на реальных данных =====\r\n",
    "X_train = np.array(X_train)\r\n",
    "y_train = np.array(y_train)\r\n",
    "\r\n",
    "scaler = StandardScaler()\r\n",
    "X_scaled = scaler.fit_transform(X_train)\r\n",
    "\r\n",
    "model = RandomForestClassifier(n_estimators=50)\r\n",
    "model.fit(X_scaled, y_train)\r\n",
    "\r\n",
    "print(\"✅ Модель обучена на полетных данных.\")\r\n"
   ]
  }
 ],
 "metadata": {},
 "nbformat": 4,
 "nbformat_minor": 5
}
