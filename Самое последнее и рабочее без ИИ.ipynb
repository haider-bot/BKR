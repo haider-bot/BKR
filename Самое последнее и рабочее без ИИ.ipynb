{
 "cells": [
  {
   "cell_type": "code",
   "execution_count": null,
   "id": "5642a690",
   "metadata": {},
   "outputs": [],
   "source": [
    "# ===== Модули Обновлено =====\r\n",
    "\r\n",
    "from grid.model.navigation.objectinspection import ObjectInspect\r\n",
    "from grid.model.navigation.visualservoing import VisualServoing\r\n",
    "from grid.model.perception.detection.rt_detr import RT_DETR\r\n",
    "\r\n",
    "import airgen\r\n",
    "import numpy as np\r\n",
    "import rerun as rr\r\n",
    "import time\r\n",
    "from math import cos, sin, pi\r\n",
    "\r\n",
    "# Инициализация моделей\r\n",
    "nav_inspect = ObjectInspect()\r\n",
    "nav_visualservoing = VisualServoing()\r\n",
    "detection_rt_detr = RT_DETR()"
   ]
  },
  {
   "cell_type": "code",
   "execution_count": null,
   "id": "a57694e4",
   "metadata": {},
   "outputs": [
    {
     "name": "stdout",
     "output_type": "stream",
     "text": [
      "Connected!\n",
      "Client Ver:1 (Min Req: 1), Server Ver:1 (Min Req: 1)\n",
      "\n"
     ]
    }
   ],
   "source": [
    "# ===== Подключение к дрону и взлёт =====\r\n",
    "\r\n",
    "client = airgen.MultirotorClient()\r\n",
    "client.confirmConnection()\r\n",
    "client.enableApiControl(True)\r\n",
    "client.armDisarm(True)\r\n",
    "client.takeoffAsync().join()"
   ]
  },
  {
   "cell_type": "code",
   "execution_count": null,
   "id": "5a86aead",
   "metadata": {},
   "outputs": [
    {
     "name": "stdout",
     "output_type": "stream",
     "text": [
      "Available cameras:\n",
      "PlayerCameraManager_2147482445\n",
      "CameraManagerActor\n",
      "ExternalCamera\n",
      "BP_PIPCamera_C_2147482405\n",
      "BP_PIPCamera_C_2147482393\n",
      "BP_PIPCamera_C_2147482381\n",
      "BP_PIPCamera_C_2147482369\n",
      "BP_PIPCamera_C_2147482357\n"
     ]
    }
   ],
   "source": [
    "# ===== Создание клиента сцены =====\r\n",
    "scene_client = airgen.VehicleClient()\r\n",
    "scene_objects = scene_client.simListSceneObjects()\r\n",
    "cameras = [obj for obj in scene_objects if 'camera' in obj.lower()]\r\n",
    "\r\n",
    "print(\"Available cameras:\")\r\n",
    "for camera in cameras:\r\n",
    "    print(camera)"
   ]
  },
  {
   "cell_type": "code",
   "execution_count": null,
   "id": "5bc81421",
   "metadata": {},
   "outputs": [],
   "source": [
    "# ===== Получение данных LiDAR + визуализация =====\r\n",
    "lidar_data = client.getLidarData()\r\n",
    "points = np.array(lidar_data.point_cloud, dtype=np.float32).reshape(-1, 3)\r\n",
    "rr.log('lidar/points', rr.Points3D(points))"
   ]
  },
  {
   "cell_type": "code",
   "execution_count": null,
   "id": "92d883e1",
   "metadata": {},
   "outputs": [],
   "source": [
    "# ===== Получение и логирование изображения с камеры =====\r\n",
    "image_data = client.getImages(\"front_center\", [airgen.ImageType.Scene])[0]\r\n",
    "rgb_image, _ = image_data  # Получаем изображение и позу\r\n",
    "rr.log(\"drone/camera\", rr.Image(rgb_image))"
   ]
  },
  {
   "cell_type": "code",
   "execution_count": null,
   "id": "bcc0a95a",
   "metadata": {},
   "outputs": [],
   "source": [
    "# ===== Получение и логирование GPS =====\r\n",
    "gps_data = client.getGpsData()\r\n",
    "geo = gps_data.gnss.geo_point\r\n",
    "gps_position = np.array([[geo.latitude, geo.longitude, geo.altitude]], dtype=np.float32)\r\n",
    "rr.log(\"drone/gps\", rr.Points3D(gps_position))"
   ]
  },
  {
   "cell_type": "code",
   "execution_count": null,
   "id": "fd05deeb",
   "metadata": {},
   "outputs": [
    {
     "name": "stdout",
     "output_type": "stream",
     "text": [
      "❗ Объекты не обнаружены.\n"
     ]
    }
   ],
   "source": [
    "from grid.model.perception.detection.rt_detr import RT_DETR\r\n",
    "import rerun as rr\r\n",
    "import airgen\r\n",
    "import numpy as np\r\n",
    "import cv2\r\n",
    "\r\n",
    "drone = airgen.MultirotorClient()  # Заменяем AirGenCar на drone\r\n",
    "\r\n",
    "# We will be capturing an image from the AirGen simulator \r\n",
    "# and run model inference on it.\r\n",
    "\r\n",
    "# Получаем изображение с камеры в формате Scene\r\n",
    "image_data, _ = drone.getImages(\"front_center\", [airgen.ImageType.Scene])[0]\r\n",
    "\r\n",
    "# image_data теперь содержит изображение. Передаем его в модель.\r\n",
    "model = RT_DETR(use_local=True)\r\n",
    "result = model.run(input=image_data.copy(), confidence_threshold=0.5)\r\n",
    "\r\n",
    "# Проверяем, есть ли объекты в результате детекции\r\n",
    "if result and 'boxes' in result and len(result['boxes']) > 0:\r\n",
    "    # Логируем результаты как объекты\r\n",
    "    boxes = result['boxes']\r\n",
    "    labels = result['labels']\r\n",
    "    \r\n",
    "    # Рисуем прямоугольники на изображении\r\n",
    "    image_with_boxes = image_data.copy()\r\n",
    "    \r\n",
    "    for i, box in enumerate(boxes):\r\n",
    "        x, y, w, h = box\r\n",
    "        # Рисуем прямоугольник на изображении\r\n",
    "        cv2.rectangle(image_with_boxes, (x, y), (x + w, y + h), (0, 255, 0), 2)\r\n",
    "        \r\n",
    "        # Логируем результат как объект\r\n",
    "        rr.log(\r\n",
    "            f\"drone/obstacle_{i}\",\r\n",
    "            rr.Boxes2D(np.array([[x, y, w, h]]), labels=[\"Obstacle\"])\r\n",
    "        )\r\n",
    "    \r\n",
    "    # Логируем изображение с обведенными объектами\r\n",
    "    rr.log(\"drone/camera\", rr.Image(image_with_boxes))\r\n",
    "    \r\n",
    "else:\r\n",
    "    print(\"❗ Объекты не обнаружены.\")\r\n"
   ]
  },
  {
   "cell_type": "code",
   "execution_count": null,
   "id": "375d90cf",
   "metadata": {},
   "outputs": [],
   "source": [
    "# ===== Построение и визуализация кругового маршрута =====\r\n",
    "\r\n",
    "lidar_data = client.getLidarData()\r\n",
    "points = np.array(lidar_data.point_cloud, dtype=np.float32).reshape(-1, 3)\r\n",
    "\r\n",
    "# Визуализация\r\n",
    "rr.log('lidar/points', rr.Points3D(points))\r\n",
    "\r\n",
    "# Стартовая точка\r\n",
    "start = client.getMultirotorState().kinematics_estimated.position\r\n",
    "takeoff_alt = -15  # минус = вверх в NED\r\n",
    "center = start\r\n",
    "radius = 10\r\n",
    "steps = 12  # количество точек круга\r\n",
    "\r\n",
    "# Построение круга\r\n",
    "trajectory = []\r\n",
    "for i in range(steps):\r\n",
    "    angle = 2 * pi * (i / steps)\r\n",
    "    x = center.x_val + radius * cos(angle)\r\n",
    "    y = center.y_val + radius * sin(angle)\r\n",
    "    z = takeoff_alt\r\n",
    "    trajectory.append(airgen.Vector3r(x, y, z))\r\n",
    "\r\n",
    "# Возврат к центру\r\n",
    "trajectory.append(airgen.Vector3r(center.x_val, center.y_val, takeoff_alt))\r\n",
    "\r\n",
    "# Визуализация маршрута\r\n",
    "rr.log(\"telemetry/path\", rr.LineStrips3D([[(p.x_val, p.y_val, p.z_val) for p in trajectory]]))"
   ]
  },
  {
   "cell_type": "code",
   "execution_count": null,
   "id": "09bc0f8b",
   "metadata": {},
   "outputs": [],
   "source": [
    "\r\n",
    "# ===== Плавное движение по маршруту и посадка =====\r\n",
    "\r\n",
    "lidar_data = client.getLidarData()\r\n",
    "points = np.array(lidar_data.point_cloud, dtype=np.float32).reshape(-1, 3)\r\n",
    "\r\n",
    "# Визуализация\r\n",
    "rr.log('lidar/points', rr.Points3D(points))\r\n",
    "velocity = 3.0  # Плавная скорость\r\n",
    "\r\n",
    "client.moveOnPathAsync(\r\n",
    "    trajectory,\r\n",
    "    velocity,\r\n",
    "    300,\r\n",
    "    airgen.DrivetrainType.ForwardOnly,\r\n",
    "    airgen.YawMode(False, 0),\r\n",
    "    -1, 0\r\n",
    ").join()\r\n",
    "\r\n",
    "# Плавная посадка\r\n",
    "landing_point = airgen.Vector3r(center.x_val, center.y_val, -2)\r\n",
    "client.moveToPositionAsync(landing_point.x_val, landing_point.y_val, landing_point.z_val, 1).join()\r\n",
    "client.landAsync().join()\r\n"
   ]
  },
  {
   "cell_type": "code",
   "execution_count": null,
   "id": "da1d3474",
   "metadata": {},
   "outputs": [],
   "source": [
    "import airgen\r\n",
    "import time\r\n",
    "\r\n",
    "# Подключаемся к дрону\r\n",
    "drone = airgen.MultirotorClient()\r\n",
    "\r\n",
    "# Устанавливаем движение вперед\r\n",
    "def move_forward(distance=10, velocity=3.0):\r\n",
    "    # Получаем текущую позицию\r\n",
    "    current_position = drone.getMultirotorState().kinematics_estimated.position\r\n",
    "\r\n",
    "    # Рассчитываем новую позицию\r\n",
    "    new_position = airgen.Vector3r(\r\n",
    "        current_position.x_val + distance,  # Двигаемся вперед вдоль оси X\r\n",
    "        current_position.y_val,             # Остаемся на месте по оси Y\r\n",
    "        current_position.z_val              # Остаемся на той же высоте по оси Z\r\n",
    "    )\r\n",
    "\r\n",
    "    # Двигаемся к новой позиции с заданной скоростью\r\n",
    "    drone.moveToPositionAsync(new_position.x_val, new_position.y_val, new_position.z_val, velocity).join()\r\n",
    "\r\n",
    "# Пример движения на 10 метров вперед с максимальной скоростью 3 м/с\r\n",
    "move_forward(distance=10, velocity=3.0)\r\n"
   ]
  }
 ],
 "metadata": {},
 "nbformat": 4,
 "nbformat_minor": 5
}
