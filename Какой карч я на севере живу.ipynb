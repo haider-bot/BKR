{
 "cells": [
  {
   "cell_type": "code",
   "execution_count": null,
   "id": "5642a690",
   "metadata": {},
   "outputs": [],
   "source": [
    "# ===== Модули Обновлено =====\r\n",
    "\r\n",
    "from grid.model.navigation.objectinspection import ObjectInspect\r\n",
    "from grid.model.navigation.visualservoing import VisualServoing\r\n",
    "from grid.model.perception.detection.rt_detr import RT_DETR\r\n",
    "\r\n",
    "import airgen\r\n",
    "import numpy as np\r\n",
    "import rerun as rr\r\n",
    "import time\r\n",
    "from math import cos, sin, pi\r\n",
    "\r\n",
    "# Инициализация моделей\r\n",
    "nav_inspect = ObjectInspect()\r\n",
    "nav_visualservoing = VisualServoing()\r\n",
    "detection_rt_detr = RT_DETR()\r\n",
    "detection_rt_detr_0 = RT_DETR()"
   ]
  },
  {
   "cell_type": "code",
   "execution_count": null,
   "id": "a57694e4",
   "metadata": {},
   "outputs": [
    {
     "name": "stdout",
     "output_type": "stream",
     "text": [
      "Connected!\n",
      "Client Ver:1 (Min Req: 1), Server Ver:1 (Min Req: 1)\n",
      "\n"
     ]
    }
   ],
   "source": [
    "# ===== Подключение к дрону и взлёт =====\r\n",
    "\r\n",
    "client = airgen.MultirotorClient()\r\n",
    "client.confirmConnection()\r\n",
    "client.enableApiControl(True)\r\n",
    "client.armDisarm(True)\r\n",
    "client.takeoffAsync().join()"
   ]
  },
  {
   "cell_type": "code",
   "execution_count": null,
   "id": "5a86aead",
   "metadata": {},
   "outputs": [
    {
     "name": "stdout",
     "output_type": "stream",
     "text": [
      "Available cameras:\n",
      "PlayerCameraManager_2147482445\n",
      "CameraManagerActor\n",
      "ExternalCamera\n",
      "BP_PIPCamera_C_2147482405\n",
      "BP_PIPCamera_C_2147482393\n",
      "BP_PIPCamera_C_2147482381\n",
      "BP_PIPCamera_C_2147482369\n",
      "BP_PIPCamera_C_2147482357\n"
     ]
    }
   ],
   "source": [
    "# ===== Создание клиента сцены =====\r\n",
    "scene_client = airgen.VehicleClient()\r\n",
    "scene_objects = scene_client.simListSceneObjects()\r\n",
    "cameras = [obj for obj in scene_objects if 'camera' in obj.lower()]\r\n",
    "\r\n",
    "print(\"Available cameras:\")\r\n",
    "for camera in cameras:\r\n",
    "    print(camera)"
   ]
  },
  {
   "cell_type": "code",
   "execution_count": null,
   "id": "5bc81421",
   "metadata": {},
   "outputs": [],
   "source": [
    "# ===== Получение данных LiDAR + визуализация =====\r\n",
    "lidar_data = client.getLidarData()\r\n",
    "points = np.array(lidar_data.point_cloud, dtype=np.float32).reshape(-1, 3)\r\n",
    "rr.log('lidar/points', rr.Points3D(points))"
   ]
  },
  {
   "cell_type": "code",
   "execution_count": null,
   "id": "92d883e1",
   "metadata": {},
   "outputs": [],
   "source": [
    "# ===== Получение и логирование изображения с камеры =====\r\n",
    "image_data = client.getImages(\"front_center\", [airgen.ImageType.Scene])[0]\r\n",
    "rgb_image, _ = image_data  # Получаем изображение и позу\r\n",
    "rr.log(\"drone/camera\", rr.Image(rgb_image))"
   ]
  },
  {
   "cell_type": "code",
   "execution_count": null,
   "id": "bcc0a95a",
   "metadata": {},
   "outputs": [],
   "source": [
    "# ===== Получение и логирование GPS =====\r\n",
    "gps_data = client.getGpsData()\r\n",
    "geo = gps_data.gnss.geo_point\r\n",
    "gps_position = np.array([[geo.latitude, geo.longitude, geo.altitude]], dtype=np.float32)\r\n",
    "rr.log(\"drone/gps\", rr.Points3D(gps_position))"
   ]
  }
 ],
 "metadata": {},
 "nbformat": 4,
 "nbformat_minor": 5
}
