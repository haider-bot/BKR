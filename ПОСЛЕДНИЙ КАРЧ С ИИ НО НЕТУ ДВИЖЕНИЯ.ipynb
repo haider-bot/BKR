{
 "cells": [
  {
   "cell_type": "code",
   "execution_count": null,
   "id": "fa095090",
   "metadata": {},
   "outputs": [],
   "source": [
    "# ===== Модули Обновлено =====\n",
    "\n",
    "from grid.model.navigation.objectinspection import ObjectInspect\n",
    "from grid.model.navigation.visualservoing import VisualServoing\n",
    "from grid.model.perception.detection.rt_detr import RT_DETR\n",
    "\n",
    "import airgen\n",
    "import numpy as np\n",
    "import rerun as rr\n",
    "import cv2\n",
    "import time\n",
    "from math import cos, sin, pi\n",
    "\n",
    "# Инициализация моделей\n",
    "nav_inspect = ObjectInspect()\n",
    "nav_visualservoing = VisualServoing()\n",
    "detection_rt_detr = RT_DETR(use_local=True)  # Инициализация модели детекции"
   ]
  },
  {
   "cell_type": "code",
   "execution_count": null,
   "id": "93bf20b7",
   "metadata": {},
   "outputs": [
    {
     "name": "stdout",
     "output_type": "stream",
     "text": [
      "Connected!\n",
      "Client Ver:1 (Min Req: 1), Server Ver:1 (Min Req: 1)\n",
      "\n"
     ]
    }
   ],
   "source": [
    "# ===== Подключение к дрону и взлёт =====\n",
    "\n",
    "client = airgen.MultirotorClient()\n",
    "client.confirmConnection()\n",
    "client.enableApiControl(True)\n",
    "client.armDisarm(True)\n",
    "# ===== Взлет дрона =====\n",
    "client.takeoffAsync().join()\n",
    "\n",
    "# ===== Посадка дрона =====\n",
    "# client.landAsync().join()"
   ]
  },
  {
   "cell_type": "code",
   "execution_count": null,
   "id": "691af8cb",
   "metadata": {},
   "outputs": [
    {
     "name": "stdout",
     "output_type": "stream",
     "text": [
      "Available cameras:\n",
      "PlayerCameraManager_2147482464\n",
      "CameraManagerActor\n",
      "ExternalCamera\n",
      "BP_PIPCamera_C_2147482424\n",
      "BP_PIPCamera_C_2147482412\n",
      "BP_PIPCamera_C_2147482400\n",
      "BP_PIPCamera_C_2147482388\n",
      "BP_PIPCamera_C_2147482376\n"
     ]
    }
   ],
   "source": [
    "# ===== Создание клиента сцены =====\r\n",
    "\r\n",
    "scene_client = airgen.VehicleClient()\r\n",
    "scene_objects = scene_client.simListSceneObjects()\r\n",
    "cameras = [obj for obj in scene_objects if 'camera' in obj.lower()]\r\n",
    "\r\n",
    "print(\"Available cameras:\")\r\n",
    "for camera in cameras:\r\n",
    "    print(camera)"
   ]
  },
  {
   "cell_type": "code",
   "execution_count": null,
   "id": "4f4fe87c",
   "metadata": {},
   "outputs": [],
   "source": [
    "# ===== Получение данных LiDAR + визуализация =====\r\n",
    "\r\n",
    "lidar_data = client.getLidarData()\r\n",
    "points = np.array(lidar_data.point_cloud, dtype=np.float32).reshape(-1, 3)\r\n",
    "rr.log('lidar/points', rr.Points3D(points))"
   ]
  },
  {
   "cell_type": "code",
   "execution_count": null,
   "id": "fd72c183",
   "metadata": {},
   "outputs": [],
   "source": [
    "# ===== Получение и логирование изображения с камеры =====\r\n",
    "\r\n",
    "image_data, _ = client.getImages(\"front_center\", [airgen.ImageType.Scene])[0]\r\n",
    "rgb_image = cv2.cvtColor(image_data, cv2.COLOR_RGB2BGR)"
   ]
  },
  {
   "cell_type": "code",
   "execution_count": null,
   "id": "de14b86e",
   "metadata": {},
   "outputs": [],
   "source": [
    "# ===== Получение и логирование GPS =====\r\n",
    "\r\n",
    "gps_data = client.getGpsData()\r\n",
    "geo = gps_data.gnss.geo_point\r\n",
    "gps_position = np.array([[geo.latitude, geo.longitude, geo.altitude]], dtype=np.float32)\r\n",
    "rr.log(\"drone/gps\", rr.Points3D(gps_position))"
   ]
  },
  {
   "cell_type": "code",
   "execution_count": null,
   "id": "d8bb8bf3",
   "metadata": {},
   "outputs": [
    {
     "name": "stdout",
     "output_type": "stream",
     "text": [
      "❗ Объекты не обнаружены.\n"
     ]
    }
   ],
   "source": [
    "# Инициализация модели детекции\r\n",
    "detection_rt_detr = RT_DETR(use_local=True)\r\n",
    "\r\n",
    "# ===== Получение и логирование изображения с камеры =====\r\n",
    "image_data, _ = client.getImages(\"front_center\", [airgen.ImageType.Scene])[0]\r\n",
    "rgb_image = cv2.cvtColor(image_data, cv2.COLOR_RGB2BGR)  # Преобразование в BGR для OpenCV\r\n",
    "\r\n",
    "# ===== Распознавание препятствий =====\r\n",
    "result = detection_rt_detr.run(input=rgb_image.copy(), confidence_threshold=0.3)  # Снижение порога доверия\r\n",
    "\r\n",
    "# Проверяем, есть ли объекты в результате детекции\r\n",
    "if isinstance(result, dict) and 'boxes' in result and len(result['boxes']) > 0:\r\n",
    "    boxes = result['boxes']\r\n",
    "    labels = result['labels']\r\n",
    "    \r\n",
    "    image_with_boxes = rgb_image.copy()\r\n",
    "\r\n",
    "    for i, box in enumerate(boxes):\r\n",
    "        x, y, w, h = box\r\n",
    "        cv2.rectangle(image_with_boxes, (x, y), (x + w, y + h), (0, 255, 0), 2)\r\n",
    "        cv2.putText(image_with_boxes, f\"Object {i+1}\", (x, y - 10), cv2.FONT_HERSHEY_SIMPLEX, 0.5, (0, 255, 0), 2)\r\n",
    "\r\n",
    "        rr.log(\r\n",
    "            f\"drone/obstacle_{i}\",\r\n",
    "            rr.Boxes2D(np.array([[x, y, w, h]]), labels=[\"Obstacle\"])\r\n",
    "        )\r\n",
    "\r\n",
    "    rr.log(\"drone/camera\", rr.Image(image_with_boxes))\r\n",
    "\r\n",
    "else:\r\n",
    "    print(\"❗ Объекты не обнаружены.\")\r\n",
    "\r\n"
   ]
  }
 ],
 "metadata": {},
 "nbformat": 4,
 "nbformat_minor": 5
}
