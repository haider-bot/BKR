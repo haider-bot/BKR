{
 "cells": [
  {
   "cell_type": "code",
   "execution_count": null,
   "id": "af3fae8f",
   "metadata": {},
   "outputs": [],
   "source": [
    "import time\n",
    "import numpy as np\n",
    "import heapq\n",
    "from ipywidgets import interact, FloatSlider, VBox, HTML\n",
    "from grid.robot.aerial.airgen_drone import AirGenDrone\n",
    "import tensorflow as tf\n",
    "from tensorflow.keras.models import Sequential\n",
    "from tensorflow.keras.layers import Dense"
   ]
  },
  {
   "cell_type": "code",
   "execution_count": null,
   "id": "38c278be",
   "metadata": {},
   "outputs": [],
   "source": [
    "# =============================== Lidar и Скорость дрона ===============================\n",
    "\n",
    "# Класс для управления скоростью дрона\n",
    "class Velocity:\n",
    "    def __init__(self, x_vel=0.0, y_vel=0.0, z_vel=0.0):\n",
    "        self.x_vel = x_vel\n",
    "        self.y_vel = y_vel\n",
    "        self.z_vel = z_vel\n",
    "\n",
    "# Симуляция LiDAR для обнаружения препятствий\n",
    "def simulated_lidar_scan(position, radius=5.0):\n",
    "    obstacles = [\n",
    "        (2, 2, 1),\n",
    "        (4, 4, 1)\n",
    "    ]\n",
    "    return [obs for obs in obstacles if np.linalg.norm(np.subtract(obs, position)) <= radius]"
   ]
  },
  {
   "cell_type": "code",
   "execution_count": null,
   "id": "51c4ee7a",
   "metadata": {},
   "outputs": [],
   "source": [
    "# =============================== Алгоритм поиска пути A* ===============================\n",
    "\n",
    "# Алгоритм A* для поиска пути на 2D-сетке с динамическими препятствиями\n",
    "def astar_dynamic(start, goal, obstacles, bounds=(-10, 10)):\n",
    "    def neighbors(node):\n",
    "        x, y = node\n",
    "        for dx, dy in [(-1,0),(1,0),(0,-1),(0,1)]:\n",
    "            nx, ny = x + dx, y + dy\n",
    "            if bounds[0] <= nx <= bounds[1] and bounds[0] <= ny <= bounds[1]:\n",
    "                yield (nx, ny)\n",
    "\n",
    "    def heuristic(a, b):\n",
    "        return np.linalg.norm(np.subtract(a, b))\n",
    "\n",
    "    start = tuple(map(int, start[:2]))\n",
    "    goal = tuple(map(int, goal[:2]))\n",
    "    obs_set = {tuple(map(int, o[:2])) for o in obstacles}\n",
    "\n",
    "    frontier = [(0, start)]\n",
    "    came_from = {start: None}\n",
    "    cost_so_far = {start: 0}\n",
    "\n",
    "    while frontier:\n",
    "        _, current = heapq.heappop(frontier)\n",
    "        if current == goal:\n",
    "            break\n",
    "        for next_node in neighbors(current):\n",
    "            if next_node in obs_set:\n",
    "                continue\n",
    "            new_cost = cost_so_far[current] + 1\n",
    "            if next_node not in cost_so_far or new_cost < cost_so_far[next_node]:\n",
    "                cost_so_far[next_node] = new_cost\n",
    "                priority = new_cost + heuristic(goal, next_node)\n",
    "                heapq.heappush(frontier, (priority, next_node))\n",
    "                came_from[next_node] = current\n",
    "\n",
    "    node = goal\n",
    "    path = []\n",
    "    while node:\n",
    "        path.append((node[0], node[1], start_pos[2]))  # фиксируем высоту\n",
    "        node = came_from.get(node)\n",
    "    return path[::-1] if path else []"
   ]
  },
  {
   "cell_type": "code",
   "execution_count": null,
   "id": "2f3a8390",
   "metadata": {},
   "outputs": [
    {
     "name": "stdout",
     "output_type": "stream",
     "text": [
      "Epoch 1/10\n"
     ]
    },
    {
     "name": "stdout",
     "output_type": "stream",
     "text": [
      "\r\n",
      "\u001b[1m1/4\u001b[0m \u001b[32m━━━━━\u001b[0m\u001b[37m━━━━━━━━━━━━━━━\u001b[0m \u001b[1m2s\u001b[0m 791ms/step - accuracy: 0.5938 - loss: 0.6933"
     ]
    },
    {
     "name": "stdout",
     "output_type": "stream",
     "text": [
      "\b\b\b\b\b\b\b\b\b\b\b\b\b\b\b\b\b\b\b\b\b\b\b\b\b\b\b\b\b\b\b\b\b\b\b\b\b\b\b\b\b\b\b\b\b\b\b\b\b\b\b\b\b\b\b\b\b\b\b\b\b\b\b\b\b\b\b\b\b\b\b\b\r\n",
      "\u001b[1m4/4\u001b[0m \u001b[32m━━━━━━━━━━━━━━━━━━━━\u001b[0m\u001b[37m\u001b[0m \u001b[1m1s\u001b[0m 7ms/step - accuracy: 0.5464 - loss: 0.6944  \n"
     ]
    },
    {
     "name": "stdout",
     "output_type": "stream",
     "text": [
      "Epoch 2/10\n"
     ]
    },
    {
     "name": "stdout",
     "output_type": "stream",
     "text": [
      "\r\n",
      "\u001b[1m1/4\u001b[0m \u001b[32m━━━━━\u001b[0m\u001b[37m━━━━━━━━━━━━━━━\u001b[0m \u001b[1m0s\u001b[0m 31ms/step - accuracy: 0.6250 - loss: 0.6778"
     ]
    },
    {
     "name": "stdout",
     "output_type": "stream",
     "text": [
      "\b\b\b\b\b\b\b\b\b\b\b\b\b\b\b\b\b\b\b\b\b\b\b\b\b\b\b\b\b\b\b\b\b\b\b\b\b\b\b\b\b\b\b\b\b\b\b\b\b\b\b\b\b\b\b\b\b\b\b\b\b\b\b\b\b\b\b\b\b\b\b\r\n",
      "\u001b[1m4/4\u001b[0m \u001b[32m━━━━━━━━━━━━━━━━━━━━\u001b[0m\u001b[37m\u001b[0m \u001b[1m0s\u001b[0m 9ms/step - accuracy: 0.5486 - loss: 0.6859 \n"
     ]
    },
    {
     "name": "stdout",
     "output_type": "stream",
     "text": [
      "Epoch 3/10\n"
     ]
    },
    {
     "name": "stdout",
     "output_type": "stream",
     "text": [
      "\r\n",
      "\u001b[1m1/4\u001b[0m \u001b[32m━━━━━\u001b[0m\u001b[37m━━━━━━━━━━━━━━━\u001b[0m \u001b[1m0s\u001b[0m 37ms/step - accuracy: 0.5000 - loss: 0.6889"
     ]
    },
    {
     "name": "stdout",
     "output_type": "stream",
     "text": [
      "\b\b\b\b\b\b\b\b\b\b\b\b\b\b\b\b\b\b\b\b\b\b\b\b\b\b\b\b\b\b\b\b\b\b\b\b\b\b\b\b\b\b\b\b\b\b\b\b\b\b\b\b\b\b\b\b\b\b\b\b\b\b\b\b\b\b\b\b\b\b\b\r\n",
      "\u001b[1m4/4\u001b[0m \u001b[32m━━━━━━━━━━━━━━━━━━━━\u001b[0m\u001b[37m\u001b[0m \u001b[1m0s\u001b[0m 10ms/step - accuracy: 0.5205 - loss: 0.6854\n"
     ]
    },
    {
     "name": "stdout",
     "output_type": "stream",
     "text": [
      "Epoch 4/10\n"
     ]
    },
    {
     "name": "stdout",
     "output_type": "stream",
     "text": [
      "\r\n",
      "\u001b[1m1/4\u001b[0m \u001b[32m━━━━━\u001b[0m\u001b[37m━━━━━━━━━━━━━━━\u001b[0m \u001b[1m0s\u001b[0m 24ms/step - accuracy: 0.5625 - loss: 0.6822"
     ]
    },
    {
     "name": "stdout",
     "output_type": "stream",
     "text": [
      "\b\b\b\b\b\b\b\b\b\b\b\b\b\b\b\b\b\b\b\b\b\b\b\b\b\b\b\b\b\b\b\b\b\b\b\b\b\b\b\b\b\b\b\b\b\b\b\b\b\b\b\b\b\b\b\b\b\b\b\b\b\b\b\b\b\b\b\b\b\b\b\r\n",
      "\u001b[1m4/4\u001b[0m \u001b[32m━━━━━━━━━━━━━━━━━━━━\u001b[0m\u001b[37m\u001b[0m \u001b[1m0s\u001b[0m 6ms/step - accuracy: 0.5483 - loss: 0.6819 \n"
     ]
    },
    {
     "name": "stdout",
     "output_type": "stream",
     "text": [
      "Epoch 5/10\n"
     ]
    },
    {
     "name": "stdout",
     "output_type": "stream",
     "text": [
      "\r\n",
      "\u001b[1m1/4\u001b[0m \u001b[32m━━━━━\u001b[0m\u001b[37m━━━━━━━━━━━━━━━\u001b[0m \u001b[1m0s\u001b[0m 43ms/step - accuracy: 0.5000 - loss: 0.6867"
     ]
    },
    {
     "name": "stdout",
     "output_type": "stream",
     "text": [
      "\b\b\b\b\b\b\b\b\b\b\b\b\b\b\b\b\b\b\b\b\b\b\b\b\b\b\b\b\b\b\b\b\b\b\b\b\b\b\b\b\b\b\b\b\b\b\b\b\b\b\b\b\b\b\b\b\b\b\b\b\b\b\b\b\b\b\b\b\b\b\b\r\n",
      "\u001b[1m4/4\u001b[0m \u001b[32m━━━━━━━━━━━━━━━━━━━━\u001b[0m\u001b[37m\u001b[0m \u001b[1m0s\u001b[0m 7ms/step - accuracy: 0.5481 - loss: 0.6833 \n"
     ]
    },
    {
     "name": "stdout",
     "output_type": "stream",
     "text": [
      "Epoch 6/10\n"
     ]
    },
    {
     "name": "stdout",
     "output_type": "stream",
     "text": [
      "\r\n",
      "\u001b[1m1/4\u001b[0m \u001b[32m━━━━━\u001b[0m\u001b[37m━━━━━━━━━━━━━━━\u001b[0m \u001b[1m0s\u001b[0m 37ms/step - accuracy: 0.5625 - loss: 0.6852"
     ]
    },
    {
     "name": "stdout",
     "output_type": "stream",
     "text": [
      "\b\b\b\b\b\b\b\b\b\b\b\b\b\b\b\b\b\b\b\b\b\b\b\b\b\b\b\b\b\b\b\b\b\b\b\b\b\b\b\b\b\b\b\b\b\b\b\b\b\b\b\b\b\b\b\b\b\b\b\b\b\b\b\b\b\b\b\b\b\b\b\r\n",
      "\u001b[1m4/4\u001b[0m \u001b[32m━━━━━━━━━━━━━━━━━━━━\u001b[0m\u001b[37m\u001b[0m \u001b[1m0s\u001b[0m 7ms/step - accuracy: 0.5738 - loss: 0.6806 \n"
     ]
    },
    {
     "name": "stdout",
     "output_type": "stream",
     "text": [
      "Epoch 7/10\n"
     ]
    },
    {
     "name": "stdout",
     "output_type": "stream",
     "text": [
      "\r\n",
      "\u001b[1m1/4\u001b[0m \u001b[32m━━━━━\u001b[0m\u001b[37m━━━━━━━━━━━━━━━\u001b[0m \u001b[1m0s\u001b[0m 46ms/step - accuracy: 0.5312 - loss: 0.6760"
     ]
    },
    {
     "name": "stdout",
     "output_type": "stream",
     "text": [
      "\b\b\b\b\b\b\b\b\b\b\b\b\b\b\b\b\b\b\b\b\b\b\b\b\b\b\b\b\b\b\b\b\b\b\b\b\b\b\b\b\b\b\b\b\b\b\b\b\b\b\b\b\b\b\b\b\b\b\b\b\b\b\b\b\b\b\b\b\b\b\b\r\n",
      "\u001b[1m4/4\u001b[0m \u001b[32m━━━━━━━━━━━━━━━━━━━━\u001b[0m\u001b[37m\u001b[0m \u001b[1m0s\u001b[0m 8ms/step - accuracy: 0.5735 - loss: 0.6763 \n"
     ]
    },
    {
     "name": "stdout",
     "output_type": "stream",
     "text": [
      "Epoch 8/10\n"
     ]
    },
    {
     "name": "stdout",
     "output_type": "stream",
     "text": [
      "\r\n",
      "\u001b[1m1/4\u001b[0m \u001b[32m━━━━━\u001b[0m\u001b[37m━━━━━━━━━━━━━━━\u001b[0m \u001b[1m0s\u001b[0m 24ms/step - accuracy: 0.7500 - loss: 0.6543"
     ]
    },
    {
     "name": "stdout",
     "output_type": "stream",
     "text": [
      "\b\b\b\b\b\b\b\b\b\b\b\b\b\b\b\b\b\b\b\b\b\b\b\b\b\b\b\b\b\b\b\b\b\b\b\b\b\b\b\b\b\b\b\b\b\b\b\b\b\b\b\b\b\b\b\b\b\b\b\b\b\b\b\b\b\b\b\b\b\b\b\r\n",
      "\u001b[1m4/4\u001b[0m \u001b[32m━━━━━━━━━━━━━━━━━━━━\u001b[0m\u001b[37m\u001b[0m \u001b[1m0s\u001b[0m 7ms/step - accuracy: 0.6388 - loss: 0.6706 \n"
     ]
    },
    {
     "name": "stdout",
     "output_type": "stream",
     "text": [
      "Epoch 9/10\n"
     ]
    },
    {
     "name": "stdout",
     "output_type": "stream",
     "text": [
      "\r\n",
      "\u001b[1m1/4\u001b[0m \u001b[32m━━━━━\u001b[0m\u001b[37m━━━━━━━━━━━━━━━\u001b[0m \u001b[1m0s\u001b[0m 37ms/step - accuracy: 0.5000 - loss: 0.6823"
     ]
    },
    {
     "name": "stdout",
     "output_type": "stream",
     "text": [
      "\b\b\b\b\b\b\b\b\b\b\b\b\b\b\b\b\b\b\b\b\b\b\b\b\b\b\b\b\b\b\b\b\b\b\b\b\b\b\b\b\b\b\b\b\b\b\b\b\b\b\b\b\b\b\b\b\b\b\b\b\b\b\b\b\b\b\b\b\b\b\b\r\n",
      "\u001b[1m4/4\u001b[0m \u001b[32m━━━━━━━━━━━━━━━━━━━━\u001b[0m\u001b[37m\u001b[0m \u001b[1m0s\u001b[0m 9ms/step - accuracy: 0.5818 - loss: 0.6748 \n"
     ]
    },
    {
     "name": "stdout",
     "output_type": "stream",
     "text": [
      "Epoch 10/10\n"
     ]
    },
    {
     "name": "stdout",
     "output_type": "stream",
     "text": [
      "\r\n",
      "\u001b[1m1/4\u001b[0m \u001b[32m━━━━━\u001b[0m\u001b[37m━━━━━━━━━━━━━━━\u001b[0m \u001b[1m0s\u001b[0m 33ms/step - accuracy: 0.5000 - loss: 0.6844"
     ]
    },
    {
     "name": "stdout",
     "output_type": "stream",
     "text": [
      "\b\b\b\b\b\b\b\b\b\b\b\b\b\b\b\b\b\b\b\b\b\b\b\b\b\b\b\b\b\b\b\b\b\b\b\b\b\b\b\b\b\b\b\b\b\b\b\b\b\b\b\b\b\b\b\b\b\b\b\b\b\b\b\b\b\b\b\b\b\b\b\r\n",
      "\u001b[1m4/4\u001b[0m \u001b[32m━━━━━━━━━━━━━━━━━━━━\u001b[0m\u001b[37m\u001b[0m \u001b[1m0s\u001b[0m 7ms/step - accuracy: 0.5796 - loss: 0.6751 \n"
     ]
    },
    {
     "data": {
      "text/plain": [
       "<keras.src.callbacks.history.History at 0x7fc5107ce090>"
      ]
     },
     "execution_count": 1,
     "metadata": {},
     "output_type": "execute_result"
    }
   ],
   "source": [
    "# =============================== Обучение модели ML (пример) ===============================\n",
    "\n",
    "data = np.random.rand(100, 3)  # Пример входных данных (координаты)\n",
    "labels = np.random.randint(0, 2, size=100)  # Пример меток (безопасный маршрут или нет)\n",
    "\n",
    "# Создание модели\n",
    "model = Sequential([\n",
    "    Dense(64, activation='relu', input_shape=(3,)),\n",
    "    Dense(64, activation='relu'),\n",
    "    Dense(1, activation='sigmoid')\n",
    "])\n",
    "\n",
    "# Компиляция модели\n",
    "model.compile(optimizer='adam', loss='binary_crossentropy', metrics=['accuracy'])\n",
    "\n",
    "# Обучение модели\n",
    "model.fit(data, labels, epochs=10, batch_size=32)"
   ]
  },
  {
   "cell_type": "code",
   "execution_count": null,
   "id": "dbaf47b8",
   "metadata": {},
   "outputs": [
    {
     "name": "stdout",
     "output_type": "stream",
     "text": [
      "Целевая точка установлена: [5.0, 5.0, 3.0]\n"
     ]
    },
    {
     "data": {
      "application/vnd.jupyter.widget-view+json": {
       "model_id": "8d7eb37133d94389ba9691392010b570",
       "version_major": 2,
       "version_minor": 0
      },
      "text/plain": [
       "interactive(children=(FloatSlider(value=5.0, description='X:', max=10.0, min=-10.0, step=1.0), FloatSlider(val…"
      ]
     },
     "metadata": {},
     "output_type": "display_data"
    }
   ],
   "source": [
    "# =============================== Интерфейс пользователя ===============================\n",
    "\n",
    "# Глобальные переменные для стартовой и целевой позиции\n",
    "start_pos = [0.0, 0.0, 1.0]\n",
    "target_pos = [5.0, 5.0, 3.0]\n",
    "\n",
    "# Интерфейс для ввода целевой точки\n",
    "@interact(\n",
    "    x=FloatSlider(min=-10, max=10, step=1, value=5, description='X:'),\n",
    "    y=FloatSlider(min=-10, max=10, step=1, value=5, description='Y:'),\n",
    "    z=FloatSlider(min=0, max=10, step=1, value=3, description='Z:')\n",
    ")\n",
    "def set_target(x, y, z):\n",
    "    global target_pos\n",
    "    target_pos = [x, y, z]\n",
    "    print(f\"Целевая точка установлена: {target_pos}\")"
   ]
  },
  {
   "cell_type": "code",
   "execution_count": null,
   "id": "9c36096c",
   "metadata": {},
   "outputs": [
    {
     "name": "stdout",
     "output_type": "stream",
     "text": [
      "Connected!\n",
      "Client Ver:1 (Min Req: 1), Server Ver:1 (Min Req: 1)\n",
      "\n"
     ]
    }
   ],
   "source": [
    "# =============================== Управление дроном и командами ===============================\n",
    "\n",
    "# Инициализация дрона\n",
    "drone = AirGenDrone()\n",
    "\n",
    "# Взлет дрона\n",
    "def takeoff():\n",
    "    print(\"Взлёт...\")\n",
    "    drone.takeoff()\n",
    "    time.sleep(1)\n",
    "\n",
    "# Посадка дрона\n",
    "def land():\n",
    "    print(\"Посадка...\")\n",
    "    drone.land()\n",
    "    time.sleep(1)\n",
    "\n",
    "# Перемещение по маршруту с динамическим обновлением\n",
    "def fly_to_point_dynamic(path, speed=1.0):\n",
    "    print(\"Начинаем движение по маршруту...\")\n",
    "    prev = path[0]\n",
    "    for point in path[1:]:\n",
    "        # Проверка на наличие препятствий в текущей позиции\n",
    "        obstacles = simulated_lidar_scan(prev)\n",
    "        if obstacles:\n",
    "            print(f\"Обнаружено препятствие: {obstacles}. Пересчитываю маршрут...\")\n",
    "            # Пересчет маршрута с учетом нового препятствия\n",
    "            path = astar_dynamic(prev, target_pos, obstacles)\n",
    "            if not path:\n",
    "                print(\"Не удалось построить новый маршрут. Попробуй другую цель.\")\n",
    "                land()\n",
    "                return\n",
    "            prev = path[0]  # Обновляем текущую позицию\n",
    "\n",
    "        # Движение к следующей точке\n",
    "        dx = point[0] - prev[0]\n",
    "        dy = point[1] - prev[1]\n",
    "        dz = point[2] - prev[2]\n",
    "\n",
    "        norm = np.linalg.norm([dx, dy, dz])\n",
    "        if norm == 0:\n",
    "            continue\n",
    "\n",
    "        vx = speed * dx / norm\n",
    "        vy = speed * dy / norm\n",
    "        vz = speed * dz / norm\n",
    "\n",
    "        vel = Velocity(x_vel=vx, y_vel=vy, z_vel=vz)\n",
    "        drone.moveByVelocity(vel, duration=1, frame='ned', blocking=True)\n",
    "        print(f\"➡ Движение к точке: {point}\")\n",
    "        prev = point\n",
    "        time.sleep(0.5)\n",
    "\n",
    "# Основная функция для выполнения миссии\n",
    "def fly_mission():\n",
    "    takeoff()\n",
    "    print(\"Сканирование окружения...\")\n",
    "    obstacles = simulated_lidar_scan(start_pos)\n",
    "    print(f\"Обнаружены препятствия: {obstacles}\")\n",
    "\n",
    "    print(\"📡 Построение безопасного маршрута...\")\n",
    "    path = astar_dynamic(start_pos, target_pos, obstacles)\n",
    "    if not path:\n",
    "        print(\"Не удалось построить маршрут. Попробуй другую цель.\")\n",
    "        land()\n",
    "        return\n",
    "\n",
    "    fly_to_point_dynamic(path)\n",
    "    land()\n"
   ]
  },
  {
   "cell_type": "code",
   "execution_count": null,
   "id": "84751fbc",
   "metadata": {},
   "outputs": [],
   "source": [
    "# =============================== Состояние БПЛА ===============================\n",
    "\n",
    "# Функция для отправки данных о состоянии БПЛА в GRID\n",
    "def send_drone_status_to_grid(drone):\n",
    "    # Получение данных о состоянии БПЛА\n",
    "    position = drone.get_position()  # GPS-координаты\n",
    "    velocity = drone.get_velocity()  # Скорость\n",
    "    altitude = drone.get_altitude()  # Высота\n",
    "    battery = drone.get_battery()    # Уровень заряда батареи\n",
    "\n",
    "    # Отправка данных в Telemetry\n",
    "    grid.telemetry.send({\n",
    "        \"position\": position,\n",
    "        \"velocity\": velocity,\n",
    "        \"altitude\": altitude,\n",
    "        \"battery\": battery\n",
    "    })\n",
    "\n",
    "    # Альтернативно: сохранение данных в Storage\n",
    "    grid.storage.save(\"drone_status\", {\n",
    "        \"position\": position,\n",
    "        \"velocity\": velocity,\n",
    "        \"altitude\": altitude,\n",
    "        \"battery\": battery\n",
    "    })\n",
    "\n",
    "    print(\"Состояние БПЛА отправлено в GRID.\")"
   ]
  },
  {
   "cell_type": "code",
   "execution_count": null,
   "id": "9c9ebc0f",
   "metadata": {},
   "outputs": [
    {
     "name": "stdout",
     "output_type": "stream",
     "text": [
      "Взлёт...\n"
     ]
    },
    {
     "name": "stdout",
     "output_type": "stream",
     "text": [
      "🔍 Сканирование окружения...\n",
      "🧱 Обнаружены препятствия: [(2, 2, 1)]\n",
      "📡 Построение безопасного маршрута...\n",
      "Начинаем движение по маршруту...\n",
      "🛑 Обнаружено препятствие: [(2, 2, 1)]. Пересчитываю маршрут...\n"
     ]
    },
    {
     "name": "stdout",
     "output_type": "stream",
     "text": [
      "➡ Движение к точке: (0, 1, 1.0)\n"
     ]
    },
    {
     "name": "stdout",
     "output_type": "stream",
     "text": [
      "🛑 Обнаружено препятствие: [(2, 2, 1), (4, 4, 1)]. Пересчитываю маршрут...\n"
     ]
    },
    {
     "name": "stdout",
     "output_type": "stream",
     "text": [
      "➡ Движение к точке: (1, 1, 1.0)\n"
     ]
    },
    {
     "name": "stdout",
     "output_type": "stream",
     "text": [
      "🛑 Обнаружено препятствие: [(2, 2, 1), (4, 4, 1)]. Пересчитываю маршрут...\n"
     ]
    },
    {
     "name": "stdout",
     "output_type": "stream",
     "text": [
      "➡ Движение к точке: (1, 2, 1.0)\n"
     ]
    },
    {
     "name": "stdout",
     "output_type": "stream",
     "text": [
      "🛑 Обнаружено препятствие: [(2, 2, 1), (4, 4, 1)]. Пересчитываю маршрут...\n"
     ]
    },
    {
     "name": "stdout",
     "output_type": "stream",
     "text": [
      "➡ Движение к точке: (1, 3, 1.0)\n"
     ]
    },
    {
     "name": "stdout",
     "output_type": "stream",
     "text": [
      "🛑 Обнаружено препятствие: [(2, 2, 1), (4, 4, 1)]. Пересчитываю маршрут...\n"
     ]
    },
    {
     "name": "stdout",
     "output_type": "stream",
     "text": [
      "➡ Движение к точке: (2, 3, 1.0)\n"
     ]
    },
    {
     "name": "stdout",
     "output_type": "stream",
     "text": [
      "🛑 Обнаружено препятствие: [(2, 2, 1), (4, 4, 1)]. Пересчитываю маршрут...\n"
     ]
    },
    {
     "name": "stdout",
     "output_type": "stream",
     "text": [
      "➡ Движение к точке: (3, 3, 1.0)\n"
     ]
    },
    {
     "name": "stdout",
     "output_type": "stream",
     "text": [
      "🛑 Обнаружено препятствие: [(2, 2, 1), (4, 4, 1)]. Пересчитываю маршрут...\n"
     ]
    },
    {
     "name": "stdout",
     "output_type": "stream",
     "text": [
      "➡ Движение к точке: (3, 4, 1.0)\n"
     ]
    },
    {
     "name": "stdout",
     "output_type": "stream",
     "text": [
      "🛑 Обнаружено препятствие: [(2, 2, 1), (4, 4, 1)]. Пересчитываю маршрут...\n"
     ]
    },
    {
     "name": "stdout",
     "output_type": "stream",
     "text": [
      "➡ Движение к точке: (4, 4, 1.0)\n"
     ]
    },
    {
     "name": "stdout",
     "output_type": "stream",
     "text": [
      "🛑 Обнаружено препятствие: [(2, 2, 1), (4, 4, 1)]. Пересчитываю маршрут...\n"
     ]
    },
    {
     "name": "stdout",
     "output_type": "stream",
     "text": [
      "➡ Движение к точке: (4, 5, 1.0)\n"
     ]
    },
    {
     "name": "stdout",
     "output_type": "stream",
     "text": [
      "🛑 Обнаружено препятствие: [(2, 2, 1), (4, 4, 1)]. Пересчитываю маршрут...\n"
     ]
    },
    {
     "name": "stdout",
     "output_type": "stream",
     "text": [
      "➡ Движение к точке: (5, 5, 1.0)\n"
     ]
    },
    {
     "name": "stdout",
     "output_type": "stream",
     "text": [
      "Посадка...\n"
     ]
    },
    {
     "ename": "AttributeError",
     "evalue": "'AirGenDrone' object has no attribute 'get_position'",
     "output_type": "error",
     "traceback": [
      "\u001b[0;31m---------------------------------------------------------------------------\u001b[0m",
      "\u001b[0;31mAttributeError\u001b[0m                            Traceback (most recent call last)",
      "Cell \u001b[0;32mIn[1], line 7\u001b[0m\n\u001b[1;32m      4\u001b[0m fly_mission()\n\u001b[1;32m      6\u001b[0m \u001b[38;5;66;03m# Отправка состояния БПЛА в GRID после завершения миссии\u001b[39;00m\n\u001b[0;32m----> 7\u001b[0m \u001b[43msend_drone_status_to_grid\u001b[49m\u001b[43m(\u001b[49m\u001b[43mdrone\u001b[49m\u001b[43m)\u001b[49m\n",
      "Cell \u001b[0;32mIn[1], line 6\u001b[0m, in \u001b[0;36msend_drone_status_to_grid\u001b[0;34m(drone)\u001b[0m\n\u001b[1;32m      4\u001b[0m \u001b[38;5;28;01mdef\u001b[39;00m\u001b[38;5;250m \u001b[39m\u001b[38;5;21msend_drone_status_to_grid\u001b[39m(drone):\n\u001b[1;32m      5\u001b[0m     \u001b[38;5;66;03m# Получение данных о состоянии БПЛА\u001b[39;00m\n\u001b[0;32m----> 6\u001b[0m     position \u001b[38;5;241m=\u001b[39m \u001b[43mdrone\u001b[49m\u001b[38;5;241;43m.\u001b[39;49m\u001b[43mget_position\u001b[49m()  \u001b[38;5;66;03m# GPS-координаты\u001b[39;00m\n\u001b[1;32m      7\u001b[0m     velocity \u001b[38;5;241m=\u001b[39m drone\u001b[38;5;241m.\u001b[39mget_velocity()  \u001b[38;5;66;03m# Скорость\u001b[39;00m\n\u001b[1;32m      8\u001b[0m     altitude \u001b[38;5;241m=\u001b[39m drone\u001b[38;5;241m.\u001b[39mget_altitude()  \u001b[38;5;66;03m# Высота\u001b[39;00m\n",
      "\u001b[0;31mAttributeError\u001b[0m: 'AirGenDrone' object has no attribute 'get_position'"
     ]
    }
   ],
   "source": [
    "# =============================== СТАРТУЕМ ===============================\n",
    "\n",
    "# Запуск миссии\n",
    "fly_mission()\n",
    "\n",
    "# Отправка состояния БПЛА в GRID после завершения миссии\n",
    "send_drone_status_to_grid(drone)\n"
   ]
  }
 ],
 "metadata": {
  "language_info": {
   "name": "python"
  }
 },
 "nbformat": 4,
 "nbformat_minor": 5
}
