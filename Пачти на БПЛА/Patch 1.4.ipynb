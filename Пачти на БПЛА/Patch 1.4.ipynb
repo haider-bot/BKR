{
 "cells": [
  {
   "cell_type": "code",
   "execution_count": null,
   "id": "c34bdbab",
   "metadata": {},
   "outputs": [],
   "source": [
    "import time\n",
    "import numpy as np\n",
    "import heapq\n",
    "from ipywidgets import interact, FloatSlider, VBox, HTML\n",
    "from grid.robot.aerial.airgen_drone import AirGenDrone\n",
    "import tensorflow as tf\n",
    "from tensorflow.keras.models import Sequential\n",
    "from tensorflow.keras.layers import Dense"
   ]
  },
  {
   "cell_type": "code",
   "execution_count": null,
   "id": "03c457bb",
   "metadata": {},
   "outputs": [],
   "source": [
    "# =============================== Lidar и Скорость дрона ===============================\n",
    "\n",
    "# Класс для управления скоростью дрона\n",
    "class Velocity:\n",
    "    def __init__(self, x_vel=0.0, y_vel=0.0, z_vel=0.0):\n",
    "        self.x_vel = x_vel\n",
    "        self.y_vel = y_vel\n",
    "        self.z_vel = z_vel\n",
    "\n",
    "# Симуляция LiDAR для обнаружения препятствий\n",
    "def simulated_lidar_scan(position, radius=5.0):\n",
    "    obstacles = [\n",
    "        (2, 2, 1),\n",
    "        (4, 4, 1)\n",
    "    ]\n",
    "    return [obs for obs in obstacles if np.linalg.norm(np.subtract(obs, position)) <= radius]"
   ]
  },
  {
   "cell_type": "code",
   "execution_count": null,
   "id": "6ac752b4",
   "metadata": {},
   "outputs": [],
   "source": [
    "# =============================== Алгоритм поиска пути A* ===============================\n",
    "\n",
    "# Алгоритм A* для поиска пути на 2D-сетке\n",
    "def astar(start, goal, obstacles, bounds=(-10, 10)):\n",
    "    def neighbors(node):\n",
    "        x, y = node\n",
    "        for dx, dy in [(-1,0),(1,0),(0,-1),(0,1)]:\n",
    "            nx, ny = x + dx, y + dy\n",
    "            if bounds[0] <= nx <= bounds[1] and bounds[0] <= ny <= bounds[1]:\n",
    "                yield (nx, ny)\n",
    "\n",
    "    def heuristic(a, b):\n",
    "        return np.linalg.norm(np.subtract(a, b))\n",
    "\n",
    "    start = tuple(map(int, start[:2]))\n",
    "    goal = tuple(map(int, goal[:2]))\n",
    "    obs_set = {tuple(map(int, o[:2])) for o in obstacles}\n",
    "\n",
    "    frontier = [(0, start)]\n",
    "    came_from = {start: None}\n",
    "    cost_so_far = {start: 0}\n",
    "\n",
    "    while frontier:\n",
    "        _, current = heapq.heappop(frontier)\n",
    "        if current == goal:\n",
    "            break\n",
    "        for next_node in neighbors(current):\n",
    "            if next_node in obs_set:\n",
    "                continue\n",
    "            new_cost = cost_so_far[current] + 1\n",
    "            if next_node not in cost_so_far or new_cost < cost_so_far[next_node]:\n",
    "                cost_so_far[next_node] = new_cost\n",
    "                priority = new_cost + heuristic(goal, next_node)\n",
    "                heapq.heappush(frontier, (priority, next_node))\n",
    "                came_from[next_node] = current\n",
    "\n",
    "    node = goal\n",
    "    path = []\n",
    "    while node:\n",
    "        path.append((node[0], node[1], start_pos[2]))  # фиксируем высоту\n",
    "        node = came_from.get(node)\n",
    "    return path[::-1] if path else []\n"
   ]
  },
  {
   "cell_type": "code",
   "execution_count": null,
   "id": "e7a16a4d",
   "metadata": {},
   "outputs": [
    {
     "name": "stdout",
     "output_type": "stream",
     "text": [
      "Epoch 1/10\n"
     ]
    },
    {
     "name": "stdout",
     "output_type": "stream",
     "text": [
      "\r\n",
      "\u001b[1m1/4\u001b[0m \u001b[32m━━━━━\u001b[0m\u001b[37m━━━━━━━━━━━━━━━\u001b[0m \u001b[1m3s\u001b[0m 1s/step - accuracy: 0.5000 - loss: 0.7089"
     ]
    },
    {
     "name": "stdout",
     "output_type": "stream",
     "text": [
      "\b\b\b\b\b\b\b\b\b\b\b\b\b\b\b\b\b\b\b\b\b\b\b\b\b\b\b\b\b\b\b\b\b\b\b\b\b\b\b\b\b\b\b\b\b\b\b\b\b\b\b\b\b\b\b\b\b\b\b\b\b\b\b\b\b\b\b\b\b\r\n",
      "\u001b[1m4/4\u001b[0m \u001b[32m━━━━━━━━━━━━━━━━━━━━\u001b[0m\u001b[37m\u001b[0m \u001b[1m1s\u001b[0m 8ms/step - accuracy: 0.4788 - loss: 0.7038\n"
     ]
    },
    {
     "name": "stdout",
     "output_type": "stream",
     "text": [
      "Epoch 2/10\n"
     ]
    },
    {
     "name": "stdout",
     "output_type": "stream",
     "text": [
      "\r\n",
      "\u001b[1m1/4\u001b[0m \u001b[32m━━━━━\u001b[0m\u001b[37m━━━━━━━━━━━━━━━\u001b[0m \u001b[1m0s\u001b[0m 35ms/step - accuracy: 0.5312 - loss: 0.6944"
     ]
    },
    {
     "name": "stdout",
     "output_type": "stream",
     "text": [
      "\b\b\b\b\b\b\b\b\b\b\b\b\b\b\b\b\b\b\b\b\b\b\b\b\b\b\b\b\b\b\b\b\b\b\b\b\b\b\b\b\b\b\b\b\b\b\b\b\b\b\b\b\b\b\b\b\b\b\b\b\b\b\b\b\b\b\b\b\b\b\b\r\n",
      "\u001b[1m4/4\u001b[0m \u001b[32m━━━━━━━━━━━━━━━━━━━━\u001b[0m\u001b[37m\u001b[0m \u001b[1m0s\u001b[0m 8ms/step - accuracy: 0.5269 - loss: 0.6938 \n"
     ]
    },
    {
     "name": "stdout",
     "output_type": "stream",
     "text": [
      "Epoch 3/10\n"
     ]
    },
    {
     "name": "stdout",
     "output_type": "stream",
     "text": [
      "\r\n",
      "\u001b[1m1/4\u001b[0m \u001b[32m━━━━━\u001b[0m\u001b[37m━━━━━━━━━━━━━━━\u001b[0m \u001b[1m0s\u001b[0m 30ms/step - accuracy: 0.3438 - loss: 0.6916"
     ]
    },
    {
     "name": "stdout",
     "output_type": "stream",
     "text": [
      "\b\b\b\b\b\b\b\b\b\b\b\b\b\b\b\b\b\b\b\b\b\b\b\b\b\b\b\b\b\b\b\b\b\b\b\b\b\b\b\b\b\b\b\b\b\b\b\b\b\b\b\b\b\b\b\b\b\b\b\b\b\b\b\b\b\b\b\b\b\b\b\r\n",
      "\u001b[1m4/4\u001b[0m \u001b[32m━━━━━━━━━━━━━━━━━━━━\u001b[0m\u001b[37m\u001b[0m \u001b[1m0s\u001b[0m 9ms/step - accuracy: 0.4766 - loss: 0.6900 \n"
     ]
    },
    {
     "name": "stdout",
     "output_type": "stream",
     "text": [
      "Epoch 4/10\n"
     ]
    },
    {
     "name": "stdout",
     "output_type": "stream",
     "text": [
      "\r\n",
      "\u001b[1m1/4\u001b[0m \u001b[32m━━━━━\u001b[0m\u001b[37m━━━━━━━━━━━━━━━\u001b[0m \u001b[1m0s\u001b[0m 27ms/step - accuracy: 0.6875 - loss: 0.6776"
     ]
    },
    {
     "name": "stdout",
     "output_type": "stream",
     "text": [
      "\b\b\b\b\b\b\b\b\b\b\b\b\b\b\b\b\b\b\b\b\b\b\b\b\b\b\b\b\b\b\b\b\b\b\b\b\b\b\b\b\b\b\b\b\b\b\b\b\b\b\b\b\b\b\b\b\b\b\b\b\b\b\b\b\b\b\b\b\b\b\b\r\n",
      "\u001b[1m4/4\u001b[0m \u001b[32m━━━━━━━━━━━━━━━━━━━━\u001b[0m\u001b[37m\u001b[0m \u001b[1m0s\u001b[0m 8ms/step - accuracy: 0.5834 - loss: 0.6860 \n"
     ]
    },
    {
     "name": "stdout",
     "output_type": "stream",
     "text": [
      "Epoch 5/10\n"
     ]
    },
    {
     "name": "stdout",
     "output_type": "stream",
     "text": [
      "\r\n",
      "\u001b[1m1/4\u001b[0m \u001b[32m━━━━━\u001b[0m\u001b[37m━━━━━━━━━━━━━━━\u001b[0m \u001b[1m0s\u001b[0m 41ms/step - accuracy: 0.5312 - loss: 0.6943"
     ]
    },
    {
     "name": "stdout",
     "output_type": "stream",
     "text": [
      "\b\b\b\b\b\b\b\b\b\b\b\b\b\b\b\b\b\b\b\b\b\b\b\b\b\b\b\b\b\b\b\b\b\b\b\b\b\b\b\b\b\b\b\b\b\b\b\b\b\b\b\b\b\b\b\b\b\b\b\b\b\b\b\b\b\b\b\b\b\b\b\r\n",
      "\u001b[1m4/4\u001b[0m \u001b[32m━━━━━━━━━━━━━━━━━━━━\u001b[0m\u001b[37m\u001b[0m \u001b[1m0s\u001b[0m 7ms/step - accuracy: 0.5584 - loss: 0.6854 \n"
     ]
    },
    {
     "name": "stdout",
     "output_type": "stream",
     "text": [
      "Epoch 6/10\n"
     ]
    },
    {
     "name": "stdout",
     "output_type": "stream",
     "text": [
      "\r\n",
      "\u001b[1m1/4\u001b[0m \u001b[32m━━━━━\u001b[0m\u001b[37m━━━━━━━━━━━━━━━\u001b[0m \u001b[1m0s\u001b[0m 21ms/step - accuracy: 0.5312 - loss: 0.6945"
     ]
    },
    {
     "name": "stdout",
     "output_type": "stream",
     "text": [
      "\b\b\b\b\b\b\b\b\b\b\b\b\b\b\b\b\b\b\b\b\b\b\b\b\b\b\b\b\b\b\b\b\b\b\b\b\b\b\b\b\b\b\b\b\b\b\b\b\b\b\b\b\b\b\b\b\b\b\b\b\b\b\b\b\b\b\b\b\b\b\b\r\n",
      "\u001b[1m4/4\u001b[0m \u001b[32m━━━━━━━━━━━━━━━━━━━━\u001b[0m\u001b[37m\u001b[0m \u001b[1m0s\u001b[0m 9ms/step - accuracy: 0.5511 - loss: 0.6860 \n"
     ]
    },
    {
     "name": "stdout",
     "output_type": "stream",
     "text": [
      "Epoch 7/10\n"
     ]
    },
    {
     "name": "stdout",
     "output_type": "stream",
     "text": [
      "\r\n",
      "\u001b[1m1/4\u001b[0m \u001b[32m━━━━━\u001b[0m\u001b[37m━━━━━━━━━━━━━━━\u001b[0m \u001b[1m0s\u001b[0m 26ms/step - accuracy: 0.5312 - loss: 0.6896"
     ]
    },
    {
     "name": "stdout",
     "output_type": "stream",
     "text": [
      "\b\b\b\b\b\b\b\b\b\b\b\b\b\b\b\b\b\b\b\b\b\b\b\b\b\b\b\b\b\b\b\b\b\b\b\b\b\b\b\b\b\b\b\b\b\b\b\b\b\b\b\b\b\b\b\b\b\b\b\b\b\b\b\b\b\b\b\b\b\b\b\r\n",
      "\u001b[1m4/4\u001b[0m \u001b[32m━━━━━━━━━━━━━━━━━━━━\u001b[0m\u001b[37m\u001b[0m \u001b[1m0s\u001b[0m 7ms/step - accuracy: 0.5563 - loss: 0.6830 \n"
     ]
    },
    {
     "name": "stdout",
     "output_type": "stream",
     "text": [
      "Epoch 8/10\n"
     ]
    },
    {
     "name": "stdout",
     "output_type": "stream",
     "text": [
      "\r\n",
      "\u001b[1m1/4\u001b[0m \u001b[32m━━━━━\u001b[0m\u001b[37m━━━━━━━━━━━━━━━\u001b[0m \u001b[1m0s\u001b[0m 20ms/step - accuracy: 0.6562 - loss: 0.6629"
     ]
    },
    {
     "name": "stdout",
     "output_type": "stream",
     "text": [
      "\b\b\b\b\b\b\b\b\b\b\b\b\b\b\b\b\b\b\b\b\b\b\b\b\b\b\b\b\b\b\b\b\b\b\b\b\b\b\b\b\b\b\b\b\b\b\b\b\b\b\b\b\b\b\b\b\b\b\b\b\b\b\b\b\b\b\b\b\b\b\b\r\n",
      "\u001b[1m4/4\u001b[0m \u001b[32m━━━━━━━━━━━━━━━━━━━━\u001b[0m\u001b[37m\u001b[0m \u001b[1m0s\u001b[0m 8ms/step - accuracy: 0.5844 - loss: 0.6763 \n"
     ]
    },
    {
     "name": "stdout",
     "output_type": "stream",
     "text": [
      "Epoch 9/10\n"
     ]
    },
    {
     "name": "stdout",
     "output_type": "stream",
     "text": [
      "\r\n",
      "\u001b[1m1/4\u001b[0m \u001b[32m━━━━━\u001b[0m\u001b[37m━━━━━━━━━━━━━━━\u001b[0m \u001b[1m0s\u001b[0m 22ms/step - accuracy: 0.5625 - loss: 0.6733"
     ]
    },
    {
     "name": "stdout",
     "output_type": "stream",
     "text": [
      "\b\b\b\b\b\b\b\b\b\b\b\b\b\b\b\b\b\b\b\b\b\b\b\b\b\b\b\b\b\b\b\b\b\b\b\b\b\b\b\b\b\b\b\b\b\b\b\b\b\b\b\b\b\b\b\b\b\b\b\b\b\b\b\b\b\b\b\b\b\b\b\r\n",
      "\u001b[1m4/4\u001b[0m \u001b[32m━━━━━━━━━━━━━━━━━━━━\u001b[0m\u001b[37m\u001b[0m \u001b[1m0s\u001b[0m 7ms/step - accuracy: 0.5677 - loss: 0.6763 \n"
     ]
    },
    {
     "name": "stdout",
     "output_type": "stream",
     "text": [
      "Epoch 10/10\n"
     ]
    },
    {
     "name": "stdout",
     "output_type": "stream",
     "text": [
      "\r\n",
      "\u001b[1m1/4\u001b[0m \u001b[32m━━━━━\u001b[0m\u001b[37m━━━━━━━━━━━━━━━\u001b[0m \u001b[1m0s\u001b[0m 25ms/step - accuracy: 0.5625 - loss: 0.6789"
     ]
    },
    {
     "name": "stdout",
     "output_type": "stream",
     "text": [
      "\b\b\b\b\b\b\b\b\b\b\b\b\b\b\b\b\b\b\b\b\b\b\b\b\b\b\b\b\b\b\b\b\b\b\b\b\b\b\b\b\b\b\b\b\b\b\b\b\b\b\b\b\b\b\b\b\b\b\b\b\b\b\b\b\b\b\b\b\b\b\b\r\n",
      "\u001b[1m4/4\u001b[0m \u001b[32m━━━━━━━━━━━━━━━━━━━━\u001b[0m\u001b[37m\u001b[0m \u001b[1m0s\u001b[0m 10ms/step - accuracy: 0.5594 - loss: 0.6796\n"
     ]
    },
    {
     "data": {
      "text/plain": [
       "<keras.src.callbacks.history.History at 0x7f497df0e9d0>"
      ]
     },
     "execution_count": 1,
     "metadata": {},
     "output_type": "execute_result"
    }
   ],
   "source": [
    "# =============================== Обучение модели ML (пример) ===============================\n",
    "\n",
    "data = np.random.rand(100, 3)  # Пример входных данных (координаты)\n",
    "labels = np.random.randint(0, 2, size=100)  # Пример меток (безопасный маршрут или нет)\n",
    "\n",
    "# Создание модели\n",
    "model = Sequential([\n",
    "    Dense(64, activation='relu', input_shape=(3,)),\n",
    "    Dense(64, activation='relu'),\n",
    "    Dense(1, activation='sigmoid')\n",
    "])\n",
    "\n",
    "# Компиляция модели\n",
    "model.compile(optimizer='adam', loss='binary_crossentropy', metrics=['accuracy'])\n",
    "\n",
    "# Обучение модели\n",
    "model.fit(data, labels, epochs=10, batch_size=32)\n"
   ]
  },
  {
   "cell_type": "code",
   "execution_count": null,
   "id": "bdccd07b",
   "metadata": {},
   "outputs": [
    {
     "name": "stdout",
     "output_type": "stream",
     "text": [
      "Целевая точка установлена: [5.0, 5.0, 3.0]\n"
     ]
    },
    {
     "data": {
      "application/vnd.jupyter.widget-view+json": {
       "model_id": "132ad0367bdf4993be2d1185729b06e8",
       "version_major": 2,
       "version_minor": 0
      },
      "text/plain": [
       "interactive(children=(FloatSlider(value=5.0, description='X:', max=10.0, min=-10.0, step=1.0), FloatSlider(val…"
      ]
     },
     "metadata": {},
     "output_type": "display_data"
    }
   ],
   "source": [
    "# =============================== Интерфейс пользователя ===============================\n",
    "\n",
    "# Глобальные переменные для стартовой и целевой позиции\n",
    "start_pos = [0.0, 0.0, 1.0]\n",
    "target_pos = [5.0, 5.0, 3.0]\n",
    "\n",
    "# Интерфейс для ввода целевой точки\n",
    "@interact(\n",
    "    x=FloatSlider(min=-10, max=10, step=1, value=5, description='X:'),\n",
    "    y=FloatSlider(min=-10, max=10, step=1, value=5, description='Y:'),\n",
    "    z=FloatSlider(min=0, max=10, step=1, value=3, description='Z:')\n",
    ")\n",
    "def set_target(x, y, z):\n",
    "    global target_pos\n",
    "    target_pos = [x, y, z]\n",
    "    print(f\"Целевая точка установлена: {target_pos}\")\n"
   ]
  },
  {
   "cell_type": "code",
   "execution_count": null,
   "id": "58cd9421",
   "metadata": {},
   "outputs": [
    {
     "name": "stdout",
     "output_type": "stream",
     "text": [
      "Connected!\n",
      "Client Ver:1 (Min Req: 1), Server Ver:1 (Min Req: 1)\n",
      "\n"
     ]
    }
   ],
   "source": [
    "# =============================== Управление дроном и командами ===============================\n",
    "\n",
    "# Инициализация дрона\n",
    "drone = AirGenDrone()\n",
    "\n",
    "# Взлет дрона\n",
    "def takeoff():\n",
    "    print(\"Взлёт...\")\n",
    "    drone.takeoff()\n",
    "    time.sleep(1)\n",
    "\n",
    "# Посадка дрона\n",
    "def land():\n",
    "    print(\"Посадка...\")\n",
    "    drone.land()\n",
    "    time.sleep(1)\n",
    "\n",
    "# Перемещение по маршруту\n",
    "def fly_to_point(path, speed=1.0):\n",
    "    print(\"Начинаем движение по маршруту...\")\n",
    "    prev = path[0]\n",
    "    for point in path[1:]:\n",
    "        dx = point[0] - prev[0]\n",
    "        dy = point[1] - prev[1]\n",
    "        dz = point[2] - prev[2]\n",
    "\n",
    "        norm = np.linalg.norm([dx, dy, dz])\n",
    "        if norm == 0:\n",
    "            continue\n",
    "\n",
    "        vx = speed * dx / norm\n",
    "        vy = speed * dy / norm\n",
    "        vz = speed * dz / norm\n",
    "\n",
    "        vel = Velocity(x_vel=vx, y_vel=vy, z_vel=vz)\n",
    "        drone.moveByVelocity(vel, duration=1, frame='ned', blocking=True)\n",
    "        print(f\"➡ Движение к точке: {point}\")\n",
    "        prev = point\n",
    "        time.sleep(0.5)\n",
    "\n",
    "# Основная функция для выполнения миссии\n",
    "def fly_mission():\n",
    "    takeoff()\n",
    "    print(\"Сканирование окружения...\")\n",
    "    obstacles = simulated_lidar_scan(start_pos)\n",
    "    print(f\"Обнаружены препятствия: {obstacles}\")\n",
    "\n",
    "    print(\"Построение безопасного маршрута...\")\n",
    "    path = astar(start_pos, target_pos, obstacles)\n",
    "    if not path:\n",
    "        print(\"Не удалось построить маршрут. Попробуй другую цель.\")\n",
    "        land()\n",
    "        return\n",
    "\n",
    "    fly_to_point(path)\n",
    "    land()\n"
   ]
  },
  {
   "cell_type": "code",
   "execution_count": null,
   "id": "28c5eb50",
   "metadata": {},
   "outputs": [],
   "source": [
    "# =============================== Состояние БПЛА ===============================\n",
    "\n",
    "# Функция для отображения состояния БПЛА\n",
    "def display_drone_status(drone):\n",
    "    status = drone.get_status()  # Предполагается, что метод get_status() возвращает текущее состояние дрона\n",
    "    print(f\"Состояние БПЛА:\")\n",
    "    print(f\"GPS: {status['gps']}\")\n",
    "    print(f\"Скорость: {status['velocity']}\")\n",
    "    print(f\"Высота: {status['altitude']}\")\n",
    "    print(f\"Батарея: {status['battery']}%\")\n"
   ]
  },
  {
   "cell_type": "code",
   "execution_count": 1,
   "id": "d0b3e144",
   "metadata": {},
   "outputs": [
    {
     "ename": "NameError",
     "evalue": "name 'fly_mission' is not defined",
     "output_type": "error",
     "traceback": [
      "\u001b[1;31m---------------------------------------------------------------------------\u001b[0m",
      "\u001b[1;31mNameError\u001b[0m                                 Traceback (most recent call last)",
      "Cell \u001b[1;32mIn[1], line 4\u001b[0m\n\u001b[0;32m      1\u001b[0m \u001b[38;5;66;03m# =============================== СТАРТУЕМ ===============================\u001b[39;00m\n\u001b[0;32m      2\u001b[0m \n\u001b[0;32m      3\u001b[0m \u001b[38;5;66;03m# Запуск миссии\u001b[39;00m\n\u001b[1;32m----> 4\u001b[0m \u001b[43mfly_mission\u001b[49m()\n\u001b[0;32m      6\u001b[0m \u001b[38;5;66;03m# Отображение состояния БПЛА после завершения миссии\u001b[39;00m\n\u001b[0;32m      7\u001b[0m display_drone_status(drone)\n",
      "\u001b[1;31mNameError\u001b[0m: name 'fly_mission' is not defined"
     ]
    }
   ],
   "source": [
    "# =============================== СТАРТУЕМ ===============================\n",
    "\n",
    "# Запуск миссии\n",
    "fly_mission()\n",
    "\n",
    "# Отображение состояния БПЛА после завершения миссии\n",
    "display_drone_status(drone)\n"
   ]
  }
 ],
 "metadata": {
  "kernelspec": {
   "display_name": "Python 3",
   "language": "python",
   "name": "python3"
  },
  "language_info": {
   "codemirror_mode": {
    "name": "ipython",
    "version": 3
   },
   "file_extension": ".py",
   "mimetype": "text/x-python",
   "name": "python",
   "nbconvert_exporter": "python",
   "pygments_lexer": "ipython3",
   "version": "3.12.0"
  }
 },
 "nbformat": 4,
 "nbformat_minor": 5
}
