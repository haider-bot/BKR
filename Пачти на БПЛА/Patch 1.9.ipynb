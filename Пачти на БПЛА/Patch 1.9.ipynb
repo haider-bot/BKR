{
 "cells": [
  {
   "cell_type": "code",
   "execution_count": null,
   "id": "5642a690",
   "metadata": {},
   "outputs": [],
   "source": [
    "# ===== Модули Обновлено =====\n",
    "\n",
    "from grid.model.navigation.objectinspection import ObjectInspect\n",
    "from grid.model.navigation.visualservoing import VisualServoing\n",
    "from grid.model.perception.detection.rt_detr import RT_DETR\n",
    "\n",
    "import airgen\n",
    "import numpy as np\n",
    "import rerun as rr\n",
    "import time\n",
    "from math import cos, sin, pi\n",
    "\n",
    "# Инициализация моделей\n",
    "nav_inspect = ObjectInspect()\n",
    "nav_visualservoing = VisualServoing()\n",
    "detection_rt_detr = RT_DETR()"
   ]
  },
  {
   "cell_type": "code",
   "execution_count": null,
   "id": "a57694e4",
   "metadata": {},
   "outputs": [
    {
     "name": "stdout",
     "output_type": "stream",
     "text": [
      "Connected!\n",
      "Client Ver:1 (Min Req: 1), Server Ver:1 (Min Req: 1)\n",
      "\n"
     ]
    }
   ],
   "source": [
    "# ===== Подключение к дрону и взлёт =====\n",
    "\n",
    "client = airgen.MultirotorClient()\n",
    "client.confirmConnection()\n",
    "client.enableApiControl(True)\n",
    "client.armDisarm(True)\n",
    "client.takeoffAsync().join()"
   ]
  },
  {
   "cell_type": "code",
   "execution_count": null,
   "id": "5a86aead",
   "metadata": {},
   "outputs": [
    {
     "name": "stdout",
     "output_type": "stream",
     "text": [
      "Available cameras:\n",
      "PlayerCameraManager_2147482445\n",
      "CameraManagerActor\n",
      "ExternalCamera\n",
      "BP_PIPCamera_C_2147482405\n",
      "BP_PIPCamera_C_2147482393\n",
      "BP_PIPCamera_C_2147482381\n",
      "BP_PIPCamera_C_2147482369\n",
      "BP_PIPCamera_C_2147482357\n"
     ]
    }
   ],
   "source": [
    "# ===== Создание клиента сцены =====\n",
    "scene_client = airgen.VehicleClient()\n",
    "scene_objects = scene_client.simListSceneObjects()\n",
    "cameras = [obj for obj in scene_objects if 'camera' in obj.lower()]\n",
    "\n",
    "print(\"Available cameras:\")\n",
    "for camera in cameras:\n",
    "    print(camera)"
   ]
  },
  {
   "cell_type": "code",
   "execution_count": null,
   "id": "5bc81421",
   "metadata": {},
   "outputs": [],
   "source": [
    "# ===== Получение данных LiDAR + визуализация =====\n",
    "lidar_data = client.getLidarData()\n",
    "points = np.array(lidar_data.point_cloud, dtype=np.float32).reshape(-1, 3)\n",
    "rr.log('lidar/points', rr.Points3D(points))"
   ]
  },
  {
   "cell_type": "code",
   "execution_count": null,
   "id": "92d883e1",
   "metadata": {},
   "outputs": [],
   "source": [
    "# ===== Получение и логирование изображения с камеры =====\n",
    "image_data = client.getImages(\"front_center\", [airgen.ImageType.Scene])[0]\n",
    "rgb_image, _ = image_data  # Получаем изображение и позу\n",
    "rr.log(\"drone/camera\", rr.Image(rgb_image))"
   ]
  },
  {
   "cell_type": "code",
   "execution_count": null,
   "id": "bcc0a95a",
   "metadata": {},
   "outputs": [],
   "source": [
    "# ===== Получение и логирование GPS =====\n",
    "\n",
    "gps_data = client.getGpsData()\n",
    "geo = gps_data.gnss.geo_point\n",
    "gps_position = np.array([[geo.latitude, geo.longitude, geo.altitude]], dtype=np.float32)\n",
    "rr.log(\"drone/gps\", rr.Points3D(gps_position))"
   ]
  },
  {
   "cell_type": "code",
   "execution_count": null,
   "id": "fd05deeb",
   "metadata": {},
   "outputs": [
    {
     "name": "stdout",
     "output_type": "stream",
     "text": [
      "❗ Объекты не обнаружены.\n"
     ]
    }
   ],
   "source": [
    "from grid.model.perception.detection.rt_detr import RT_DETR\n",
    "import rerun as rr\n",
    "import airgen\n",
    "import numpy as np\n",
    "import cv2\n",
    "\n",
    "drone = airgen.MultirotorClient()  # Заменяем AirGenCar на drone\n",
    "\n",
    "# We will be capturing an image from the AirGen simulator \n",
    "# and run model inference on it.\n",
    "\n",
    "# Получаем изображение с камеры в формате Scene\n",
    "image_data, _ = drone.getImages(\"front_center\", [airgen.ImageType.Scene])[0]\n",
    "\n",
    "# image_data теперь содержит изображение. Передаем его в модель.\n",
    "model = RT_DETR(use_local=True)\n",
    "result = model.run(input=image_data.copy(), confidence_threshold=0.5)\n",
    "\n",
    "# Проверяем, есть ли объекты в результате детекции\n",
    "if result and 'boxes' in result and len(result['boxes']) > 0:\n",
    "    # Логируем результаты как объекты\n",
    "    boxes = result['boxes']\n",
    "    labels = result['labels']\n",
    "    \n",
    "    # Рисуем прямоугольники на изображении\n",
    "    image_with_boxes = image_data.copy()\n",
    "    \n",
    "    for i, box in enumerate(boxes):\n",
    "        x, y, w, h = box\n",
    "        # Рисуем прямоугольник на изображении\n",
    "        cv2.rectangle(image_with_boxes, (x, y), (x + w, y + h), (0, 255, 0), 2)\n",
    "        \n",
    "        # Логируем результат как объект\n",
    "        rr.log(\n",
    "            f\"drone/obstacle_{i}\",\n",
    "            rr.Boxes2D(np.array([[x, y, w, h]]), labels=[\"Obstacle\"])\n",
    "        )\n",
    "    \n",
    "    # Логируем изображение с обведенными объектами\n",
    "    rr.log(\"drone/camera\", rr.Image(image_with_boxes))\n",
    "    \n",
    "else:\n",
    "    print(\"❗ Объекты не обнаружены.\")\n"
   ]
  },
  {
   "cell_type": "code",
   "execution_count": null,
   "id": "375d90cf",
   "metadata": {},
   "outputs": [],
   "source": [
    "# ===== Построение и визуализация кругового маршрута =====\n",
    "\n",
    "lidar_data = client.getLidarData()\n",
    "points = np.array(lidar_data.point_cloud, dtype=np.float32).reshape(-1, 3)\n",
    "\n",
    "# Визуализация\n",
    "rr.log('lidar/points', rr.Points3D(points))\n",
    "\n",
    "# Стартовая точка\n",
    "start = client.getMultirotorState().kinematics_estimated.position\n",
    "takeoff_alt = -15  # минус = вверх в NED\n",
    "center = start\n",
    "radius = 10\n",
    "steps = 12  # количество точек круга\n",
    "\n",
    "# Построение круга\n",
    "trajectory = []\n",
    "for i in range(steps):\n",
    "    angle = 2 * pi * (i / steps)\n",
    "    x = center.x_val + radius * cos(angle)\n",
    "    y = center.y_val + radius * sin(angle)\n",
    "    z = takeoff_alt\n",
    "    trajectory.append(airgen.Vector3r(x, y, z))\n",
    "\n",
    "# Возврат к центру\n",
    "trajectory.append(airgen.Vector3r(center.x_val, center.y_val, takeoff_alt))\n",
    "\n",
    "# Визуализация маршрута\n",
    "rr.log(\"telemetry/path\", rr.LineStrips3D([[(p.x_val, p.y_val, p.z_val) for p in trajectory]]))"
   ]
  },
  {
   "cell_type": "code",
   "execution_count": null,
   "id": "09bc0f8b",
   "metadata": {},
   "outputs": [],
   "source": [
    "\n",
    "# ===== Плавное движение по маршруту и посадка =====\n",
    "\n",
    "lidar_data = client.getLidarData()\n",
    "points = np.array(lidar_data.point_cloud, dtype=np.float32).reshape(-1, 3)\n",
    "\n",
    "# Визуализация\n",
    "rr.log('lidar/points', rr.Points3D(points))\n",
    "velocity = 3.0  # Плавная скорость\n",
    "\n",
    "client.moveOnPathAsync(\n",
    "    trajectory,\n",
    "    velocity,\n",
    "    300,\n",
    "    airgen.DrivetrainType.ForwardOnly,\n",
    "    airgen.YawMode(False, 0),\n",
    "    -1, 0\n",
    ").join()\n",
    "\n",
    "# Плавная посадка\n",
    "landing_point = airgen.Vector3r(center.x_val, center.y_val, -2)\n",
    "client.moveToPositionAsync(landing_point.x_val, landing_point.y_val, landing_point.z_val, 1).join()\n",
    "client.landAsync().join()\n"
   ]
  },
  {
   "cell_type": "code",
   "execution_count": null,
   "id": "da1d3474",
   "metadata": {},
   "outputs": [],
   "source": [
    "import airgen\n",
    "import time\n",
    "\n",
    "# Подключаемся к дрону\n",
    "drone = airgen.MultirotorClient()\n",
    "\n",
    "# Устанавливаем движение вперед\n",
    "def move_forward(distance=10, velocity=3.0):\n",
    "    # Получаем текущую позицию\n",
    "    current_position = drone.getMultirotorState().kinematics_estimated.position\n",
    "\n",
    "    # Рассчитываем новую позицию\n",
    "    new_position = airgen.Vector3r(\n",
    "        current_position.x_val + distance,  # Двигаемся вперед вдоль оси X\n",
    "        current_position.y_val,             # Остаемся на месте по оси Y\n",
    "        current_position.z_val              # Остаемся на той же высоте по оси Z\n",
    "    )\n",
    "\n",
    "    # Двигаемся к новой позиции с заданной скоростью\n",
    "    drone.moveToPositionAsync(new_position.x_val, new_position.y_val, new_position.z_val, velocity).join()\n",
    "\n",
    "# Пример движения на 10 метров вперед с максимальной скоростью 3 м/с\n",
    "move_forward(distance=10, velocity=3.0)\n"
   ]
  }
 ],
 "metadata": {
  "language_info": {
   "name": "python"
  }
 },
 "nbformat": 4,
 "nbformat_minor": 5
}
