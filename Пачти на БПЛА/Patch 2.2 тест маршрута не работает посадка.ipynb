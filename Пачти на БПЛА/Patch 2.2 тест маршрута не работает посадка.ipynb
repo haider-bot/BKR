{
 "cells": [
  {
   "cell_type": "code",
   "execution_count": null,
   "id": "6de3b24f",
   "metadata": {},
   "outputs": [],
   "source": [
    "# ===== Импорты и инициализация =====\r\n",
    "\r\n",
    "#!pip install scikit-learn\r\n",
    "\r\n",
    "from grid.model.navigation.objectinspection import ObjectInspect\r\n",
    "from grid.model.navigation.visualservoing import VisualServoing\r\n",
    "from grid.model.perception.detection.rt_detr import RT_DETR\r\n",
    "from grid.model.perception.depth.metric3d import Metric3D\r\n",
    "\r\n",
    "import airgen\r\n",
    "import numpy as np\r\n",
    "import rerun as rr\r\n",
    "import cv2\r\n",
    "import time\r\n",
    "from math import cos, sin, pi\r\n",
    "from sklearn.cluster import DBSCAN\r\n",
    "\r\n",
    "# Инициализация моделей\r\n",
    "nav_inspect = ObjectInspect()\r\n",
    "nav_visualservoing = VisualServoing()\r\n",
    "detection_rt_detr = RT_DETR(use_local=True)  # Инициализация модели детекции"
   ]
  },
  {
   "cell_type": "code",
   "execution_count": null,
   "id": "a73f1ba0",
   "metadata": {},
   "outputs": [
    {
     "name": "stdout",
     "output_type": "stream",
     "text": [
      "Connected!\n",
      "Client Ver:1 (Min Req: 1), Server Ver:1 (Min Req: 1)\n",
      "\n"
     ]
    },
    {
     "data": {
      "text/plain": [
       "True"
      ]
     },
     "execution_count": 1,
     "metadata": {},
     "output_type": "execute_result"
    }
   ],
   "source": [
    "# ===== Подключение к дрону и взлёт =====\r\n",
    "\r\n",
    "client = airgen.MultirotorClient()\r\n",
    "client.confirmConnection()\r\n",
    "client.enableApiControl(True)\r\n",
    "client.armDisarm(True)\r\n",
    "# ===== Взлет дрона =====\r\n",
    "\r\n",
    "#client.takeoffAsync().join()\r\n",
    "\r\n",
    "# ===== Посадка дрона =====\r\n",
    "\r\n",
    "#client.landAsync().join()"
   ]
  },
  {
   "cell_type": "code",
   "execution_count": null,
   "id": "ba7f7b13",
   "metadata": {},
   "outputs": [],
   "source": [
    "# ===== Получение и логирование GPS =====\r\n",
    "\r\n",
    "gps_data = client.getGpsData()\r\n",
    "geo = gps_data.gnss.geo_point\r\n",
    "gps_position = np.array([[geo.latitude, geo.longitude, geo.altitude]], dtype=np.float32)\r\n",
    "rr.log(\"drone/gps\", rr.Points3D(gps_position))"
   ]
  },
  {
   "cell_type": "code",
   "execution_count": null,
   "id": "a6f65419",
   "metadata": {},
   "outputs": [
    {
     "name": "stdout",
     "output_type": "stream",
     "text": [
      "⚠️ Нет данных выше уровня земли для кластеризации\n"
     ]
    }
   ],
   "source": [
    "# ===== Получение и подготовка данных LiDAR + Построение маршрута =====\r\n",
    "\r\n",
    "lidar_data = client.getLidarData()\r\n",
    "points = np.array(lidar_data.point_cloud, dtype=np.float32).reshape(-1, 3)\r\n",
    "rr.log('lidar/points', rr.Points3D(points))\r\n",
    "\r\n",
    "# ===== Фильтрация: исключаем \"землю\" (высота < 0.2 м) =====\r\n",
    "above_ground = points[points[:, 2] > 0.2]\r\n",
    "\r\n",
    "object_centers = []\r\n",
    "object_distances = []\r\n",
    "\r\n",
    "if above_ground.shape[0] > 0:\r\n",
    "    # ===== Кластеризация (DBSCAN) =====\r\n",
    "    clustering = DBSCAN(eps=1.0, min_samples=10).fit(above_ground[:, :2])\r\n",
    "    labels = clustering.labels_\r\n",
    "\r\n",
    "    # ===== Обработка кластеров =====\r\n",
    "    unique_labels = set(labels)\r\n",
    "    for label in unique_labels:\r\n",
    "        if label == -1:\r\n",
    "            continue  # -1 означает шум\r\n",
    "\r\n",
    "        cluster_points = above_ground[labels == label]\r\n",
    "        center = cluster_points.mean(axis=0)\r\n",
    "        distance = np.linalg.norm(center[:2])\r\n",
    "        object_centers.append(center)\r\n",
    "        object_distances.append(distance)\r\n",
    "\r\n",
    "    rr.log(\"lidar/objects\", rr.Points3D(np.array(object_centers)))\r\n",
    "    print(f\"🔎 Обнаружено объектов по LiDAR: {len(object_centers)}\")\r\n",
    "    for i, dist in enumerate(object_distances):\r\n",
    "        print(f\" - Объект {i+1}: ~{dist:.1f} м\")\r\n",
    "else:\r\n",
    "    print(\"⚠️ Нет данных выше уровня земли для кластеризации\")\r\n",
    "\r\n",
    "# ===== Построение кругового маршрута =====\r\n",
    "start = client.getMultirotorState().kinematics_estimated.position\r\n",
    "takeoff_alt = -15  # вверх в NED\r\n",
    "center = start\r\n",
    "radius = 10\r\n",
    "steps = 12\r\n",
    "\r\n",
    "trajectory = []\r\n",
    "for i in range(steps):\r\n",
    "    angle = 2 * pi * (i / steps)\r\n",
    "    x = center.x_val + radius * cos(angle)\r\n",
    "    y = center.y_val + radius * sin(angle)\r\n",
    "    z = takeoff_alt\r\n",
    "    trajectory.append(airgen.Vector3r(x, y, z))\r\n",
    "\r\n",
    "trajectory.append(airgen.Vector3r(center.x_val, center.y_val, takeoff_alt))  # возврат\r\n",
    "\r\n",
    "rr.log(\"telemetry/path\", rr.LineStrips3D([[(p.x_val, p.y_val, p.z_val) for p in trajectory]]))\r\n"
   ]
  },
  {
   "cell_type": "code",
   "execution_count": null,
   "id": "3c3617e4",
   "metadata": {},
   "outputs": [
    {
     "name": "stdout",
     "output_type": "stream",
     "text": [
      "⚠️ Нет точек выше уровня земли — пропускаю кластеризацию\n"
     ]
    },
    {
     "name": "stdout",
     "output_type": "stream",
     "text": [
      "⚠️ Обнаружено препятствие на расстоянии 1.0 м. Ищу обходной путь...\n",
      "🔁 Перестроен маршрут. Лечу к безопасной точке...\n"
     ]
    },
    {
     "name": "stdout",
     "output_type": "stream",
     "text": [
      "✅ Достиг безопасной точки. Возобновляю маршрут.\n"
     ]
    },
    {
     "ename": "AttributeError",
     "evalue": "'numpy.ndarray' object has no attribute 'x_val'",
     "output_type": "error",
     "traceback": [
      "\u001b[0;31m---------------------------------------------------------------------------\u001b[0m",
      "\u001b[0;31mAttributeError\u001b[0m                            Traceback (most recent call last)",
      "Cell \u001b[0;32mIn[1], line 75\u001b[0m\n\u001b[1;32m     72\u001b[0m     client\u001b[38;5;241m.\u001b[39mmoveToPositionAsync(target_point\u001b[38;5;241m.\u001b[39mx_val, target_point\u001b[38;5;241m.\u001b[39my_val, target_point\u001b[38;5;241m.\u001b[39mz_val, \u001b[38;5;241m3\u001b[39m)\u001b[38;5;241m.\u001b[39mjoin()\n\u001b[1;32m     74\u001b[0m \u001b[38;5;66;03m# ===== Завершающая посадка =====\u001b[39;00m\n\u001b[0;32m---> 75\u001b[0m landing_point \u001b[38;5;241m=\u001b[39m airgen\u001b[38;5;241m.\u001b[39mVector3r(\u001b[43mcenter\u001b[49m\u001b[38;5;241;43m.\u001b[39;49m\u001b[43mx_val\u001b[49m, center\u001b[38;5;241m.\u001b[39my_val, \u001b[38;5;241m-\u001b[39m\u001b[38;5;241m2\u001b[39m)\n\u001b[1;32m     76\u001b[0m client\u001b[38;5;241m.\u001b[39mmoveToPositionAsync(landing_point\u001b[38;5;241m.\u001b[39mx_val, landing_point\u001b[38;5;241m.\u001b[39my_val, landing_point\u001b[38;5;241m.\u001b[39mz_val, \u001b[38;5;241m1\u001b[39m)\u001b[38;5;241m.\u001b[39mjoin()\n",
      "\u001b[0;31mAttributeError\u001b[0m: 'numpy.ndarray' object has no attribute 'x_val'"
     ]
    }
   ],
   "source": [
    "# ===== Плавное движение по маршруту с ML-обходом препятствий =====\r\n",
    "\r\n",
    "def is_obstacle_near(current_pos, obstacles, threshold=2.0):\r\n",
    "    for obstacle in obstacles:\r\n",
    "        dist = np.linalg.norm(np.array([current_pos.x_val, current_pos.y_val]) - obstacle[:2])\r\n",
    "        if dist < threshold:\r\n",
    "            return True, dist\r\n",
    "    return False, None\r\n",
    "\r\n",
    "def find_safe_direction(current_pos, obstacles, radius=5.0, angle_step=15):\r\n",
    "    best_point = None\r\n",
    "    min_density = float('inf')\r\n",
    "\r\n",
    "    for angle in range(0, 360, angle_step):\r\n",
    "        rad = np.deg2rad(angle)\r\n",
    "        test_x = current_pos.x_val + radius * cos(rad)\r\n",
    "        test_y = current_pos.y_val + radius * sin(rad)\r\n",
    "\r\n",
    "        density = 0\r\n",
    "        for obs in obstacles:\r\n",
    "            dist = np.linalg.norm(np.array([test_x, test_y]) - obs[:2])\r\n",
    "            if dist < 2.0:\r\n",
    "                density += 1\r\n",
    "\r\n",
    "        if density < min_density:\r\n",
    "            min_density = density\r\n",
    "            best_point = airgen.Vector3r(test_x, test_y, current_pos.z_val)\r\n",
    "\r\n",
    "    return best_point\r\n",
    "\r\n",
    "for target_point in trajectory:\r\n",
    "    while True:\r\n",
    "        # Получаем текущую позицию и LiDAR\r\n",
    "        current_pos = client.getMultirotorState().kinematics_estimated.position\r\n",
    "        lidar_data = client.getLidarData()\r\n",
    "        points = np.array(lidar_data.point_cloud, dtype=np.float32).reshape(-1, 3)\r\n",
    "        rr.log('lidar/points', rr.Points3D(points))\r\n",
    "\r\n",
    "        above_ground = points[points[:, 2] > 0.2]\r\n",
    "\r\n",
    "        if above_ground.shape[0] == 0:\r\n",
    "            print(\"⚠️ Нет точек выше уровня земли — пропускаю кластеризацию\")\r\n",
    "            obstacle_centers = np.empty((0, 3))\r\n",
    "        else:\r\n",
    "            clustering = DBSCAN(eps=1.0, min_samples=10).fit(above_ground[:, :2])\r\n",
    "            labels = clustering.labels_\r\n",
    "\r\n",
    "            obstacle_centers = []\r\n",
    "            for label in set(labels):\r\n",
    "                if label == -1:\r\n",
    "                    continue\r\n",
    "                cluster_points = above_ground[labels == label]\r\n",
    "                center = cluster_points.mean(axis=0)\r\n",
    "                obstacle_centers.append(center)\r\n",
    "\r\n",
    "            obstacle_centers = np.array(obstacle_centers)\r\n",
    "\r\n",
    "        rr.log(\"lidar/obstacles\", rr.Points3D(obstacle_centers))\r\n",
    "\r\n",
    "        # Проверка на наличие препятствий\r\n",
    "        danger, dist = is_obstacle_near(current_pos, obstacle_centers)\r\n",
    "        if danger:\r\n",
    "            print(f\"⚠️ Обнаружено препятствие на расстоянии {dist:.1f} м. Ищу обходной путь...\")\r\n",
    "            safe_point = find_safe_direction(current_pos, obstacle_centers)\r\n",
    "            if safe_point:\r\n",
    "                print(\"🔁 Перестроен маршрут. Лечу к безопасной точке...\")\r\n",
    "                client.moveToPositionAsync(safe_point.x_val, safe_point.y_val, safe_point.z_val, 2).join()\r\n",
    "                print(\"✅ Достиг безопасной точки. Возобновляю маршрут.\")\r\n",
    "                continue\r\n",
    "        break\r\n",
    "\r\n",
    "    client.moveToPositionAsync(target_point.x_val, target_point.y_val, target_point.z_val, 3).join()\r\n",
    "\r\n",
    "# ===== Завершающая посадка =====\r\n",
    "landing_point = airgen.Vector3r(center.x_val, center.y_val, -2)\r\n",
    "client.moveToPositionAsync(landing_point.x_val, landing_point.y_val, landing_point.z_val, 1).join()\r\n"
   ]
  }
 ],
 "metadata": {},
 "nbformat": 4,
 "nbformat_minor": 5
}
