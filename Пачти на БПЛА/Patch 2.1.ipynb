{
 "cells": [
  {
   "cell_type": "code",
   "execution_count": null,
   "id": "74549875",
   "metadata": {},
   "outputs": [],
   "source": [
    "# ===== Импорты и инициализация =====\r\n",
    "\r\n",
    "#!pip install scikit-learn\r\n",
    "\r\n",
    "from grid.model.navigation.objectinspection import ObjectInspect\r\n",
    "from grid.model.navigation.visualservoing import VisualServoing\r\n",
    "from grid.model.perception.detection.rt_detr import RT_DETR\r\n",
    "from grid.model.perception.depth.metric3d import Metric3D\r\n",
    "\r\n",
    "import airgen\r\n",
    "import numpy as np\r\n",
    "import rerun as rr\r\n",
    "import cv2\r\n",
    "import time\r\n",
    "from math import cos, sin, pi\r\n",
    "from sklearn.cluster import DBSCAN\r\n",
    "\r\n",
    "# Инициализация моделей\r\n",
    "nav_inspect = ObjectInspect()\r\n",
    "nav_visualservoing = VisualServoing()\r\n",
    "detection_rt_detr = RT_DETR(use_local=True)  # Инициализация модели детекции"
   ]
  },
  {
   "cell_type": "code",
   "execution_count": null,
   "id": "b645c72e",
   "metadata": {},
   "outputs": [
    {
     "name": "stdout",
     "output_type": "stream",
     "text": [
      "Connected!\n",
      "Client Ver:1 (Min Req: 1), Server Ver:1 (Min Req: 1)\n",
      "\n"
     ]
    }
   ],
   "source": [
    "# ===== Подключение к дрону и взлёт =====\r\n",
    "\r\n",
    "client = airgen.MultirotorClient()\r\n",
    "client.confirmConnection()\r\n",
    "client.enableApiControl(True)\r\n",
    "client.armDisarm(True)\r\n",
    "# ===== Взлет дрона =====\r\n",
    "\r\n",
    "client.takeoffAsync().join()\r\n",
    "\r\n",
    "# ===== Посадка дрона =====\r\n",
    "\r\n",
    "#client.landAsync().join()"
   ]
  },
  {
   "cell_type": "code",
   "execution_count": null,
   "id": "9c6be46b",
   "metadata": {},
   "outputs": [
    {
     "name": "stdout",
     "output_type": "stream",
     "text": [
      "Available cameras:\n",
      "PlayerCameraManager_2147482464\n",
      "CameraManagerActor\n",
      "ExternalCamera\n",
      "BP_PIPCamera_C_2147482424\n",
      "BP_PIPCamera_C_2147482412\n",
      "BP_PIPCamera_C_2147482400\n",
      "BP_PIPCamera_C_2147482388\n",
      "BP_PIPCamera_C_2147482376\n"
     ]
    }
   ],
   "source": [
    "# ===== Проверка установленных камер ALTA X =====\r\n",
    "\r\n",
    "scene_client = airgen.VehicleClient()\r\n",
    "scene_objects = scene_client.simListSceneObjects()\r\n",
    "cameras = [obj for obj in scene_objects if 'camera' in obj.lower()]\r\n",
    "\r\n",
    "print(\"Available cameras:\")\r\n",
    "for camera in cameras:\r\n",
    "    print(camera)"
   ]
  },
  {
   "cell_type": "code",
   "execution_count": null,
   "id": "e7cb0b59",
   "metadata": {},
   "outputs": [],
   "source": [
    "# ===== Получение данных LiDAR + визуализация =====\r\n",
    "\r\n",
    "lidar_data = client.getLidarData()\r\n",
    "points = np.array(lidar_data.point_cloud, dtype=np.float32).reshape(-1, 3)\r\n",
    "rr.log('lidar/points', rr.Points3D(points))"
   ]
  },
  {
   "cell_type": "code",
   "execution_count": null,
   "id": "73ad504b",
   "metadata": {},
   "outputs": [],
   "source": [
    "# ===== Получение и логирование изображения с камеры =====\r\n",
    "\r\n",
    "image_data = client.getImages(\"front_center\", [airgen.ImageType.Scene])[0]\r\n",
    "rgb_image, _ = image_data  # Получаем изображение и позу\r\n",
    "rr.log(\"drone/camera\", rr.Image(rgb_image))"
   ]
  },
  {
   "cell_type": "code",
   "execution_count": null,
   "id": "1a215cc2",
   "metadata": {},
   "outputs": [],
   "source": [
    "# ===== Получение и логирование GPS =====\r\n",
    "\r\n",
    "gps_data = client.getGpsData()\r\n",
    "geo = gps_data.gnss.geo_point\r\n",
    "gps_position = np.array([[geo.latitude, geo.longitude, geo.altitude]], dtype=np.float32)\r\n",
    "rr.log(\"drone/gps\", rr.Points3D(gps_position))"
   ]
  },
  {
   "cell_type": "code",
   "execution_count": null,
   "id": "26f1be91",
   "metadata": {},
   "outputs": [
    {
     "name": "stdout",
     "output_type": "stream",
     "text": [
      "❗ Объекты не обнаружены.\n"
     ]
    }
   ],
   "source": [
    "# ===== Инициализация =====\r\n",
    "depth_model = Metric3D()\r\n",
    "depth_map = depth_model.run(rgb_image)\r\n",
    "\r\n",
    "result = detection_rt_detr.run(input=rgb_image.copy(), confidence_threshold=0.3)\r\n",
    "\r\n",
    "if isinstance(result, dict) and 'boxes' in result:\r\n",
    "    filtered_boxes = []\r\n",
    "    filtered_labels = []\r\n",
    "    filtered_distances = []\r\n",
    "\r\n",
    "    ignore_labels = [\"grass\", \"floor\", \"ground\", \"road\", \"terrain\"]\r\n",
    "    min_distance = 2\r\n",
    "    max_distance = 20\r\n",
    "\r\n",
    "    # Центр изображения — точка откуда \"исходит БПЛА\"\r\n",
    "    img_center = (rgb_image.shape[1] // 2, rgb_image.shape[0] // 2)\r\n",
    "\r\n",
    "    image_with_lines = rgb_image.copy()\r\n",
    "\r\n",
    "    for box, label in zip(result[\"boxes\"], result[\"labels\"]):\r\n",
    "        x, y, w, h = map(int, box)\r\n",
    "        cx = x + w // 2\r\n",
    "        cy = y + h // 2\r\n",
    "\r\n",
    "        if 0 <= cy < depth_map.shape[0] and 0 <= cx < depth_map.shape[1]:\r\n",
    "            distance = depth_map[cy, cx]\r\n",
    "\r\n",
    "            if (min_distance <= distance <= max_distance) and (label.lower() not in ignore_labels):\r\n",
    "                filtered_boxes.append([x, y, w, h])\r\n",
    "                filtered_labels.append(label)\r\n",
    "                filtered_distances.append(distance)\r\n",
    "\r\n",
    "                # ===== Отрисовка линии до объекта =====\r\n",
    "                line_color = (0, 255, 0) if distance > 10 else (0, 255, 255) if distance > 5 else (0, 0, 255)\r\n",
    "                cv2.line(image_with_lines, img_center, (cx, cy), line_color, 2)\r\n",
    "\r\n",
    "                # Подпись расстояния у центра объекта\r\n",
    "                cv2.putText(image_with_lines, f\"{distance:.1f}m\", (cx + 5, cy),\r\n",
    "                            cv2.FONT_HERSHEY_SIMPLEX, 0.5, line_color, 2)\r\n",
    "\r\n",
    "    # ===== Отрисовка боксов =====\r\n",
    "    for i, box in enumerate(filtered_boxes):\r\n",
    "        x, y, w, h = box\r\n",
    "        cv2.rectangle(image_with_lines, (x, y), (x + w, y + h), (255, 0, 0), 2)\r\n",
    "        cv2.putText(image_with_lines, filtered_labels[i], (x, y - 10),\r\n",
    "                    cv2.FONT_HERSHEY_SIMPLEX, 0.5, (255, 0, 0), 2)\r\n",
    "\r\n",
    "        rr.log(\r\n",
    "            f\"drone/object_{i}\",\r\n",
    "            rr.Boxes2D(np.array([[x, y, w, h]]), labels=[f\"{filtered_labels[i]} - {filtered_distances[i]:.1f}m\"])\r\n",
    "        )\r\n",
    "\r\n",
    "    # ===== Лог финального изображения =====\r\n",
    "    rr.log(\"drone/camera\", rr.Image(image_with_lines))\r\n",
    "\r\n",
    "else:\r\n",
    "    print(\"❗ Объекты не обнаружены.\")"
   ]
  },
  {
   "cell_type": "code",
   "execution_count": null,
   "id": "9bf03bf4",
   "metadata": {},
   "outputs": [],
   "source": []
  },
  {
   "cell_type": "code",
   "execution_count": null,
   "id": "e1289b36",
   "metadata": {},
   "outputs": [
    {
     "name": "stdout",
     "output_type": "stream",
     "text": [
      "🔎 Обнаружено объектов по LiDAR: 9\n",
      " - Объект 1: ~11.9 м\n",
      " - Объект 2: ~12.0 м\n",
      " - Объект 3: ~46.0 м\n",
      " - Объект 4: ~12.0 м\n",
      " - Объект 5: ~11.9 м\n",
      " - Объект 6: ~8.0 м\n",
      " - Объект 7: ~10.2 м\n",
      " - Объект 8: ~10.3 м\n",
      " - Объект 9: ~0.1 м\n"
     ]
    }
   ],
   "source": [
    "# ===== Получение и подготовка данных LiDAR =====\r\n",
    "lidar_data = client.getLidarData()\r\n",
    "points = np.array(lidar_data.point_cloud, dtype=np.float32).reshape(-1, 3)\r\n",
    "\r\n",
    "# ===== Фильтрация: исключаем \"землю\" (высота < 0.2 м) =====\r\n",
    "above_ground = points[points[:, 2] > 0.2]\r\n",
    "\r\n",
    "# ===== Кластеризация (DBSCAN) =====\r\n",
    "clustering = DBSCAN(eps=1.0, min_samples=10).fit(above_ground[:, :2])  # кластеризация по X, Y\r\n",
    "labels = clustering.labels_\r\n",
    "\r\n",
    "# ===== Обработка кластеров =====\r\n",
    "unique_labels = set(labels)\r\n",
    "object_centers = []\r\n",
    "object_distances = []\r\n",
    "\r\n",
    "for label in unique_labels:\r\n",
    "    if label == -1:\r\n",
    "        continue  # -1 означает шум\r\n",
    "\r\n",
    "    cluster_points = above_ground[labels == label]\r\n",
    "    center = cluster_points.mean(axis=0)\r\n",
    "    distance = np.linalg.norm(center[:2])\r\n",
    "    \r\n",
    "    object_centers.append(center)\r\n",
    "    object_distances.append(distance)\r\n",
    "\r\n",
    "# ===== Логгирование =====\r\n",
    "rr.log(\"lidar/points\", rr.Points3D(points))\r\n",
    "rr.log(\"lidar/objects\", rr.Points3D(np.array(object_centers)))\r\n",
    "\r\n",
    "print(f\"🔎 Обнаружено объектов по LiDAR: {len(object_centers)}\")\r\n",
    "for i, dist in enumerate(object_distances):\r\n",
    "    print(f\" - Объект {i+1}: ~{dist:.1f} м\")\r\n"
   ]
  },
  {
   "cell_type": "code",
   "execution_count": null,
   "id": "9b913613",
   "metadata": {},
   "outputs": [],
   "source": [
    "# ===== Построение и визуализация кругового маршрута =====\r\n",
    "\r\n",
    "lidar_data = client.getLidarData()\r\n",
    "points = np.array(lidar_data.point_cloud, dtype=np.float32).reshape(-1, 3)\r\n",
    "\r\n",
    "# Визуализация\r\n",
    "rr.log('lidar/points', rr.Points3D(points))\r\n",
    "\r\n",
    "# Стартовая точка\r\n",
    "start = client.getMultirotorState().kinematics_estimated.position\r\n",
    "takeoff_alt = -15  # минус = вверх в NED\r\n",
    "center = start\r\n",
    "radius = 10\r\n",
    "steps = 12  # количество точек круга\r\n",
    "\r\n",
    "# Построение круга\r\n",
    "trajectory = []\r\n",
    "for i in range(steps):\r\n",
    "    angle = 2 * pi * (i / steps)\r\n",
    "    x = center.x_val + radius * cos(angle)\r\n",
    "    y = center.y_val + radius * sin(angle)\r\n",
    "    z = takeoff_alt\r\n",
    "    trajectory.append(airgen.Vector3r(x, y, z))\r\n",
    "\r\n",
    "# Возврат к центру\r\n",
    "trajectory.append(airgen.Vector3r(center.x_val, center.y_val, takeoff_alt))\r\n",
    "\r\n",
    "# Визуализация маршрута\r\n",
    "rr.log(\"telemetry/path\", rr.LineStrips3D([[(p.x_val, p.y_val, p.z_val) for p in trajectory]]))"
   ]
  },
  {
   "cell_type": "code",
   "execution_count": null,
   "id": "ac72d9ce",
   "metadata": {},
   "outputs": [],
   "source": [
    "# ===== Плавное движение по маршруту и посадка =====\r\n",
    "\r\n",
    "lidar_data = client.getLidarData()\r\n",
    "points = np.array(lidar_data.point_cloud, dtype=np.float32).reshape(-1, 3)\r\n",
    "\r\n",
    "# Визуализация\r\n",
    "rr.log('lidar/points', rr.Points3D(points))\r\n",
    "velocity = 3.0  # Плавная скорость\r\n",
    "\r\n",
    "client.moveOnPathAsync(\r\n",
    "    trajectory,\r\n",
    "    velocity,\r\n",
    "    300,\r\n",
    "    airgen.DrivetrainType.ForwardOnly,\r\n",
    "    airgen.YawMode(False, 0),\r\n",
    "    -1, 0\r\n",
    ").join()\r\n",
    "\r\n",
    "# Плавная посадка\r\n",
    "landing_point = airgen.Vector3r(center.x_val, center.y_val, -2)\r\n",
    "client.moveToPositionAsync(landing_point.x_val, landing_point.y_val, landing_point.z_val, 1).join()"
   ]
  }
 ],
 "metadata": {},
 "nbformat": 4,
 "nbformat_minor": 5
}
