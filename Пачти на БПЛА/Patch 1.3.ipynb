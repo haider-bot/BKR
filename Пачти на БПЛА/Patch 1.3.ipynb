{
  "cells": [
    {
      "cell_type": "code",
      "execution_count": null,
      "id": "c34bdbab",
      "metadata": {},
      "outputs": [],
      "source": [
        "import time\n",
        "import numpy as np\n",
        "from ipywidgets import interact, FloatSlider\n",
        "from grid.robot.aerial.airgen_drone import AirGenDrone\n",
        "import heapq"
      ]
    },
    {
      "cell_type": "code",
      "execution_count": null,
      "id": "03c457bb",
      "metadata": {},
      "outputs": [],
      "source": [
        "# Вектор скорости\n",
        "class Velocity:\n",
        "    def __init__(self, x_vel=0.0, y_vel=0.0, z_vel=0.0):\n",
        "        self.x_vel = x_vel\n",
        "        self.y_vel = y_vel\n",
        "        self.z_vel = z_vel\n",
        "\n",
        "# Простейшая симуляция LiDAR — 2 препятствия в пространстве\n",
        "def simulated_lidar_scan(position, radius=5.0):\n",
        "    obstacles = [\n",
        "        (2, 2, 1),\n",
        "        (4, 4, 1)\n",
        "    ]\n",
        "    return [obs for obs in obstacles if np.linalg.norm(np.subtract(obs, position)) <= radius]\n",
        "\n",
        "# A* поиск пути с обходом препятствий на 2D-сетке\n",
        "def astar(start, goal, obstacles, bounds=(-10, 10)):\n",
        "    def neighbors(node):\n",
        "        x, y = node\n",
        "        for dx, dy in [(-1,0),(1,0),(0,-1),(0,1)]:\n",
        "            nx, ny = x + dx, y + dy\n",
        "            if bounds[0] <= nx <= bounds[1] and bounds[0] <= ny <= bounds[1]:\n",
        "                yield (nx, ny)\n",
        "\n",
        "    def heuristic(a, b):\n",
        "        return np.linalg.norm(np.subtract(a, b))\n",
        "\n",
        "    start = tuple(map(int, start[:2]))\n",
        "    goal = tuple(map(int, goal[:2]))\n",
        "    obs_set = {tuple(map(int, o[:2])) for o in obstacles}\n",
        "\n",
        "    frontier = [(0, start)]\n",
        "    came_from = {start: None}\n",
        "    cost_so_far = {start: 0}\n",
        "\n",
        "    while frontier:\n",
        "        _, current = heapq.heappop(frontier)\n",
        "        if current == goal:\n",
        "            break\n",
        "        for next_node in neighbors(current):\n",
        "            if next_node in obs_set:\n",
        "                continue\n",
        "            new_cost = cost_so_far[current] + 1\n",
        "            if next_node not in cost_so_far or new_cost < cost_so_far[next_node]:\n",
        "                cost_so_far[next_node] = new_cost\n",
        "                priority = new_cost + heuristic(goal, next_node)\n",
        "                heapq.heappush(frontier, (priority, next_node))\n",
        "                came_from[next_node] = current\n",
        "\n",
        "    node = goal\n",
        "    path = []\n",
        "    while node:\n",
        "        path.append((node[0], node[1], start_pos[2]))  # фиксируем высоту\n",
        "        node = came_from.get(node)\n",
        "    return path[::-1] if path else []"
      ]
    },
    {
      "cell_type": "code",
      "execution_count": null,
      "id": "6ac752b4",
      "metadata": {},
      "outputs": [
        {
          "name": "stdout",
          "output_type": "stream",
          "text": [
            "Целевая точка установлена: [5.0, 5.0, 3.0]\n"
          ]
        },
        {
          "data": {
            "application/vnd.jupyter.widget-view+json": {
              "model_id": "8f84ea3674114aaaa80f59560a1dc417",
              "version_major": 2,
              "version_minor": 0
            },
            "text/plain": [
              "interactive(children=(FloatSlider(value=5.0, description='X:', max=10.0, min=-10.0, step=1.0), FloatSlider(val…"
            ]
          },
          "metadata": {},
          "output_type": "display_data"
        }
      ],
      "source": [
        "# Для интерфейса пользователя\n",
        "\n",
        "start_pos = [0.0, 0.0, 1.0]\n",
        "\n",
        "@interact(\n",
        "    x=FloatSlider(min=-10, max=10, step=1, value=5, description='X:'),\n",
        "    y=FloatSlider(min=-10, max=10, step=1, value=5, description='Y:'),\n",
        "    z=FloatSlider(min=0, max=10, step=1, value=3, description='Z:')\n",
        ")\n",
        "def set_target(x, y, z):\n",
        "    global target_pos\n",
        "    target_pos = [x, y, z]\n",
        "    print(f\"Целевая точка установлена: {target_pos}\")"
      ]
    },
    {
      "cell_type": "code",
      "execution_count": null,
      "id": "e7a16a4d",
      "metadata": {},
      "outputs": [
        {
          "name": "stdout",
          "output_type": "stream",
          "text": [
            "Connected!\n",
            ",Client Ver:1 (Min Req: 1), Server Ver:1 (Min Req: 1)\n",
            ",\n"
          ]
        }
      ],
      "source": [
        "# Управление дроном и симуляция команд\n",
        "\n",
        "drone = AirGenDrone()\n",
        "\n",
        "def takeoff():\n",
        "    print(\"Взлёт...\")\n",
        "    drone.takeoff()\n",
        "    time.sleep(1)\n",
        "\n",
        "def land():\n",
        "    print(\"Посадка...\")\n",
        "    drone.land()\n",
        "    time.sleep(1)\n",
        "\n",
        "def fly_to_point(path, speed=1.0):\n",
        "    print(\"Начинаем движение по маршруту...\")\n",
        "    prev = path[0]\n",
        "    for point in path[1:]:\n",
        "        dx = point[0] - prev[0]\n",
        "        dy = point[1] - prev[1]\n",
        "        dz = point[2] - prev[2]\n",
        "\n",
        "        norm = np.linalg.norm([dx, dy, dz])\n",
        "        if norm == 0:\n",
        "            continue\n",
        "\n",
        "        vx = speed * dx / norm\n",
        "        vy = speed * dy / norm\n",
        "        vz = speed * dz / norm\n",
        "\n",
        "        vel = Velocity(x_vel=vx, y_vel=vy, z_vel=vz)\n",
        "        drone.moveByVelocity(vel, duration=1, frame='ned', blocking=True)\n",
        "        print(f\"➡ Движение к точке: {point}\")\n",
        "        prev = point\n",
        "        time.sleep(0.5)"
      ]
    },
    {
      "cell_type": "code",
      "execution_count": null,
      "id": "bdccd07b",
      "metadata": {},
      "outputs": [],
      "source": [
        "# Пример вызова после задания цели\n",
        "\n",
        "def fly_mission():\n",
        "    takeoff()\n",
        "    \"Сканирование окружения...\")\n",
        "    obstacles = simulated_lidar_scan(start_pos)\n",
        "   (f\"Обнаружены препятствия: {obstacles}\")\n",
        "\n",
        "int(\"Построение безопасного маршрута...\")\n",
        "    path = astar(start_pos, target_pos, obstacles)\n",
        "    if not path:\n",
        "    print(\"Не удалось построить маршрут. Попробуй другую цель.\")\n",
        "        land()\n",
        "        return\n",
        "\n",
        "    fly_to_point(path)\n",
        "    land()\n"
      ]
    },
    {
      "cell_type": "code",
      "execution_count": null,
      "id": "58cd9421",
      "metadata": {},
      "outputs": [],
      "source": []
    }
  ],
  "metadata": {
    "kernelspec": {
      "display_name": "Python (Pyodide)",
      "language": "python",
      "name": "python"
    },
    "language_info": {
      "codemirror_mode": {
        "name": "python",
        "version": 3
      },
      "file_extension": ".py",
      "mimetype": "text/x-python",
      "name": "python",
      "nbconvert_exporter": "python",
      "pygments_lexer": "ipython3",
      "version": "3.8"
    }
  },
  "nbformat": 4,
  "nbformat_minor": 5
}
