{
 "cells": [
  {
   "cell_type": "code",
   "execution_count": null,
   "id": "c34bdbab",
   "metadata": {},
   "outputs": [],
   "source": [
    "import time\n",
    "import numpy as np\n",
    "from ipywidgets import interact, FloatSlider\n",
    "from grid.robot.aerial.airgen_drone import AirGenDrone\n",
    "import heapq"
   ]
  },
  {
   "cell_type": "code",
   "execution_count": null,
   "id": "03c457bb",
   "metadata": {},
   "outputs": [],
   "source": [
    "# Вектор скорости\r\n",
    "class Velocity:\r\n",
    "    def __init__(self, x_vel=0.0, y_vel=0.0, z_vel=0.0):\r\n",
    "        self.x_vel = x_vel\r\n",
    "        self.y_vel = y_vel\r\n",
    "        self.z_vel = z_vel\r\n",
    "\r\n",
    "# Простейшая симуляция LiDAR — 2 препятствия в пространстве\r\n",
    "def simulated_lidar_scan(position, radius=5.0):\r\n",
    "    obstacles = [\r\n",
    "        (2, 2, 1),\r\n",
    "        (4, 4, 1)\r\n",
    "    ]\r\n",
    "    return [obs for obs in obstacles if np.linalg.norm(np.subtract(obs, position)) <= radius]\r\n",
    "\r\n",
    "# A* поиск пути с обходом препятствий на 2D-сетке\r\n",
    "def astar(start, goal, obstacles, bounds=(-10, 10)):\r\n",
    "    def neighbors(node):\r\n",
    "        x, y = node\r\n",
    "        for dx, dy in [(-1,0),(1,0),(0,-1),(0,1)]:\r\n",
    "            nx, ny = x + dx, y + dy\r\n",
    "            if bounds[0] <= nx <= bounds[1] and bounds[0] <= ny <= bounds[1]:\r\n",
    "                yield (nx, ny)\r\n",
    "\r\n",
    "    def heuristic(a, b):\r\n",
    "        return np.linalg.norm(np.subtract(a, b))\r\n",
    "\r\n",
    "    start = tuple(map(int, start[:2]))\r\n",
    "    goal = tuple(map(int, goal[:2]))\r\n",
    "    obs_set = {tuple(map(int, o[:2])) for o in obstacles}\r\n",
    "\r\n",
    "    frontier = [(0, start)]\r\n",
    "    came_from = {start: None}\r\n",
    "    cost_so_far = {start: 0}\r\n",
    "\r\n",
    "    while frontier:\r\n",
    "        _, current = heapq.heappop(frontier)\r\n",
    "        if current == goal:\r\n",
    "            break\r\n",
    "        for next_node in neighbors(current):\r\n",
    "            if next_node in obs_set:\r\n",
    "                continue\r\n",
    "            new_cost = cost_so_far[current] + 1\r\n",
    "            if next_node not in cost_so_far or new_cost < cost_so_far[next_node]:\r\n",
    "                cost_so_far[next_node] = new_cost\r\n",
    "                priority = new_cost + heuristic(goal, next_node)\r\n",
    "                heapq.heappush(frontier, (priority, next_node))\r\n",
    "                came_from[next_node] = current\r\n",
    "\r\n",
    "    node = goal\r\n",
    "    path = []\r\n",
    "    while node:\r\n",
    "        path.append((node[0], node[1], start_pos[2]))  # фиксируем высоту\r\n",
    "        node = came_from.get(node)\r\n",
    "    return path[::-1] if path else []"
   ]
  },
  {
   "cell_type": "code",
   "execution_count": null,
   "id": "6ac752b4",
   "metadata": {},
   "outputs": [
    {
     "name": "stdout",
     "output_type": "stream",
     "text": [
      "Целевая точка установлена: [5.0, 5.0, 3.0]\n"
     ]
    },
    {
     "data": {
      "application/vnd.jupyter.widget-view+json": {
       "model_id": "8f84ea3674114aaaa80f59560a1dc417",
       "version_major": 2,
       "version_minor": 0
      },
      "text/plain": [
       "interactive(children=(FloatSlider(value=5.0, description='X:', max=10.0, min=-10.0, step=1.0), FloatSlider(val…"
      ]
     },
     "metadata": {},
     "output_type": "display_data"
    }
   ],
   "source": [
    "# Для интерфейса пользователя\r\n",
    "\r\n",
    "start_pos = [0.0, 0.0, 1.0]\r\n",
    "\r\n",
    "@interact(\r\n",
    "    x=FloatSlider(min=-10, max=10, step=1, value=5, description='X:'),\r\n",
    "    y=FloatSlider(min=-10, max=10, step=1, value=5, description='Y:'),\r\n",
    "    z=FloatSlider(min=0, max=10, step=1, value=3, description='Z:')\r\n",
    ")\r\n",
    "def set_target(x, y, z):\r\n",
    "    global target_pos\r\n",
    "    target_pos = [x, y, z]\r\n",
    "    print(f\"Целевая точка установлена: {target_pos}\")"
   ]
  },
  {
   "cell_type": "code",
   "execution_count": null,
   "id": "e7a16a4d",
   "metadata": {},
   "outputs": [
    {
     "name": "stdout",
     "output_type": "stream",
     "text": [
      "Connected!\n",
      "Client Ver:1 (Min Req: 1), Server Ver:1 (Min Req: 1)\n",
      "\n"
     ]
    }
   ],
   "source": [
    "# Управление дроном и симуляция команд\r\n",
    "\r\n",
    "drone = AirGenDrone()\r\n",
    "\r\n",
    "def takeoff():\r\n",
    "    print(\"Взлёт...\")\r\n",
    "    drone.takeoff()\r\n",
    "    time.sleep(1)\r\n",
    "\r\n",
    "def land():\r\n",
    "    print(\"Посадка...\")\r\n",
    "    drone.land()\r\n",
    "    time.sleep(1)\r\n",
    "\r\n",
    "def fly_to_point(path, speed=1.0):\r\n",
    "    print(\"Начинаем движение по маршруту...\")\r\n",
    "    prev = path[0]\r\n",
    "    for point in path[1:]:\r\n",
    "        dx = point[0] - prev[0]\r\n",
    "        dy = point[1] - prev[1]\r\n",
    "        dz = point[2] - prev[2]\r\n",
    "\r\n",
    "        norm = np.linalg.norm([dx, dy, dz])\r\n",
    "        if norm == 0:\r\n",
    "            continue\r\n",
    "\r\n",
    "        vx = speed * dx / norm\r\n",
    "        vy = speed * dy / norm\r\n",
    "        vz = speed * dz / norm\r\n",
    "\r\n",
    "        vel = Velocity(x_vel=vx, y_vel=vy, z_vel=vz)\r\n",
    "        drone.moveByVelocity(vel, duration=1, frame='ned', blocking=True)\r\n",
    "        print(f\"➡ Движение к точке: {point}\")\r\n",
    "        prev = point\r\n",
    "        time.sleep(0.5)"
   ]
  },
  {
   "cell_type": "code",
   "execution_count": null,
   "id": "bdccd07b",
   "metadata": {},
   "outputs": [],
   "source": [
    "# Пример вызова после задания цели\r\n",
    "\r\n",
    "def fly_mission():\r\n",
    "    takeoff()\r\n",
    "    print(\"🔍 Сканирование окружения...\")\r\n",
    "    obstacles = simulated_lidar_scan(start_pos)\r\n",
    "    print(f\"🧱 Обнаружены препятствия: {obstacles}\")\r\n",
    "\r\n",
    "    print(\"📡 Построение безопасного маршрута...\")\r\n",
    "    path = astar(start_pos, target_pos, obstacles)\r\n",
    "    if not path:\r\n",
    "        print(\"❌ Не удалось построить маршрут. Попробуй другую цель.\")\r\n",
    "        land()\r\n",
    "        return\r\n",
    "\r\n",
    "    fly_to_point(path)\r\n",
    "    land()\r\n"
   ]
  },
  {
   "cell_type": "code",
   "execution_count": null,
   "id": "58cd9421",
   "metadata": {},
   "outputs": [],
   "source": []
  }
 ],
 "metadata": {},
 "nbformat": 4,
 "nbformat_minor": 5
}
